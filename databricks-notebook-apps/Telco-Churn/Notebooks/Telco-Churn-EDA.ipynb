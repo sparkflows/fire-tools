{
 "cells": [
  {
   "cell_type": "markdown",
   "metadata": {
    "application/vnd.databricks.v1+cell": {
     "cellMetadata": {
      "byteLimit": 2048000,
      "rowLimit": 10000
     },
     "inputWidgets": {},
     "nuid": "53f0cb29-b0c8-4a5f-96e1-70d919e8704a",
     "showTitle": false,
     "tableResultSettingsMap": {},
     "title": ""
    },
    "papermill": {
     "duration": 0.015731,
     "end_time": "2024-08-01T22:26:39.009133",
     "exception": false,
     "start_time": "2024-08-01T22:26:38.993402",
     "status": "completed"
    },
    "tags": []
   },
   "source": [
    "**Project Objective:**\n",
    "\n",
    "In this Exploratory Data Analysis (EDA) project focused on telecommunications churn, our primary goal is to understand customer behavior, identify patterns associated with customer churn, and visualize key metrics that could influence business strategies for customer retention. We utilize a dataset containing customer information from a telecom company to analyze churn behavior through various statistical and visual methods.\n",
    "\n",
    "**Key Highlights:**\n",
    "\n",
    "- **Data Filtering and Cleaning:** We implement a flexible filtering system to analyze data based on different criteria like state, international plan, and voicemail plan, allowing for targeted insights into customer segments.\n",
    "\n",
    "- **Summary Statistics:** By computing comprehensive summary statistics on both the entire dataset and filtered subsets, we aim to uncover basic trends and anomalies in customer behavior related to service usage and churn.\n",
    "\n",
    "- **Correlation Analysis:** We examine the relationships between various numeric and boolean features to understand how different service features correlate with each other and with churn. This is visualized through a heatmap, providing an intuitive look at which factors might be influencing customer churn.\n",
    "\n",
    "- **Churn Distribution Visualization:** \n",
    "  - **Pie Chart:** To illustrate the overall churn rate within the customer base, providing a quick visual on the proportion of churn versus non-churn customers.\n",
    "  - **Box Plot:** Analyzing the distribution of customer service calls by churn status to see if there's a noticeable difference in service interaction between churned and non-churned customers.\n",
    "  - **Count Plot:** To explore how the subscription to international plans correlates with churn, offering insights into product preference and its impact on customer retention.\n",
    "\n",
    "- **Group Analysis:** Grouping data by churn status to compare total charges across different service categories (day, evening, night, international), which helps in understanding if billing or usage patterns affect churn.\n",
    "\n",
    "**Project Goals:**\n",
    "\n",
    "- **Identify Churn Indicators:** Through statistical analysis and visualizations, pinpoint which services or behaviors are most indicative of a customers likelihood to churn.\n",
    "\n",
    "- **Inform Retention Strategies:** Use insights from the EDA to suggest where the telecom company might focus its retention efforts or adjust its service offerings.\n",
    "\n",
    "- **Enhance Data-Driven Decision Making:** Provide a clear, visual, and statistical foundation for stakeholders to make informed decisions regarding marketing, customer service improvements, or product adjustments aimed at reducing churn.\n",
    "\n",
    "This project not only seeks to predict churn but also to understand the underlying reasons for customer attrition in the telecom sector, thereby aiding in the development of more targeted and effective customer retention strategies."
   ]
  },
  {
   "cell_type": "code",
   "execution_count": 0,
   "metadata": {
    "_cell_guid": "b1076dfc-b9ad-4769-8c92-a6c4dae69d19",
    "_uuid": "8f2839f25d086af736a60e9eeb907d3b93b6e0e5",
    "application/vnd.databricks.v1+cell": {
     "cellMetadata": {
      "byteLimit": 2048000,
      "rowLimit": 10000
     },
     "inputWidgets": {},
     "nuid": "b064134d-efe9-4adc-84e8-700f3b253530",
     "showTitle": false,
     "tableResultSettingsMap": {},
     "title": ""
    },
    "execution": {
     "iopub.execute_input": "2024-08-01T22:26:39.037301Z",
     "iopub.status.busy": "2024-08-01T22:26:39.036870Z",
     "iopub.status.idle": "2024-08-01T22:26:43.632860Z",
     "shell.execute_reply": "2024-08-01T22:26:43.631583Z"
    },
    "papermill": {
     "duration": 4.613486,
     "end_time": "2024-08-01T22:26:43.635907",
     "exception": false,
     "start_time": "2024-08-01T22:26:39.022421",
     "status": "completed"
    },
    "tags": []
   },
   "outputs": [],
   "source": [
    "import time\n",
    "import numpy as np\n",
    "import pandas as pd\n",
    "from matplotlib import pyplot as plt\n",
    "import seaborn as sns\n",
    "!pip install tabulate\n",
    "import warnings\n",
    "from tabulate import tabulate\n",
    "\n",
    "import plotly.graph_objs as go\n",
    "import plotly\n",
    "\n",
    "\n",
    "import sys\n",
    "from pyspark.sql import SparkSession\n",
    "# Create a SparkSession\n",
    "spark = SparkSession.builder.getOrCreate()\n",
    "\n",
    "pd.set_option('display.max_columns', None)\n",
    "pd.set_option('display.width', 500)\n",
    "warnings.filterwarnings('ignore')"
   ]
  },
  {
   "cell_type": "code",
   "execution_count": 0,
   "metadata": {
    "application/vnd.databricks.v1+cell": {
     "cellMetadata": {
      "byteLimit": 2048000,
      "rowLimit": 10000
     },
     "inputWidgets": {},
     "nuid": "ea9657f0-7be1-497a-8710-583ec3b7c72c",
     "showTitle": false,
     "tableResultSettingsMap": {},
     "title": ""
    }
   },
   "outputs": [],
   "source": [
    "#Widgets used to pass value\n",
    "dbutils.widgets.text(\"job-id\", \"100\")\n",
    "dbutils.widgets.text(\"postback-url\", \"\")\n",
    "jobId = dbutils.widgets.get(\"job-id\")\n",
    "webserverURL = dbutils.widgets.get(\"postback-url\")\n",
    "#Initialize and Start Execution\n",
    "from fire_notebook.output.workflowcontext import RestWorkflowContext\n",
    "restworkflowcontext = RestWorkflowContext(webserverURL, jobId)\n",
    "message=\"20\"\n",
    "restworkflowcontext.outputProgress(9, title=\"Progress\", progress=message)"
   ]
  },
  {
   "cell_type": "code",
   "execution_count": 0,
   "metadata": {
    "application/vnd.databricks.v1+cell": {
     "cellMetadata": {
      "byteLimit": 2048000,
      "rowLimit": 10000
     },
     "inputWidgets": {},
     "nuid": "bb53f919-8fb4-4fcd-b1e2-151f7ce81938",
     "showTitle": false,
     "tableResultSettingsMap": {},
     "title": ""
    }
   },
   "outputs": [],
   "source": [
    "dbutils.widgets.text(\"arg_state\", \"%\")\n",
    "dbutils.widgets.text(\"arg_intl_plan\", \"%\")\n",
    "dbutils.widgets.text(\"arg_voice_mail_plan\", \"%\")\n",
    "\n",
    "state_filter = dbutils.widgets.get(\"arg_state\").strip().lower()\n",
    "intl_plan_filter = dbutils.widgets.get(\"arg_intl_plan\")\n",
    "voice_mail_filter = dbutils.widgets.get(\"arg_voice_mail_plan\")\n",
    "\n",
    "#print(\"state_filter value is\", state_filter)\n",
    "FILE_PATH = \"/dbfs/FileStore/churn.all\"\n",
    "# Read the CSV file, treating empty strings as NaN and forcing 'churned' to be read as a string\n",
    "colnames=[\"state\",\"account_length\",\"area_code\",\"phone_number\",\"intl_plan\",\"voice_mail_plan\",\"number_vmail_messages\",\"total_day_minutes\",\"total_day_calls\",\"total_day_charge\",\"total_eve_minutes\",\"total_eve_calls\",\"total_eve_charge\",\"total_night_minutes\",\"total_night_calls\",\"total_night_charge\",\"total_intl_minutes\",\"total_intl_calls\",\"total_intl_charge\",\"number_customer_service_calls\",\"churned\"]\n",
    "df = pd.read_csv(FILE_PATH, names=colnames, header=None, na_values=[''], keep_default_na=False, dtype={'churned': str})\n",
    "'''\n",
    "df = df.applymap(lambda x: x.strip() if isinstance(x, str) else x)\n",
    "df = df[df['churned'].isin(['True.', 'False.'])]  #This is the key line\n",
    "'''\n",
    "df = df.applymap(lambda x: x.strip().lower() if isinstance(x, str) else x)\n",
    "# Filter rows with valid 'churned' values\n",
    "df = df[df['churned'].isin(['true.', 'false.'])]\n",
    "\n",
    "\n",
    "#print(\"Unique values in 'state' column (after cleaning):\", df['state'].unique())\n",
    "#print(\"state_filter string:\", state_filter)  #Print the value of state_filter, before splitting it"
   ]
  },
  {
   "cell_type": "markdown",
   "metadata": {
    "application/vnd.databricks.v1+cell": {
     "cellMetadata": {
      "byteLimit": 2048000,
      "rowLimit": 10000
     },
     "inputWidgets": {},
     "nuid": "686a4f8b-9308-4e6d-80c8-e3af03434fc2",
     "showTitle": false,
     "tableResultSettingsMap": {},
     "title": ""
    },
    "papermill": {
     "duration": 0.013106,
     "end_time": "2024-08-01T22:26:43.662284",
     "exception": false,
     "start_time": "2024-08-01T22:26:43.649178",
     "status": "completed"
    },
    "tags": []
   },
   "source": [
    "### EDA Functions"
   ]
  },
  {
   "cell_type": "code",
   "execution_count": 0,
   "metadata": {
    "application/vnd.databricks.v1+cell": {
     "cellMetadata": {
      "byteLimit": 2048000,
      "rowLimit": 10000
     },
     "inputWidgets": {},
     "nuid": "61e3d8e6-e40c-4213-b43c-045fef96ef8b",
     "showTitle": false,
     "tableResultSettingsMap": {},
     "title": ""
    },
    "execution": {
     "iopub.execute_input": "2024-08-01T22:26:43.692849Z",
     "iopub.status.busy": "2024-08-01T22:26:43.691613Z",
     "iopub.status.idle": "2024-08-01T22:26:43.707174Z",
     "shell.execute_reply": "2024-08-01T22:26:43.705841Z"
    },
    "papermill": {
     "duration": 0.034559,
     "end_time": "2024-08-01T22:26:43.709852",
     "exception": false,
     "start_time": "2024-08-01T22:26:43.675293",
     "status": "completed"
    },
    "tags": []
   },
   "outputs": [],
   "source": [
    "# Define a function to filter the DataFrame based on user-specified criteria\n",
    "def filter_dataframe(df, state_filter, intl_plan_filter, voice_mail_filter):\n",
    "    filtered_df = df.copy()\n",
    "\n",
    "    if state_filter != '%':\n",
    "        #print(\"\\nUnique states before filtering:\", filtered_df['state'].unique())\n",
    "\n",
    "        # Split and clean state filter values\n",
    "        state_values = [x.strip().strip(\"'\") for x in state_filter.split('|')]\n",
    "        #print(f\"State values for filtering (cleaned): {state_values}\")\n",
    "\n",
    "        # Apply the state filter\n",
    "        filtered_df = filtered_df[filtered_df['state'].isin(state_values)]\n",
    "\n",
    "\n",
    "        #print(\"Unique states after state filtering:\", filtered_df['state'].unique())  # Debug statement\n",
    "        #print(\"Shape after state filtering:\", filtered_df.shape)  # Debug statement\n",
    "\n",
    "    # Filter by international plan if a specific plan is provided\n",
    "    if intl_plan_filter != '%':\n",
    "        intl_plan_values = [x.strip() for x in intl_plan_filter.split(',')]\n",
    "        filtered_df = filtered_df[filtered_df['intl_plan'].isin(intl_plan_values)]\n",
    "        #print(\"Unique intl_plan after intl_plan filtering:\", filtered_df['intl_plan'].unique())  # Debug statement\n",
    "        #print(\"Shape after intl_plan filtering:\", filtered_df.shape)  # Debug statement\n",
    "\n",
    "\n",
    "    # Filter by voice mail plan if a specific plan is provided\n",
    "    if voice_mail_filter != '%':\n",
    "        filtered_df = filtered_df[filtered_df['voice_mail_plan'] == voice_mail_filter]\n",
    "        #print(\"Unique voice_mail_plan after voice_mail_plan filtering:\", filtered_df['voice_mail_plan'].unique())  # Debug statement\n",
    "        #print(\"Shape after voice_mail_plan filtering:\", filtered_df.shape)  # Debug statement\n",
    "\n",
    "    return filtered_df\n",
    "\n",
    "# Clean and ensure filters are strings with no extra whitespace or quotes\n",
    "intl_plan_filter = str(intl_plan_filter).strip().strip(\"'\")\n",
    "voice_mail_filter = str(voice_mail_filter).strip().strip(\"'\")\n",
    "\n",
    "# Debugging print statements to verify the cleaned values\n",
    "#print(f\"Cleaned intl_plan_filter: {repr(intl_plan_filter)} (length: {len(intl_plan_filter)})\")\n",
    "#print(f\"Cleaned voice_mail_filter: {repr(voice_mail_filter)} (length: {len(voice_mail_filter)})\")\n",
    "\n",
    "# Call the filter function with the specified criteria\n",
    "filtered_df = filter_dataframe(df, state_filter, intl_plan_filter, voice_mail_filter)\n",
    "filtered_df = filtered_df.applymap(lambda x: x.strip().upper() if isinstance(x, str) else x)\n",
    "\n",
    "# Define a list of columns for which summary statistics will be computed\n",
    "summary_cols = [\n",
    "    # List of columns to include in the summary statistics\n",
    "    \"total_day_minutes\", \"total_day_calls\", \"total_day_charge\", \"total_eve_calls\",\n",
    "    \"number_vmail_messages\", \"total_eve_minutes\", \"total_eve_charge\",\n",
    "    \"total_night_minutes\", \"total_night_calls\", \"total_night_charge\",\n",
    "    \"total_intl_minutes\", \"total_intl_calls\", \"total_intl_charge\",\n",
    "    \"number_customer_service_calls\"\n",
    "]\n",
    "\n",
    "# Convert Columns to Numeric:\n",
    "for col in summary_cols:\n",
    "    filtered_df[col] = pd.to_numeric(filtered_df[col], errors='coerce')\n",
    "\n",
    "restworkflowcontext.outPandasDataframe(9, \"Telco Dataset Sample\", filtered_df.head())\n",
    "\n",
    "# Compute summary statistics for the filtered DataFrame\n",
    "summary_df = filtered_df[summary_cols].agg(['count', 'mean', 'min', 'max', 'std', 'var']).round(3)\n",
    "\n",
    "# Print the summary statistics\n",
    "#print(\"Summary Statistics for Filtered Data:\\n\", summary_df)\n",
    "summary_df = summary_df.reset_index() # This line is the key change\n",
    "\n",
    "\n",
    "spark_df = spark.createDataFrame(summary_df)\n",
    "restworkflowcontext.outDataFrame(9, \"Summary Statistics for Telco Dataset\", spark_df)\n",
    "\n",
    "# Drop rows with null values from the filtered DataFrame\n",
    "df_drop_null = filtered_df.dropna()\n",
    "\n",
    "\n",
    "# Select numeric and boolean columns for the correlation matrix calculation\n",
    "numeric_bool_cols = df_drop_null.select_dtypes(include=['number', 'bool']).columns\n",
    "\n",
    "# Calculate the correlation matrix for the numeric and boolean columns\n",
    "corr_matrix = df_drop_null[numeric_bool_cols].corr()\n",
    "\n",
    "spark_corr_matrix = spark.createDataFrame(corr_matrix)\n",
    "\n",
    "# Visualize the correlation matrix using a heatmap\n",
    "############################# \n",
    "# Create the heatmap trace\n",
    "heatmap = go.Heatmap(\n",
    "    z=corr_matrix,\n",
    "    x=corr_matrix.columns,\n",
    "    y=corr_matrix.index,\n",
    "    colorscale=[\n",
    "        [0, 'rgb(119, 228, 200)'],\n",
    "        [0.2, 'rgb(86, 211, 203)'],\n",
    "        [0.4, 'rgb(54, 194, 206)'],\n",
    "        [0.5, 'rgb(62, 167, 207)'],\n",
    "        [0.6, 'rgb(71, 140, 207)'],\n",
    "        [0.7, 'rgb(70, 100, 200)'],\n",
    "        [1, 'rgb(69, 53, 193)']\n",
    "    ],\n",
    "    zmid=0,\n",
    "    zmin=-1,\n",
    "    zmax=1\n",
    ")\n",
    "\n",
    "\n",
    "# Create the layout\n",
    "layout = go.Layout(\n",
    "    title='Correlation-Matrix',\n",
    "    xaxis=dict(title='Features', tickangle=-45),\n",
    "    yaxis=dict(title='Features', autorange='reversed'),\n",
    "    width=800,\n",
    "    height=800\n",
    ")\n",
    "\n",
    "# Create the figure\n",
    "fig = go.Figure(data=[heatmap], layout=layout)\n",
    "plotly.offline.iplot(fig)\n",
    "\n",
    "# Generate the Plotly plot as an HTML div\n",
    "plot_div = plotly.offline.plot(fig, output_type='div', include_plotlyjs=False)\n",
    "\n",
    "\n",
    "# Display the Correlation Matrix graph\n",
    "restworkflowcontext.outPlotly(9, title=\"Correlation Matrix\", text=plot_div)\n",
    "\n",
    "# Display the Correlation Matrix data\n",
    "restworkflowcontext.outDataFrame(9, \"Correlation Matrix Table\", spark_corr_matrix)\n",
    "\n",
    "#DISPLAY CHURNED INFO\n",
    "# Group the filtered DataFrame by 'churned' and compute aggregated statistics\n",
    "groupby_df = filtered_df.groupby('churned').agg({\n",
    "    'total_day_charge': 'sum',\n",
    "    'total_eve_charge': 'sum',\n",
    "    'total_night_charge': 'sum',\n",
    "    'total_intl_charge': 'sum'\n",
    "}).reset_index()\n",
    "\n",
    "# Print the grouped data\n",
    "restworkflowcontext.outPandasDataframe(9, \"Breakdown of Total Charges by Churn Status\", groupby_df.head())\n",
    "\n",
    "# Get the churn counts\n",
    "churn_counts = filtered_df['churned'].value_counts()\n",
    "\n",
    "# Create the pie chart trace\n",
    "pie_trace = go.Pie(\n",
    "    labels=churn_counts.index,\n",
    "    values=churn_counts.values,\n",
    "    textinfo='percent',\n",
    "    insidetextorientation='radial',\n",
    "    hole=0.4,  # Adjust the size of the donut hole (0 for a full pie)\n",
    "    marker=dict(colors=['#7695FF', '#FF9874'])   # Custom colors for churned and non-churned segments\n",
    ")  \n",
    "# Create the layout\n",
    "layout = go.Layout(\n",
    "    title='Churn-Distribution',\n",
    "    width=800,\n",
    "    height=800,\n",
    "    legend=dict(x=0.8, y=0.9)  # Adjust the position of the legend\n",
    ")\n",
    "\n",
    "# Create the figure\n",
    "fig = go.Figure(data=[pie_trace], layout=layout)\n",
    "plotly.offline.iplot(fig)\n",
    "\n",
    "# Generate the Plotly plot as an HTML div\n",
    "plot_div = plotly.offline.plot(fig, output_type='div', include_plotlyjs=False)\n",
    "\n",
    "# Display the plot using the custom plotly implementation\n",
    "restworkflowcontext.outPlotly(10, title=\"Churn Distribution\", text=plot_div)\n",
    "\n",
    "\n",
    "\n",
    "# Create the box plot for displaying Customer Service Calls by Churn Status,\n",
    "box_trace = go.Box(\n",
    "    x=filtered_df['churned'],\n",
    "    y=filtered_df['number_customer_service_calls'],\n",
    "    boxpoints='outliers',\n",
    "    jitter=0.3,\n",
    "    pointpos=-1.8,\n",
    "    marker=dict(color='#7695FF')  #set the color\n",
    "\n",
    ")\n",
    "\n",
    "# Create the layout\n",
    "layout = go.Layout(\n",
    "    title='Customer-Service-Calls-by-Churn-Status',\n",
    "    xaxis=dict(title='Churn Status'),\n",
    "    yaxis=dict(title='Number of Customer Service Calls') \n",
    ")\n",
    "\n",
    "# Create the figure\n",
    "fig = go.Figure(data=[box_trace], layout=layout)\n",
    "plotly.offline.iplot(fig)\n",
    "\n",
    "# Generate the Plotly plot as an HTML div\n",
    "plot_div = plotly.offline.plot(fig, output_type='div', include_plotlyjs=False)\n",
    "\n",
    "# Display the plot using the custom plotly implementation\n",
    "restworkflowcontext.outPlotly(9, title=\"Number of Customer Service Calls by Churn Status\", text=plot_div)\n",
    "\n",
    "\n",
    "'''\n",
    "\n",
    "# Create a count plot to visualize the distribution of international plan subscriptions by churn status\n",
    "# Convert to boolean, removing dot at end\n",
    "#filtered_df['churned'] = filtered_df['churned'].map({'True.': True, 'False.': False})\n",
    "\n",
    "\n",
    "filtered_df['churned'] = filtered_df['churned'].map({'true.': True, 'false.': False})\n",
    "if 'intl_plan' not in filtered_df.columns:\n",
    "    raise KeyError(\"'intl_plan' column is missing from the DataFrame.\")\n",
    "\n",
    "# Verify the filtered DataFrame for 'churned = True' rows\n",
    "print(\"Filtered DataFrame (churned = True):\")\n",
    "print(filtered_df[filtered_df['churned']])\n",
    "\n",
    "#churned_intl_plan = filtered_df[filtered_df['churned']]['intl_plan'].value_counts()\n",
    "#not_churned_intl_plan = filtered_df[~filtered_df['churned']]['intl_plan'].value_counts()\n",
    "\n",
    "\n",
    "# Create the count plot traces\n",
    "churned_intl_plan = filtered_df[filtered_df['churned']]['intl_plan'].value_counts()\n",
    "not_churned_intl_plan = filtered_df[~filtered_df['churned']]['intl_plan'].value_counts()\n",
    "\n",
    "# Create the traces\n",
    "trace_churned = go.Bar(\n",
    "    x=churned_intl_plan.index,\n",
    "    y=churned_intl_plan.values,\n",
    "    marker=dict(\n",
    "        color='#7695FF',  # Set the box color for \"Yes\"\n",
    "    ),\n",
    "    name='Churned'\n",
    ")\n",
    "\n",
    "trace_not_churned = go.Bar(\n",
    "    x=not_churned_intl_plan.index,\n",
    "    y=not_churned_intl_plan.values,\n",
    "    marker=dict(\n",
    "        color='#FF9874',  # Set the box color for \"No\"\n",
    "    ),\n",
    "    name='Not Churned'\n",
    ")\n",
    "\n",
    "layout = go.Layout(\n",
    "    title='International-Plan-Subscription-by-Churn-Status',\n",
    "    xaxis=dict(title='International Plan'),\n",
    "    yaxis=dict(title='Count'),\n",
    "    barmode='group'\n",
    ")\n",
    "\n",
    "fig = go.Figure(data=[trace_churned, trace_not_churned], layout=layout)\n",
    "plotly.offline.iplot(fig)\n",
    "\n",
    "# Generate the Plotly plot as an HTML div\n",
    "plot_div = plotly.offline.plot(fig, output_type='div', include_plotlyjs=False)\n",
    "\n",
    "restworkflowcontext.outPlotly(9, title=\"International Plan Subscription by Churn Status\", text=plot_div)\n",
    "\n",
    "#htmlstr1 = \"<h4>The significantly <em>higher</em> churn rate among customers with an <strong>international plan</strong> suggests that there may be specific issues related to these plans that are driving customer dissatisfaction.</h4>\"\n",
    "\n",
    "#restworkflowcontext.outHTML(9, title=\"Recommendation\", text = htmlstr1)\n",
    "'''\n",
    "\n",
    "# FINISH EXECUTION\n",
    "message=\"100\"\n",
    "restworkflowcontext.outputProgress(9, title=\"Progress\", progress=message)\n",
    "\n",
    "message = \"Job Execution Completed.\"\n",
    "restworkflowcontext.outSuccess(9, title=\"Success\", text=message)"
   ]
  }
 ],
 "metadata": {
  "application/vnd.databricks.v1+notebook": {
   "computePreferences": null,
   "dashboards": [],
   "environmentMetadata": null,
   "inputWidgetPreferences": null,
   "language": "python",
   "notebookMetadata": {
    "pythonIndentUnit": 2
   },
   "notebookName": "Telco-Churn-EDA",
   "widgets": {
    "arg_intl_plan": {
     "currentValue": "'%'",
     "nuid": "6e101d56-605c-46e6-8b60-d3d7d699bb37",
     "typedWidgetInfo": {
      "autoCreated": false,
      "defaultValue": "%",
      "label": null,
      "name": "arg_intl_plan",
      "options": {
       "widgetDisplayType": "Text",
       "validationRegex": null
      },
      "parameterDataType": "String"
     },
     "widgetInfo": {
      "widgetType": "text",
      "defaultValue": "%",
      "label": null,
      "name": "arg_intl_plan",
      "options": {
       "widgetType": "text",
       "autoCreated": null,
       "validationRegex": null
      }
     }
    },
    "arg_state": {
     "currentValue": "'%'",
     "nuid": "33ba2263-4479-4a5b-a724-86b57900b4a4",
     "typedWidgetInfo": {
      "autoCreated": false,
      "defaultValue": "%",
      "label": null,
      "name": "arg_state",
      "options": {
       "widgetDisplayType": "Text",
       "validationRegex": null
      },
      "parameterDataType": "String"
     },
     "widgetInfo": {
      "widgetType": "text",
      "defaultValue": "%",
      "label": null,
      "name": "arg_state",
      "options": {
       "widgetType": "text",
       "autoCreated": null,
       "validationRegex": null
      }
     }
    },
    "arg_voice_mail_plan": {
     "currentValue": "'%'",
     "nuid": "b0dec8dd-c4a2-442a-9430-f6a48f8177a1",
     "typedWidgetInfo": {
      "autoCreated": false,
      "defaultValue": "%",
      "label": null,
      "name": "arg_voice_mail_plan",
      "options": {
       "widgetDisplayType": "Text",
       "validationRegex": null
      },
      "parameterDataType": "String"
     },
     "widgetInfo": {
      "widgetType": "text",
      "defaultValue": "%",
      "label": null,
      "name": "arg_voice_mail_plan",
      "options": {
       "widgetType": "text",
       "autoCreated": null,
       "validationRegex": null
      }
     }
    },
    "job-id": {
     "currentValue": "100",
     "nuid": "7ab58334-a550-4b5d-b181-8664828bc9ec",
     "typedWidgetInfo": {
      "autoCreated": false,
      "defaultValue": "100",
      "label": null,
      "name": "job-id",
      "options": {
       "widgetDisplayType": "Text",
       "validationRegex": null
      },
      "parameterDataType": "String"
     },
     "widgetInfo": {
      "widgetType": "text",
      "defaultValue": "100",
      "label": null,
      "name": "job-id",
      "options": {
       "widgetType": "text",
       "autoCreated": null,
       "validationRegex": null
      }
     }
    },
    "postback-url": {
     "currentValue": "",
     "nuid": "e9230ecc-446e-4c7a-9423-c75b824d4088",
     "typedWidgetInfo": {
      "autoCreated": false,
      "defaultValue": "",
      "label": null,
      "name": "postback-url",
      "options": {
       "widgetDisplayType": "Text",
       "validationRegex": null
      },
      "parameterDataType": "String"
     },
     "widgetInfo": {
      "widgetType": "text",
      "defaultValue": "",
      "label": null,
      "name": "postback-url",
      "options": {
       "widgetType": "text",
       "autoCreated": null,
       "validationRegex": null
      }
     }
    }
   }
  },
  "kaggle": {
   "accelerator": "none",
   "dataSources": [
    {
     "databundleVersionId": 868225,
     "sourceId": 9999,
     "sourceType": "competition"
    }
   ],
   "dockerImageVersionId": 30746,
   "isGpuEnabled": false,
   "isInternetEnabled": true,
   "language": "python",
   "sourceType": "notebook"
  },
  "kernelspec": {
   "display_name": "Python 3",
   "language": "python",
   "name": "python3"
  },
  "language_info": {
   "name": "python"
  },
  "papermill": {
   "default_parameters": {},
   "duration": 272.421777,
   "end_time": "2024-08-01T22:31:08.030688",
   "environment_variables": {},
   "exception": null,
   "input_path": "__notebook__.ipynb",
   "output_path": "__notebook__.ipynb",
   "parameters": {},
   "start_time": "2024-08-01T22:26:35.608911",
   "version": "2.5.0"
  }
 },
 "nbformat": 4,
 "nbformat_minor": 0
}