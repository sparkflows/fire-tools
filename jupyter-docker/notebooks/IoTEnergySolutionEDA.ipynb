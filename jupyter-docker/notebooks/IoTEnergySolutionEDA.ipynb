{
 "cells": [
  {
   "cell_type": "markdown",
   "id": "248720b0",
   "metadata": {},
   "source": [
    "# IOT Project EDA Rest Workflow Context Porting Example"
   ]
  },
  {
   "cell_type": "code",
   "execution_count": null,
   "id": "6671d9df",
   "metadata": {},
   "outputs": [],
   "source": [
    "import pandas as pd\n",
    "import numpy as np\n",
    "import matplotlib.pyplot as plt\n",
    "import seaborn as sns"
   ]
  },
  {
   "cell_type": "code",
   "execution_count": null,
   "id": "a6f6334b",
   "metadata": {},
   "outputs": [],
   "source": [
    "#Initializing development to 'local'\n",
    "#development = 'local'"
   ]
  },
  {
   "cell_type": "code",
   "execution_count": null,
   "id": "70759142",
   "metadata": {},
   "outputs": [],
   "source": [
    "#Initialize and Start Execution\n",
    "from fire_notebook.output.workflowcontext import RestWorkflowContext\n",
    "import sys"
   ]
  },
  {
   "cell_type": "code",
   "execution_count": null,
   "id": "6aaa3345",
   "metadata": {},
   "outputs": [],
   "source": [
    "# Read CSV using pandas\n",
    "df = pd.read_csv(\"IoTEnergySolutionsEDA.csv\")"
   ]
  },
  {
   "cell_type": "code",
   "execution_count": null,
   "id": "cff7e947",
   "metadata": {},
   "outputs": [],
   "source": [
    "# Cast 'timestamp' to pandas datetime\n",
    "df['timestamp'] = pd.to_datetime(df['timestamp'])\n",
    "\n",
    "# Extract time fields (hour, minute, second)\n",
    "df['timestamp_hour'] = df['timestamp'].dt.hour\n",
    "df['timestamp_minute'] = df['timestamp'].dt.minute\n",
    "df['timestamp_second'] = df['timestamp'].dt.second\n",
    "# Extract year and month\n",
    "df['year'] = df['timestamp'].dt.year\n",
    "df['month'] = df['timestamp'].dt.month\n",
    "\n",
    "# Create concatenated 'Time' column\n",
    "df['Time'] = df['timestamp_hour'].astype(str) + ':' + df['timestamp_minute'].astype(str) + ':' + df['timestamp_second'].astype(str)"
   ]
  },
  {
   "cell_type": "code",
   "execution_count": null,
   "id": "f6791745",
   "metadata": {
    "scrolled": true
   },
   "outputs": [],
   "source": [
    "print(df.info())"
   ]
  },
  {
   "cell_type": "code",
   "execution_count": null,
   "id": "376b9e97",
   "metadata": {},
   "outputs": [],
   "source": [
    "#IOT had only one parameter passed from App to workflow/Notebook for filetering devices\n",
    "#Additional parameter to be added to the App ---> selectParameter\n",
    "#If development environment is local, initializing custom parameter to 'selectDevices'\n",
    "#selectParameter_values = ['energy_generation', 'energy_consumption', 'voltage', 'current', 'power', 'frequency']\n",
    "parameter_from_App = ['selectDevice', 'selectParameter']\n",
    "if development == 'local':\n",
    "    parameters_custom = parameter_from_App[0]+'='+'meter_2'+parameter_from_App[1]+'='+'energy_generation'\n",
    "    parameters_list = [\"placeholder\", \"http://localhost\", \"default_job_id\", parameters_custom]\n",
    "else:\n",
    "    parameters_list = sys.argv"
   ]
  },
  {
   "cell_type": "code",
   "execution_count": null,
   "id": "3f9bcd82",
   "metadata": {},
   "outputs": [],
   "source": [
    "#Creating an instance of the RestWorkflowContext class\n",
    "restworkflowcontext = RestWorkflowContext(parameters=parameters_list)"
   ]
  },
  {
   "cell_type": "code",
   "execution_count": null,
   "id": "aa78d353",
   "metadata": {},
   "outputs": [],
   "source": [
    "#Initializing the value of the parameter from the App using getParameters API\n",
    "#custom_parameters = \"param1=value1,param2=value2,param3=value3\n",
    "device_id = restworkflowcontext.getParmeters(parameter_name=parameter_from_App[0], default=\"meter_2\")\n",
    "graph_param = restworkflowcontext.getParmeters(parameter_name=parameter_from_App[1], default=\"energy_generation\")\n",
    "print('parameter[0] = ',device_id, ',','parameter[1] = ',graph_param)"
   ]
  },
  {
   "cell_type": "code",
   "execution_count": null,
   "id": "eb680dfa",
   "metadata": {},
   "outputs": [],
   "source": [
    "# Print the first few rows to ensure data was read correctly\n",
    "restworkflowcontext.outPandasDataframe(9,\"IoT Energy DF\", df, 10)"
   ]
  },
  {
   "cell_type": "markdown",
   "id": "0e442c84",
   "metadata": {},
   "source": [
    "# ---- Data Visualizations ----"
   ]
  },
  {
   "cell_type": "code",
   "execution_count": null,
   "id": "49cb8bc7",
   "metadata": {},
   "outputs": [],
   "source": [
    "\n",
    "import plotly.graph_objs as go\n",
    "import plotly.io as pio\n",
    "import plotly\n",
    "import plotly.offline as py"
   ]
  },
  {
   "cell_type": "code",
   "execution_count": null,
   "id": "24428a2c",
   "metadata": {},
   "outputs": [],
   "source": [
    "# Exploring IOT Energy Data - EDA html page\n",
    "htmlstr1 = '''<div style=\"border-radius: 5px;\">\n",
    "    <div style=\"padding: 0.75rem 1.25rem; margin-bottom: 0; background-color: #0c9a86;\n",
    "    border-bottom: 1px solid rgba(30, 30, 30, 0.125); border-top-right-radius: 5px; border-top-left-radius: 5px;\n",
    "    color: #ffffff; font-family: sans-serif;\">\n",
    "        <h3 style=\"color: #fff; margin: 0;\">Exploring IOT Energy Data</h3>\n",
    "    </div>\n",
    "    <div style=\"margin-top: 20px;\"></div>\n",
    "</div>\n",
    "\n",
    "<div style=\"margin-top: 20px;\">\n",
    "    <h4 style=\"color: #3178d6;\">Overview</h4>\n",
    "    <ul style=\"margin-left: 10px; list-style-type: none; padding: 0;\">\n",
    "        <li style=\"position: relative; margin-bottom: 10px; padding-left: 40px;\">\n",
    "            <span style=\"width: 18px; height: 18px; background-color: #0c9a86; color: #fff; border-radius: 50%; position: absolute; left: 10px; display: flex; align-items: center; justify-content: center; font-size: 20px; font-weight: 600;\">+</span>\n",
    "            Users can analyze IoT data by computing summary statistics to understand metrics like energy generation and consumption across devices. They can visualize these metrics using histograms to explore their distributions and frequencies. Box plots help identify outliers and compare metric distributions across different devices, aiding in anomaly detection and trend analysis.\n",
    "        </li>\n",
    "    </ul>\n",
    "</div>'''\n",
    "\n",
    "#restworkflowcontext.outHTML(title=\"Exploring IOT Energy Data\", text=htmlstr1)"
   ]
  },
  {
   "cell_type": "code",
   "execution_count": null,
   "id": "f2ab6e29",
   "metadata": {},
   "outputs": [],
   "source": [
    "#Actions\n",
    "htmlstr2 ='''<div style=\"margin-top: 20px;\">\n",
    "    <h4 style=\"color: #3178d6;\">Actions</h4>\n",
    "    <ul style=\"margin-left: 10px; list-style-type: none; padding: 0;\">\n",
    "        <!-- Action 1 -->\n",
    "        <li style=\"position: relative; margin-bottom: 10px; padding-left: 40px;\">\n",
    "            <span style=\"width: 18px; height: 18px; background-color: #0c9a86; color: #fff; border-radius: 50%; position: absolute; left: 10px; display: flex; align-items: center; justify-content: center; font-size: 20px; font-weight: 600;\">+</span>\n",
    "            Select a Device for which Energy Generation and Energy Consumption graph has to be plotted.\n",
    "        </li>\n",
    "        <!-- Action 2 -->\n",
    "        <li style=\"position: relative; margin-bottom: 10px; padding-left: 40px;\">\n",
    "            <span style=\"width: 18px; height: 18px; background-color: #0c9a86; color: #fff; border-radius: 50%; position: absolute; left: 10px; display: flex; align-items: center; justify-content: center; font-size: 20px; font-weight: 600;\">+</span>\n",
    "            Select one or multiple Devices under the Select Device.\n",
    "        </li>\n",
    "        <!-- Action 3 -->\n",
    "        <li style=\"position: relative; margin-bottom: 10px; padding-left: 40px;\">\n",
    "            <span style=\"width: 18px; height: 18px; background-color: #0c9a86; color: #fff; border-radius: 50%; position: absolute; left: 10px; display: flex; align-items: center; justify-content: center; font-size: 20px; font-weight: 600;\">+</span>\n",
    "            Click on 'Explore Data' to perform the analysis.\n",
    "        </li>\n",
    "    </ul>\n",
    "</div>'''\n",
    "#restworkflowcontext.outHTML(title=\"Exploring IOT Energy Data\", text=htmlstr2)"
   ]
  },
  {
   "cell_type": "code",
   "execution_count": null,
   "id": "a862b29e",
   "metadata": {},
   "outputs": [],
   "source": [
    "#Output\n",
    "htmlstr3 = '''<div style=\"margin-top: 20px;\">\n",
    "    <h4 style=\"color: #3178d6;\">Outputs</h4>\n",
    "    <ul style=\"margin-left: 10px; list-style-type: none; padding: 0;\">\n",
    "        <!-- Output 1 -->\n",
    "        <li style=\"position: relative; margin-bottom: 10px; padding-left: 40px;\">\n",
    "            <span style=\"width: 18px; height: 18px; background-color: #0c9a86; color: #fff; border-radius: 50%; position: absolute; left: 10px; display: flex; align-items: center; justify-content: center; font-size: 20px; font-weight: 600;\">+</span>\n",
    "            Chart illustrating the Box Plot for all the devices.\n",
    "        </li>\n",
    "        <!-- Output 2 -->\n",
    "        <li style=\"position: relative; margin-bottom: 10px; padding-left: 40px;\">\n",
    "            <span style=\"width: 18px; height: 18px; background-color: #0c9a86; color: #fff; border-radius: 50%; position: absolute; left: 10px; display: flex; align-items: center; justify-content: center; font-size: 20px; font-weight: 600;\">+</span>\n",
    "            Chart displaying the Correlation Table and Correlation Matrix.\n",
    "        </li>\n",
    "        <!-- Output 3 -->\n",
    "        <li style=\"position: relative; margin-bottom: 10px; padding-left: 40px;\">\n",
    "            <span style=\"width: 18px; height: 18px; background-color: #0c9a86; color: #fff; border-radius: 50%; position: absolute; left: 10px; display: flex; align-items: center; justify-content: center; font-size: 20px; font-weight: 600;\">+</span>\n",
    "            List of Devices.\n",
    "        </li>\n",
    "        <!-- Output 4 -->\n",
    "        <li style=\"position: relative; margin-bottom: 10px; padding-left: 40px;\">\n",
    "            <span style=\"width: 18px; height: 18px; background-color: #0c9a86; color: #fff; border-radius: 50%; position: absolute; left: 10px; display: flex; align-items: center; justify-content: center; font-size: 20px; font-weight: 600;\">+</span>\n",
    "            Timeseries plot of Energy Consumption and Energy Generation for the selected devices.\n",
    "        </li>\n",
    "    </ul>\n",
    "</div>'''\n",
    "#restworkflowcontext.outHTML(title=\"Exploring IOT Energy Data\", text=htmlstr3)"
   ]
  },
  {
   "cell_type": "markdown",
   "id": "110b4c8b",
   "metadata": {},
   "source": [
    "# Histogram for all feature columns"
   ]
  },
  {
   "cell_type": "code",
   "execution_count": null,
   "id": "2f5b14a3",
   "metadata": {},
   "outputs": [],
   "source": [
    "#Get input from user for the selectParameter from list of options\n",
    "#selectParameter_values = ['energy_generation', 'energy_consumption', 'voltage', 'current', 'power', 'frequency']\n",
    "graph_param = restworkflowcontext.getParmeters(parameter_name=parameter_from_App[1], default=\"energy_generation\")\n",
    "graph_param"
   ]
  },
  {
   "cell_type": "code",
   "execution_count": null,
   "id": "4122ae27",
   "metadata": {},
   "outputs": [],
   "source": [
    "fig = plotly.offline.plot([go.Histogram(x=df[graph_param], nbinsx=30)], \n",
    "              output_type='div', include_plotlyjs=False)\n",
    "\n",
    "histogram_to_plot = f'{fig}'\n",
    "restworkflowcontext.outPlotly(id=9,title=\"Histogram of energy_generation\", text = histogram_to_plot)\n"
   ]
  },
  {
   "cell_type": "code",
   "execution_count": null,
   "id": "99ec8566",
   "metadata": {},
   "outputs": [],
   "source": [
    "# Create a histogram object\n",
    "if development == 'local':\n",
    "    fig = go.Figure(data=[go.Histogram(x=df[graph_param], nbinsx=30)])\n",
    "    fig.update_layout(title=f\"Histogram of {graph_param}\", xaxis_title=graph_param,yaxis_title=\"Frequency\")\n",
    "    pio.show(fig)"
   ]
  },
  {
   "cell_type": "markdown",
   "id": "d4ab4891",
   "metadata": {},
   "source": [
    "# Boxplot to anlayze outliers"
   ]
  },
  {
   "cell_type": "code",
   "execution_count": null,
   "id": "e0d6d947",
   "metadata": {},
   "outputs": [],
   "source": [
    "import plotly.graph_objs as go\n",
    "import plotly.io as pio\n",
    "import plotly.offline as py"
   ]
  },
  {
   "cell_type": "code",
   "execution_count": null,
   "id": "20cd10a3",
   "metadata": {},
   "outputs": [],
   "source": [
    "#Get input from user for the selectParameter from list of options\n",
    "#selectParameter_values = ['energy_generation', 'energy_consumption', 'voltage', 'current', 'power', 'frequency']\n",
    "graph_param = restworkflowcontext.getParmeters(parameter_name=parameter_from_App[1], default=\"voltage\")\n",
    "graph_param"
   ]
  },
  {
   "cell_type": "code",
   "execution_count": null,
   "id": "ea752d57",
   "metadata": {},
   "outputs": [],
   "source": [
    "fig = plotly.offline.plot([go.Box(y=df[graph_param], boxpoints='all', jitter=0.3, pointpos=-1.8)],\n",
    "                 output_type='div',\n",
    "                include_plotlyjs=False)"
   ]
  },
  {
   "cell_type": "code",
   "execution_count": null,
   "id": "c721aaa5",
   "metadata": {
    "scrolled": true
   },
   "outputs": [],
   "source": [
    "boxplot_to_plot = f'{fig}'\n",
    "restworkflowcontext.outPlotly(id=9,title=\"Boxplot of {graph_param}\", text = boxplot_to_plot)"
   ]
  },
  {
   "cell_type": "code",
   "execution_count": null,
   "id": "9223b419",
   "metadata": {},
   "outputs": [],
   "source": [
    "# Create the box plot\n",
    "if development == 'local':\n",
    "    #fig = go.Figure(data=[go.Box(y=df['energy_generation'], boxpoints='all',jitter=0.3, pointpos=-1.8)])\n",
    "    fig = go.Figure(data=[go.Box(y=df[graph_param], boxpoints='all')])\n",
    "    # Plotting the box plot\n",
    "    pio.show(fig)"
   ]
  },
  {
   "cell_type": "markdown",
   "id": "0428a1f2",
   "metadata": {},
   "source": [
    "# Correlation Matrix"
   ]
  },
  {
   "cell_type": "code",
   "execution_count": null,
   "id": "2c681cf1",
   "metadata": {},
   "outputs": [],
   "source": [
    "# Plot correlation matrix\n",
    "numeric_cols = ['energy_generation', 'energy_consumption', 'voltage', 'current', 'power', 'frequency']\n",
    "correlation_matrix = df[numeric_cols].corr()\n",
    "custom_colorscale = [[0.0, \"grey\"],[0.5, \"orange\"],[1.0, \"red\"]]\n",
    "fig = plotly.offline.plot([go.Heatmap(z=correlation_matrix.values,\n",
    "                     x=correlation_matrix.columns,\n",
    "                     y=correlation_matrix.columns,\n",
    "                     colorscale=custom_colorscale)],\n",
    "                 output_type='div',\n",
    "                include_plotlyjs=False)"
   ]
  },
  {
   "cell_type": "code",
   "execution_count": null,
   "id": "a5116926",
   "metadata": {},
   "outputs": [],
   "source": [
    "correlation_matrix = f'{fig}'\n",
    "restworkflowcontext.outPlotly(id=9,title=\"Correlation matrix of energy_generation\", text = correlation_matrix)"
   ]
  },
  {
   "cell_type": "code",
   "execution_count": null,
   "id": "79d87a7f",
   "metadata": {},
   "outputs": [],
   "source": [
    "# Plot correlation matrix using Plotly\n",
    "if development == 'local':\n",
    "    correlation_matrix = df[numeric_cols].corr()\n",
    "    custom_colorscale = [[0.0, \"grey\"],[0.5, \"orange\"],[1.0, \"red\"]]\n",
    "\n",
    "    # Create the heatmap\n",
    "    heatmap = go.Heatmap(z=correlation_matrix.values,\n",
    "                     x=correlation_matrix.columns,\n",
    "                     y=correlation_matrix.columns,\n",
    "                     colorscale=custom_colorscale)\n",
    "\n",
    "    # Plot the heatmap\n",
    "    pio.show(go.Figure(data=[heatmap]))"
   ]
  },
  {
   "cell_type": "markdown",
   "id": "f076030c",
   "metadata": {},
   "source": [
    "# Line plot for energy consumption for selected device"
   ]
  },
  {
   "cell_type": "code",
   "execution_count": null,
   "id": "1c4a1303",
   "metadata": {
    "scrolled": true
   },
   "outputs": [],
   "source": [
    "# 4. Filtering based on device IDs\n",
    "df_filtered = df[df['device_id']==device_id]\n",
    "device_id\n",
    "print(df_filtered.head(100))"
   ]
  },
  {
   "cell_type": "code",
   "execution_count": null,
   "id": "5cb792b7",
   "metadata": {},
   "outputs": [],
   "source": [
    "# Print filtered device IDs\n",
    "print('Devices:')\n",
    "print(df_filtered['device_id'].unique())\n",
    "print(df['month'].unique())"
   ]
  },
  {
   "cell_type": "code",
   "execution_count": null,
   "id": "b019b7e8",
   "metadata": {},
   "outputs": [],
   "source": [
    "#Get input from user for the selectParameter from list of options\n",
    "#selectParameter_values = ['energy_generation', 'energy_consumption', 'voltage', 'current', 'power', 'frequency']\n",
    "selectParameter_values = ['energy_generation', 'energy_consumption', 'voltage', 'current', 'power']\n",
    "graph_param = restworkflowcontext.getParmeters(parameter_name=parameter_from_App[1], default=selectParameter_values)\n",
    "graph_param\n"
   ]
  },
  {
   "cell_type": "code",
   "execution_count": null,
   "id": "3fa84f2c-b1db-4ae9-8f11-64ececade675",
   "metadata": {},
   "outputs": [],
   "source": [
    "development"
   ]
  },
  {
   "cell_type": "code",
   "execution_count": null,
   "id": "d88863ab",
   "metadata": {
    "scrolled": true
   },
   "outputs": [],
   "source": [
    "# Create a line plot using SNS\n",
    "if development == 'local':\n",
    "    plt.figure(figsize=(50,10))\n",
    "    plt.xticks(rotation=30)\n",
    "    ax=sns.lineplot(data=df_filtered, x=\"timestamp\", y=graph_param,legend=\"full\",hue='device_id',linewidth=1)\n",
    "    # for legend text\n",
    "    plt.setp(ax.get_legend().get_texts(), fontsize='30')  \n",
    " \n",
    "    # for legend title\n",
    "    plt.setp(ax.get_legend().get_title(), fontsize='30')  \n",
    "    plt.show()"
   ]
  },
  {
   "cell_type": "code",
   "execution_count": null,
   "id": "9c7fbe4d",
   "metadata": {},
   "outputs": [],
   "source": [
    "# Create a line plot using plotly\n",
    "if development == 'local':\n",
    "    line_trace = go.Scatter(\n",
    "        x=df_filtered['timestamp'],\n",
    "        y=df_filtered[graph_param],\n",
    "        mode='lines',  # 'lines' for a line graph, 'lines+markers' to include markers\n",
    "        name='{graph_param} over Time')\n",
    "    # Plotting the line graph\n",
    "    fig = go.Figure(data=[line_trace])\n",
    "    # Display the plot\n",
    "    pio.show(fig)"
   ]
  },
  {
   "cell_type": "code",
   "execution_count": null,
   "id": "d5f0ead5",
   "metadata": {},
   "outputs": [],
   "source": [
    "energy = plotly.offline.plot([go.Scatter(x=df_filtered['timestamp'], y=df_filtered[graph_param])],\n",
    "                 output_type='div',\n",
    "                include_plotlyjs=False)"
   ]
  },
  {
   "cell_type": "code",
   "execution_count": null,
   "id": "d8a62f27",
   "metadata": {},
   "outputs": [],
   "source": [
    "energy_plotly = f'{energy}'\n",
    "restworkflowcontext.outPlotly(id=9,title=\"Line plot of {graph_param}\", text = energy_plotly)"
   ]
  },
  {
   "cell_type": "code",
   "execution_count": null,
   "id": "e85cdf34",
   "metadata": {},
   "outputs": [],
   "source": [
    "from IPython.display import HTML\n",
    "import plotly.graph_objs as go\n",
    "import plotly\n",
    "\n",
    "energy = plotly.offline.plot(\n",
    "    [go.Scatter(x=df_filtered['timestamp'], y=df_filtered[graph_param])],\n",
    "    output_type='div',\n",
    "    include_plotlyjs=True  # Needed for Jupyter\n",
    ")\n",
    "\n",
    "HTML(energy)"
   ]
  },
  {
   "cell_type": "code",
   "execution_count": null,
   "id": "80c3153b-d44f-463f-8b82-a2cdc15cc830",
   "metadata": {},
   "outputs": [],
   "source": []
  }
 ],
 "metadata": {
  "kernelspec": {
   "display_name": "Python 3 (ipykernel)",
   "language": "python",
   "name": "python3"
  },
  "language_info": {
   "codemirror_mode": {
    "name": "ipython",
    "version": 3
   },
   "file_extension": ".py",
   "mimetype": "text/x-python",
   "name": "python",
   "nbconvert_exporter": "python",
   "pygments_lexer": "ipython3",
   "version": "3.12.3"
  }
 },
 "nbformat": 4,
 "nbformat_minor": 5
}
