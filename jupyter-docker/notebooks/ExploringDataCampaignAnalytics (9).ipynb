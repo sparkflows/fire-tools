{
 "cells": [
  {
   "cell_type": "code",
   "execution_count": 281,
   "id": "4adeab84-8ca1-44cb-b734-94253ac8aa5d",
   "metadata": {},
   "outputs": [],
   "source": [
    "import pandas as pd\n",
    "import sys\n",
    "\n",
    "\n",
    "\n",
    "#!pip install https://sparkflows-release.s3.amazonaws.com/fire/jupyter-docker/firenotebookwheel/fire_notebook-3.1.0-py3-none-any.whl\n",
    "from fire_notebook.output.workflowcontext import RestWorkflowContext"
   ]
  },
  {
   "cell_type": "code",
   "execution_count": null,
   "id": "8cf6f7b3-5de4-40ec-a1b8-552f21864d85",
   "metadata": {},
   "outputs": [],
   "source": []
  },
  {
   "cell_type": "code",
   "execution_count": 282,
   "id": "bea83043-54c0-43a2-8a9e-d1f936572bbe",
   "metadata": {},
   "outputs": [],
   "source": [
    "pd.set_option('display.max_columns', None)"
   ]
  },
  {
   "cell_type": "code",
   "execution_count": 283,
   "id": "1b9d6a83-202a-4958-8f1c-174dd8512589",
   "metadata": {},
   "outputs": [],
   "source": [
    "df = pd.read_csv('campaign.csv')"
   ]
  },
  {
   "cell_type": "code",
   "execution_count": 284,
   "id": "81ed684e-6dbb-4877-8f01-9e9d45618ba9",
   "metadata": {},
   "outputs": [
    {
     "data": {
      "text/plain": [
       "(7740, 36)"
      ]
     },
     "execution_count": 284,
     "metadata": {},
     "output_type": "execute_result"
    }
   ],
   "source": [
    "df.shape"
   ]
  },
  {
   "cell_type": "code",
   "execution_count": 285,
   "id": "e1fd054b-485a-41be-b9eb-efa907d0f421",
   "metadata": {},
   "outputs": [],
   "source": [
    "# --var selectOperation1=eda1 \n",
    "# --var description_arg=TypeA \n",
    "# --var coupontype_arg=instore_discount \n",
    "# --var agegroup_arg=25-34 \n",
    "# --var maritalstatus_arg=% \n",
    "# --var incomegroup_arg=% \n",
    "# --var homeowner_arg=% \n",
    "# --var hhcomp_arg=% \n",
    "# --var householdsize_from=0 \n",
    "# --var householdsize_to=2"
   ]
  },
  {
   "cell_type": "code",
   "execution_count": 286,
   "id": "ff7535bb-0c91-4eba-9544-76226465dbce",
   "metadata": {},
   "outputs": [
    {
     "data": {
      "text/html": [
       "<div>\n",
       "<style scoped>\n",
       "    .dataframe tbody tr th:only-of-type {\n",
       "        vertical-align: middle;\n",
       "    }\n",
       "\n",
       "    .dataframe tbody tr th {\n",
       "        vertical-align: top;\n",
       "    }\n",
       "\n",
       "    .dataframe thead th {\n",
       "        text-align: right;\n",
       "    }\n",
       "</style>\n",
       "<table border=\"1\" class=\"dataframe\">\n",
       "  <thead>\n",
       "    <tr style=\"text-align: right;\">\n",
       "      <th></th>\n",
       "      <th>household_id</th>\n",
       "      <th>PRODUCT_ID</th>\n",
       "      <th>CAMPAIGN</th>\n",
       "      <th>DESCRIPTION</th>\n",
       "      <th>START_DAY</th>\n",
       "      <th>END_DAY</th>\n",
       "      <th>MANUFACTURER</th>\n",
       "      <th>DEPARTMENT</th>\n",
       "      <th>BRAND</th>\n",
       "      <th>COMMODITY_DESC</th>\n",
       "      <th>SUB_COMMODITY_DESC</th>\n",
       "      <th>CURR_SIZE_OF_PRODUCT</th>\n",
       "      <th>basket_id</th>\n",
       "      <th>week_no</th>\n",
       "      <th>day</th>\n",
       "      <th>transaction_time</th>\n",
       "      <th>store_id</th>\n",
       "      <th>campaign_coupon_discount</th>\n",
       "      <th>manuf_coupon_discount</th>\n",
       "      <th>units</th>\n",
       "      <th>amount_list</th>\n",
       "      <th>manuf_coupon_match_discount</th>\n",
       "      <th>total_coupon_discount</th>\n",
       "      <th>instore_discount</th>\n",
       "      <th>amount_paid</th>\n",
       "      <th>AGE_DESC</th>\n",
       "      <th>MARITAL_STATUS_CODE</th>\n",
       "      <th>INCOME_DESC</th>\n",
       "      <th>HOMEOWNER_DESC</th>\n",
       "      <th>HH_COMP_DESC</th>\n",
       "      <th>HOUSEHOLD_SIZE_DESC</th>\n",
       "      <th>KID_CATEGORY_DESC</th>\n",
       "      <th>redemption_type</th>\n",
       "      <th>campaign_availed_day</th>\n",
       "      <th>discount_availed</th>\n",
       "      <th>sales_during_campaign</th>\n",
       "    </tr>\n",
       "  </thead>\n",
       "  <tbody>\n",
       "    <tr>\n",
       "      <th>0</th>\n",
       "      <td>105</td>\n",
       "      <td>835715</td>\n",
       "      <td>1</td>\n",
       "      <td>TypeB</td>\n",
       "      <td>346</td>\n",
       "      <td>383</td>\n",
       "      <td>407</td>\n",
       "      <td>GROCERY</td>\n",
       "      <td>National</td>\n",
       "      <td>FRUIT - SHELF STABLE</td>\n",
       "      <td>PEACHES</td>\n",
       "      <td>15 OZ</td>\n",
       "      <td>NaN</td>\n",
       "      <td>NaN</td>\n",
       "      <td>NaN</td>\n",
       "      <td>NaN</td>\n",
       "      <td>NaN</td>\n",
       "      <td>NaN</td>\n",
       "      <td>NaN</td>\n",
       "      <td>NaN</td>\n",
       "      <td>NaN</td>\n",
       "      <td>NaN</td>\n",
       "      <td>NaN</td>\n",
       "      <td>NaN</td>\n",
       "      <td>NaN</td>\n",
       "      <td>25-34</td>\n",
       "      <td>B</td>\n",
       "      <td>Under 15K</td>\n",
       "      <td>Homeowner</td>\n",
       "      <td>1 Adult Kids</td>\n",
       "      <td>3</td>\n",
       "      <td>2</td>\n",
       "      <td>no_discount</td>\n",
       "      <td>na</td>\n",
       "      <td>not_redeemed</td>\n",
       "      <td>0.0</td>\n",
       "    </tr>\n",
       "    <tr>\n",
       "      <th>1</th>\n",
       "      <td>513</td>\n",
       "      <td>1095329</td>\n",
       "      <td>2</td>\n",
       "      <td>TypeB</td>\n",
       "      <td>351</td>\n",
       "      <td>383</td>\n",
       "      <td>282</td>\n",
       "      <td>GROCERY</td>\n",
       "      <td>National</td>\n",
       "      <td>FRZN VEGETABLE/VEG DSH</td>\n",
       "      <td>FRZN BOXED VEGETABLES - PLAIN</td>\n",
       "      <td>10 OZ</td>\n",
       "      <td>NaN</td>\n",
       "      <td>NaN</td>\n",
       "      <td>NaN</td>\n",
       "      <td>NaN</td>\n",
       "      <td>NaN</td>\n",
       "      <td>NaN</td>\n",
       "      <td>NaN</td>\n",
       "      <td>NaN</td>\n",
       "      <td>NaN</td>\n",
       "      <td>NaN</td>\n",
       "      <td>NaN</td>\n",
       "      <td>NaN</td>\n",
       "      <td>NaN</td>\n",
       "      <td>45-54</td>\n",
       "      <td>U</td>\n",
       "      <td>75-99K</td>\n",
       "      <td>Homeowner</td>\n",
       "      <td>2 Adults No Kids</td>\n",
       "      <td>2</td>\n",
       "      <td>None/Unknown</td>\n",
       "      <td>no_discount</td>\n",
       "      <td>na</td>\n",
       "      <td>not_redeemed</td>\n",
       "      <td>0.0</td>\n",
       "    </tr>\n",
       "    <tr>\n",
       "      <th>2</th>\n",
       "      <td>98</td>\n",
       "      <td>936270</td>\n",
       "      <td>3</td>\n",
       "      <td>TypeC</td>\n",
       "      <td>356</td>\n",
       "      <td>412</td>\n",
       "      <td>69</td>\n",
       "      <td>DRUG GM</td>\n",
       "      <td>Private</td>\n",
       "      <td>SINUS AND ALLERGY</td>\n",
       "      <td>SINUS AND ALLERGY</td>\n",
       "      <td>NaN</td>\n",
       "      <td>NaN</td>\n",
       "      <td>NaN</td>\n",
       "      <td>NaN</td>\n",
       "      <td>NaN</td>\n",
       "      <td>NaN</td>\n",
       "      <td>NaN</td>\n",
       "      <td>NaN</td>\n",
       "      <td>NaN</td>\n",
       "      <td>NaN</td>\n",
       "      <td>NaN</td>\n",
       "      <td>NaN</td>\n",
       "      <td>NaN</td>\n",
       "      <td>NaN</td>\n",
       "      <td>35-44</td>\n",
       "      <td>U</td>\n",
       "      <td>35-49K</td>\n",
       "      <td>Unknown</td>\n",
       "      <td>1 Adult Kids</td>\n",
       "      <td>2</td>\n",
       "      <td>1</td>\n",
       "      <td>private_label</td>\n",
       "      <td>na</td>\n",
       "      <td>not_redeemed</td>\n",
       "      <td>0.0</td>\n",
       "    </tr>\n",
       "    <tr>\n",
       "      <th>3</th>\n",
       "      <td>321</td>\n",
       "      <td>937489</td>\n",
       "      <td>4</td>\n",
       "      <td>TypeB</td>\n",
       "      <td>372</td>\n",
       "      <td>404</td>\n",
       "      <td>531</td>\n",
       "      <td>GROCERY</td>\n",
       "      <td>National</td>\n",
       "      <td>BAKING NEEDS</td>\n",
       "      <td>BITS &amp; MORSELS</td>\n",
       "      <td>11.5 OZ</td>\n",
       "      <td>NaN</td>\n",
       "      <td>NaN</td>\n",
       "      <td>NaN</td>\n",
       "      <td>NaN</td>\n",
       "      <td>NaN</td>\n",
       "      <td>NaN</td>\n",
       "      <td>NaN</td>\n",
       "      <td>NaN</td>\n",
       "      <td>NaN</td>\n",
       "      <td>NaN</td>\n",
       "      <td>NaN</td>\n",
       "      <td>NaN</td>\n",
       "      <td>NaN</td>\n",
       "      <td>45-54</td>\n",
       "      <td>A</td>\n",
       "      <td>100-124K</td>\n",
       "      <td>Homeowner</td>\n",
       "      <td>2 Adults No Kids</td>\n",
       "      <td>2</td>\n",
       "      <td>None/Unknown</td>\n",
       "      <td>no_discount</td>\n",
       "      <td>na</td>\n",
       "      <td>not_redeemed</td>\n",
       "      <td>0.0</td>\n",
       "    </tr>\n",
       "    <tr>\n",
       "      <th>4</th>\n",
       "      <td>329</td>\n",
       "      <td>908064</td>\n",
       "      <td>4</td>\n",
       "      <td>TypeB</td>\n",
       "      <td>372</td>\n",
       "      <td>404</td>\n",
       "      <td>1225</td>\n",
       "      <td>GROCERY</td>\n",
       "      <td>National</td>\n",
       "      <td>REFRGRATD DOUGH PRODUCTS</td>\n",
       "      <td>REFRIGERATED COOKIES-CHUB</td>\n",
       "      <td>16.5 OZ</td>\n",
       "      <td>NaN</td>\n",
       "      <td>NaN</td>\n",
       "      <td>NaN</td>\n",
       "      <td>NaN</td>\n",
       "      <td>NaN</td>\n",
       "      <td>NaN</td>\n",
       "      <td>NaN</td>\n",
       "      <td>NaN</td>\n",
       "      <td>NaN</td>\n",
       "      <td>NaN</td>\n",
       "      <td>NaN</td>\n",
       "      <td>NaN</td>\n",
       "      <td>NaN</td>\n",
       "      <td>25-34</td>\n",
       "      <td>U</td>\n",
       "      <td>75-99K</td>\n",
       "      <td>Unknown</td>\n",
       "      <td>Single Female</td>\n",
       "      <td>1</td>\n",
       "      <td>None/Unknown</td>\n",
       "      <td>no_discount</td>\n",
       "      <td>na</td>\n",
       "      <td>not_redeemed</td>\n",
       "      <td>0.0</td>\n",
       "    </tr>\n",
       "  </tbody>\n",
       "</table>\n",
       "</div>"
      ],
      "text/plain": [
       "   household_id  PRODUCT_ID  CAMPAIGN DESCRIPTION  START_DAY  END_DAY  \\\n",
       "0           105      835715         1       TypeB        346      383   \n",
       "1           513     1095329         2       TypeB        351      383   \n",
       "2            98      936270         3       TypeC        356      412   \n",
       "3           321      937489         4       TypeB        372      404   \n",
       "4           329      908064         4       TypeB        372      404   \n",
       "\n",
       "   MANUFACTURER DEPARTMENT     BRAND            COMMODITY_DESC  \\\n",
       "0           407    GROCERY  National      FRUIT - SHELF STABLE   \n",
       "1           282    GROCERY  National    FRZN VEGETABLE/VEG DSH   \n",
       "2            69    DRUG GM   Private         SINUS AND ALLERGY   \n",
       "3           531    GROCERY  National              BAKING NEEDS   \n",
       "4          1225    GROCERY  National  REFRGRATD DOUGH PRODUCTS   \n",
       "\n",
       "              SUB_COMMODITY_DESC CURR_SIZE_OF_PRODUCT  basket_id  week_no  \\\n",
       "0                        PEACHES                15 OZ        NaN      NaN   \n",
       "1  FRZN BOXED VEGETABLES - PLAIN                10 OZ        NaN      NaN   \n",
       "2              SINUS AND ALLERGY                  NaN        NaN      NaN   \n",
       "3                 BITS & MORSELS              11.5 OZ        NaN      NaN   \n",
       "4      REFRIGERATED COOKIES-CHUB              16.5 OZ        NaN      NaN   \n",
       "\n",
       "   day  transaction_time  store_id  campaign_coupon_discount  \\\n",
       "0  NaN               NaN       NaN                       NaN   \n",
       "1  NaN               NaN       NaN                       NaN   \n",
       "2  NaN               NaN       NaN                       NaN   \n",
       "3  NaN               NaN       NaN                       NaN   \n",
       "4  NaN               NaN       NaN                       NaN   \n",
       "\n",
       "   manuf_coupon_discount  units  amount_list  manuf_coupon_match_discount  \\\n",
       "0                    NaN    NaN          NaN                          NaN   \n",
       "1                    NaN    NaN          NaN                          NaN   \n",
       "2                    NaN    NaN          NaN                          NaN   \n",
       "3                    NaN    NaN          NaN                          NaN   \n",
       "4                    NaN    NaN          NaN                          NaN   \n",
       "\n",
       "   total_coupon_discount  instore_discount  amount_paid AGE_DESC  \\\n",
       "0                    NaN               NaN          NaN    25-34   \n",
       "1                    NaN               NaN          NaN    45-54   \n",
       "2                    NaN               NaN          NaN    35-44   \n",
       "3                    NaN               NaN          NaN    45-54   \n",
       "4                    NaN               NaN          NaN    25-34   \n",
       "\n",
       "  MARITAL_STATUS_CODE INCOME_DESC HOMEOWNER_DESC      HH_COMP_DESC  \\\n",
       "0                   B   Under 15K      Homeowner      1 Adult Kids   \n",
       "1                   U      75-99K      Homeowner  2 Adults No Kids   \n",
       "2                   U      35-49K        Unknown      1 Adult Kids   \n",
       "3                   A    100-124K      Homeowner  2 Adults No Kids   \n",
       "4                   U      75-99K        Unknown     Single Female   \n",
       "\n",
       "  HOUSEHOLD_SIZE_DESC KID_CATEGORY_DESC redemption_type campaign_availed_day  \\\n",
       "0                   3                 2     no_discount                   na   \n",
       "1                   2      None/Unknown     no_discount                   na   \n",
       "2                   2                 1   private_label                   na   \n",
       "3                   2      None/Unknown     no_discount                   na   \n",
       "4                   1      None/Unknown     no_discount                   na   \n",
       "\n",
       "  discount_availed  sales_during_campaign  \n",
       "0     not_redeemed                    0.0  \n",
       "1     not_redeemed                    0.0  \n",
       "2     not_redeemed                    0.0  \n",
       "3     not_redeemed                    0.0  \n",
       "4     not_redeemed                    0.0  "
      ]
     },
     "execution_count": 286,
     "metadata": {},
     "output_type": "execute_result"
    }
   ],
   "source": [
    "df.head()"
   ]
  },
  {
   "cell_type": "code",
   "execution_count": 287,
   "id": "97419ad0-3bed-4c27-9c87-2314012ab1c7",
   "metadata": {},
   "outputs": [
    {
     "name": "stdout",
     "output_type": "stream",
     "text": [
      "WebserverURL:-f\n",
      "jobId:C:\\Users\\NMBR-1XNW4N3\\AppData\\Roaming\\jupyter\\runtime\\kernel-8ba008f8-6361-45e2-bddf-637b68d976a8.json\n",
      "description_arg: %\n",
      "coupontype_arg: %\n",
      "agegroup_arg: %\n",
      "maritalstatus: %\n",
      "incomegroup_arg: %\n",
      "homeowner_arg: %\n",
      "hhcomp_arg: %\n",
      "householdsize_from: 0\n",
      "householdsize_to: 6\n",
      "Sending Message: {\"progress\": \"20\", \"id\": 9, \"name\": \"Progress\", \"title\": \"Progress\", \"type\": \"progress\", \"resultType\": 3, \"visibility\": \"EXPANDED\", \"time\": \"Aug 05, 2025 07:52:09 PM\"}\n",
      "Not sending message to fire_notebook server as the post back URL is not http\n"
     ]
    }
   ],
   "source": [
    "#parameters_list = [\n",
    "#    \"placeholder\",\n",
    "#    \"http://localhost\",  # webserverURL\n",
    "#    \"00001\",  # jobId\n",
    "#    \"description_arg=TypeA,coupontype_arg=%,agegroup_arg=%,maritalstatus=%,incomegroup_arg=%,homeowner_arg=%,hhcomp_arg=%,householdsize_from=0,householdsize_to=6\"\n",
    "#]\n",
    "\n",
    "#restworkflowcontext = RestWorkflowContext(parameters=parameters_list)\n",
    "\n",
    "parameters_list = sys.argv\n",
    "restworkflowcontext = RestWorkflowContext(parameters=parameters_list)\n",
    "\n",
    "description_arg = restworkflowcontext.getParmeters(parameter_name=\"description_arg\", default=\"%\")\n",
    "coupontype_arg = restworkflowcontext.getParmeters(parameter_name=\"coupontype_arg\", default=\"%\")\n",
    "agegroup_arg = restworkflowcontext.getParmeters(parameter_name=\"agegroup_arg\", default=\"%\")\n",
    "maritalstatus = restworkflowcontext.getParmeters(parameter_name=\"maritalstatus\", default=\"%\")\n",
    "incomegroup_arg = restworkflowcontext.getParmeters(parameter_name=\"incomegroup_arg\", default=\"%\")\n",
    "homeowner_arg = restworkflowcontext.getParmeters(parameter_name=\"homeowner_arg\", default=\"%\")\n",
    "hhcomp_arg = restworkflowcontext.getParmeters(parameter_name=\"hhcomp_arg\", default=\"%\")\n",
    "householdsize_from = restworkflowcontext.getParmeters(parameter_name=\"householdsize_from\", default=\"0\")\n",
    "householdsize_to = restworkflowcontext.getParmeters(parameter_name=\"householdsize_to\", default=\"6\")\n",
    "\n",
    "# Output the values\n",
    "print(f\"description_arg: {description_arg}\")\n",
    "print(f\"coupontype_arg: {coupontype_arg}\")\n",
    "print(f\"agegroup_arg: {agegroup_arg}\")\n",
    "print(f\"maritalstatus: {maritalstatus}\")\n",
    "print(f\"incomegroup_arg: {incomegroup_arg}\")\n",
    "print(f\"homeowner_arg: {homeowner_arg}\")\n",
    "print(f\"hhcomp_arg: {hhcomp_arg}\")\n",
    "print(f\"householdsize_from: {householdsize_from}\")\n",
    "print(f\"householdsize_to: {householdsize_to}\")\n",
    "\n",
    "message=\"20\"\n",
    "restworkflowcontext.outputProgress(9, title=\"Progress\", progress=message)"
   ]
  },
  {
   "cell_type": "code",
   "execution_count": 332,
   "id": "9694c41f-eba9-4b09-b2bc-979440b00cef",
   "metadata": {},
   "outputs": [
    {
     "name": "stdout",
     "output_type": "stream",
     "text": [
      "(7173, 36)\n",
      "Sending Message: {\"cellValues\": [[\"household_id\", \"PRODUCT_ID\", \"CAMPAIGN\", \"DESCRIPTION\", \"START_DAY\", \"END_DAY\", \"MANUFACTURER\", \"DEPARTMENT\", \"BRAND\", \"COMMODITY_DESC\", \"SUB_COMMODITY_DESC\", \"CURR_SIZE_OF_PRODUCT\", \"basket_id\", \"week_no\", \"day\", \"transaction_time\", \"store_id\", \"campaign_coupon_discount\", \"manuf_coupon_discount\", \"units\", \"amount_list\", \"manuf_coupon_match_discount\", \"total_coupon_discount\", \"instore_discount\", \"amount_paid\", \"AGE_DESC\", \"MARITAL_STATUS_CODE\", \"INCOME_DESC\", \"HOMEOWNER_DESC\", \"HH_COMP_DESC\", \"HOUSEHOLD_SIZE_DESC\", \"KID_CATEGORY_DESC\", \"redemption_type\", \"campaign_availed_day\", \"discount_availed\", \"sales_during_campaign\"], [\"int64\", \"int64\", \"int64\", \"object\", \"int64\", \"int64\", \"int64\", \"object\", \"object\", \"object\", \"object\", \"object\", \"float64\", \"float64\", \"float64\", \"float64\", \"float64\", \"float64\", \"float64\", \"float64\", \"float64\", \"float64\", \"float64\", \"float64\", \"float64\", \"object\", \"object\", \"object\", \"object\", \"object\", \"float64\", \"object\", \"object\", \"object\", \"object\", \"float64\"], [105, 835715, 1, \"TypeB\", 346, 383, 407, \"GROCERY\", \"National\", \"FRUIT - SHELF STABLE\", \"PEACHES\", \"15 OZ\", nan, nan, nan, nan, nan, nan, nan, nan, nan, nan, nan, nan, nan, \"25-34\", \"B\", \"Under 15K\", \"Homeowner\", \"1 Adult Kids\", 3.0, \"2\", \"no_discount\", \"na\", \"not_redeemed\", 0.0], [513, 1095329, 2, \"TypeB\", 351, 383, 282, \"GROCERY\", \"National\", \"FRZN VEGETABLE/VEG DSH\", \"FRZN BOXED VEGETABLES - PLAIN\", \"10 OZ\", nan, nan, nan, nan, nan, nan, nan, nan, nan, nan, nan, nan, nan, \"45-54\", \"U\", \"75-99K\", \"Homeowner\", \"2 Adults No Kids\", 2.0, \"None/Unknown\", \"no_discount\", \"na\", \"not_redeemed\", 0.0], [98, 936270, 3, \"TypeC\", 356, 412, 69, \"DRUG GM\", \"Private\", \"SINUS AND ALLERGY\", \"SINUS AND ALLERGY\", nan, nan, nan, nan, nan, nan, nan, nan, nan, nan, nan, nan, nan, nan, \"35-44\", \"U\", \"35-49K\", \"Unknown\", \"1 Adult Kids\", 2.0, \"1\", \"private_label\", \"na\", \"not_redeemed\", 0.0], [321, 937489, 4, \"TypeB\", 372, 404, 531, \"GROCERY\", \"National\", \"BAKING NEEDS\", \"BITS & MORSELS\", \"11.5 OZ\", nan, nan, nan, nan, nan, nan, nan, nan, nan, nan, nan, nan, nan, \"45-54\", \"A\", \"100-124K\", \"Homeowner\", \"2 Adults No Kids\", 2.0, \"None/Unknown\", \"no_discount\", \"na\", \"not_redeemed\", 0.0], [329, 908064, 4, \"TypeB\", 372, 404, 1225, \"GROCERY\", \"National\", \"REFRGRATD DOUGH PRODUCTS\", \"REFRIGERATED COOKIES-CHUB\", \"16.5 OZ\", nan, nan, nan, nan, nan, nan, nan, nan, nan, nan, nan, nan, nan, \"25-34\", \"U\", \"75-99K\", \"Unknown\", \"Single Female\", 1.0, \"None/Unknown\", \"no_discount\", \"na\", \"not_redeemed\", 0.0]], \"id\": 9, \"name\": \"Pandas DataFrame\", \"title\": \"Names\", \"type\": \"table\", \"resultType\": 3, \"visibility\": \"EXPANDED\", \"time\": \"Aug 05, 2025 09:15:07 PM\"}\n",
      "Not sending message to fire_notebook server as the post back URL is not http\n"
     ]
    }
   ],
   "source": [
    "# Function to apply filters only if the parameter list does not contain \"%\" (meaning no filter)\n",
    "def apply_filter(column, param_list):\n",
    "    if \"%\" in param_list:  # Skip filtering if \"%\" is in the param list\n",
    "        return True\n",
    "    else:\n",
    "        return column.fillna(\"\").apply(lambda x: any(param.lower() in str(x).lower() for param in param_list))\n",
    "\n",
    "# Example parameters as lists, where \"%\" means no filtering\n",
    "description_list = [description_arg] if description_arg != \"%\" else [\"%\"]\n",
    "agegroup_list = [agegroup_arg] if agegroup_arg != \"%\" else [\"%\"]\n",
    "maritalstatus_list = [maritalstatus] if maritalstatus != \"%\" else [\"%\"]\n",
    "incomegroup_list = [incomegroup_arg] if incomegroup_arg != \"%\" else [\"%\"]\n",
    "homeowner_list = [homeowner_arg] if homeowner_arg != \"%\" else [\"%\"]\n",
    "hhcomp_list = [hhcomp_arg] if hhcomp_arg != \"%\" else [\"%\"]\n",
    "coupontype_list = [coupontype_arg] if coupontype_arg != \"%\" else [\"%\"]\n",
    "\n",
    "\n",
    "# Ensure household size is provided directly\n",
    "householdsize_from = int(householdsize_from)\n",
    "householdsize_to = int(householdsize_to)\n",
    "\n",
    "# Convert 'HOUSEHOLD_SIZE_DESC' to numeric, invalid parsing will be set as NaN\n",
    "df['HOUSEHOLD_SIZE_DESC'] = pd.to_numeric(df['HOUSEHOLD_SIZE_DESC'], errors='coerce')\n",
    "\n",
    "\n",
    "# Apply filters to the DataFrame using lists\n",
    "filtered_df = df[\n",
    "    (apply_filter(df['DESCRIPTION'], description_list)) &\n",
    "    (apply_filter(df['AGE_DESC'], agegroup_list)) &\n",
    "    (apply_filter(df['MARITAL_STATUS_CODE'], maritalstatus_list)) &\n",
    "    (apply_filter(df['INCOME_DESC'], incomegroup_list)) &\n",
    "    (apply_filter(df['HOMEOWNER_DESC'], homeowner_list)) &\n",
    "    (apply_filter(df['HH_COMP_DESC'], hhcomp_list)) &\n",
    "    (df['HOUSEHOLD_SIZE_DESC'].between(householdsize_from, householdsize_to, inclusive='both')) &\n",
    "    (apply_filter(df['redemption_type'], coupontype_list))\n",
    "]\n",
    "print(filtered_df.shape)\n",
    "restworkflowcontext.outPandasDataframe(9, \"Names\", filtered_df,5)"
   ]
  },
  {
   "cell_type": "code",
   "execution_count": 318,
   "id": "b66b6fd8-af9c-443e-aa63-60339f4a7293",
   "metadata": {},
   "outputs": [],
   "source": [
    "df = filtered_df\n",
    "print()"
   ]
  },
  {
   "cell_type": "code",
   "execution_count": 290,
   "id": "b58e0625-bb3c-490a-b9c5-aa874b7e8d4f",
   "metadata": {},
   "outputs": [
    {
     "name": "stdout",
     "output_type": "stream",
     "text": [
      "Check the Input type..\n",
      "There is a match\n",
      " And Input is string type.\n",
      "Sending Message: {'text': 'Plotly.newPlot(                        @@eacaf6bd-5b69-4727-83ed-e2e739f7cf97@@,                        [{@@alignmentgroup@@:@@True@@,@@hovertemplate@@:@@Discount Status=%{x}\\\\u003cbr\\\\u003eNumber of Households=%{y}\\\\u003cextra\\\\u003e\\\\u003c\\\\u002fextra\\\\u003e@@,@@legendgroup@@:@@not_redeemed@@,@@marker@@:{@@color@@:@@#636efa@@,@@pattern@@:{@@shape@@:@@@@}},@@name@@:@@not_redeemed@@,@@offsetgroup@@:@@not_redeemed@@,@@orientation@@:@@v@@,@@showlegend@@:true,@@textposition@@:@@auto@@,@@x@@:[@@not_redeemed@@],@@xaxis@@:@@x@@,@@y@@:[7158],@@yaxis@@:@@y@@,@@type@@:@@bar@@},{@@alignmentgroup@@:@@True@@,@@hovertemplate@@:@@Discount Status=%{x}\\\\u003cbr\\\\u003eNumber of Households=%{y}\\\\u003cextra\\\\u003e\\\\u003c\\\\u002fextra\\\\u003e@@,@@legendgroup@@:@@redeemed@@,@@marker@@:{@@color@@:@@#EF553B@@,@@pattern@@:{@@shape@@:@@@@}},@@name@@:@@redeemed@@,@@offsetgroup@@:@@redeemed@@,@@orientation@@:@@v@@,@@showlegend@@:true,@@textposition@@:@@auto@@,@@x@@:[@@redeemed@@],@@xaxis@@:@@x@@,@@y@@:[15],@@yaxis@@:@@y@@,@@type@@:@@bar@@}],                        {@@barmode@@:@@relative@@,@@legend@@:{@@title@@:{@@text@@:@@Discount Status@@},@@tracegroupgap@@:0},@@template@@:{@@data@@:{@@barpolar@@:[{@@marker@@:{@@line@@:{@@color@@:@@#E5ECF6@@,@@width@@:0.5},@@pattern@@:{@@fillmode@@:@@overlay@@,@@size@@:10,@@solidity@@:0.2}},@@type@@:@@barpolar@@}],@@bar@@:[{@@error_x@@:{@@color@@:@@#2a3f5f@@},@@error_y@@:{@@color@@:@@#2a3f5f@@},@@marker@@:{@@line@@:{@@color@@:@@#E5ECF6@@,@@width@@:0.5},@@pattern@@:{@@fillmode@@:@@overlay@@,@@size@@:10,@@solidity@@:0.2}},@@type@@:@@bar@@}],@@carpet@@:[{@@aaxis@@:{@@endlinecolor@@:@@#2a3f5f@@,@@gridcolor@@:@@white@@,@@linecolor@@:@@white@@,@@minorgridcolor@@:@@white@@,@@startlinecolor@@:@@#2a3f5f@@},@@baxis@@:{@@endlinecolor@@:@@#2a3f5f@@,@@gridcolor@@:@@white@@,@@linecolor@@:@@white@@,@@minorgridcolor@@:@@white@@,@@startlinecolor@@:@@#2a3f5f@@},@@type@@:@@carpet@@}],@@choropleth@@:[{@@colorbar@@:{@@outlinewidth@@:0,@@ticks@@:@@@@},@@type@@:@@choropleth@@}],@@contourcarpet@@:[{@@colorbar@@:{@@outlinewidth@@:0,@@ticks@@:@@@@},@@type@@:@@contourcarpet@@}],@@contour@@:[{@@colorbar@@:{@@outlinewidth@@:0,@@ticks@@:@@@@},@@colorscale@@:[[0.0,@@#0d0887@@],[0.1111111111111111,@@#46039f@@],[0.2222222222222222,@@#7201a8@@],[0.3333333333333333,@@#9c179e@@],[0.4444444444444444,@@#bd3786@@],[0.5555555555555556,@@#d8576b@@],[0.6666666666666666,@@#ed7953@@],[0.7777777777777778,@@#fb9f3a@@],[0.8888888888888888,@@#fdca26@@],[1.0,@@#f0f921@@]],@@type@@:@@contour@@}],@@heatmapgl@@:[{@@colorbar@@:{@@outlinewidth@@:0,@@ticks@@:@@@@},@@colorscale@@:[[0.0,@@#0d0887@@],[0.1111111111111111,@@#46039f@@],[0.2222222222222222,@@#7201a8@@],[0.3333333333333333,@@#9c179e@@],[0.4444444444444444,@@#bd3786@@],[0.5555555555555556,@@#d8576b@@],[0.6666666666666666,@@#ed7953@@],[0.7777777777777778,@@#fb9f3a@@],[0.8888888888888888,@@#fdca26@@],[1.0,@@#f0f921@@]],@@type@@:@@heatmapgl@@}],@@heatmap@@:[{@@colorbar@@:{@@outlinewidth@@:0,@@ticks@@:@@@@},@@colorscale@@:[[0.0,@@#0d0887@@],[0.1111111111111111,@@#46039f@@],[0.2222222222222222,@@#7201a8@@],[0.3333333333333333,@@#9c179e@@],[0.4444444444444444,@@#bd3786@@],[0.5555555555555556,@@#d8576b@@],[0.6666666666666666,@@#ed7953@@],[0.7777777777777778,@@#fb9f3a@@],[0.8888888888888888,@@#fdca26@@],[1.0,@@#f0f921@@]],@@type@@:@@heatmap@@}],@@histogram2dcontour@@:[{@@colorbar@@:{@@outlinewidth@@:0,@@ticks@@:@@@@},@@colorscale@@:[[0.0,@@#0d0887@@],[0.1111111111111111,@@#46039f@@],[0.2222222222222222,@@#7201a8@@],[0.3333333333333333,@@#9c179e@@],[0.4444444444444444,@@#bd3786@@],[0.5555555555555556,@@#d8576b@@],[0.6666666666666666,@@#ed7953@@],[0.7777777777777778,@@#fb9f3a@@],[0.8888888888888888,@@#fdca26@@],[1.0,@@#f0f921@@]],@@type@@:@@histogram2dcontour@@}],@@histogram2d@@:[{@@colorbar@@:{@@outlinewidth@@:0,@@ticks@@:@@@@},@@colorscale@@:[[0.0,@@#0d0887@@],[0.1111111111111111,@@#46039f@@],[0.2222222222222222,@@#7201a8@@],[0.3333333333333333,@@#9c179e@@],[0.4444444444444444,@@#bd3786@@],[0.5555555555555556,@@#d8576b@@],[0.6666666666666666,@@#ed7953@@],[0.7777777777777778,@@#fb9f3a@@],[0.8888888888888888,@@#fdca26@@],[1.0,@@#f0f921@@]],@@type@@:@@histogram2d@@}],@@histogram@@:[{@@marker@@:{@@pattern@@:{@@fillmode@@:@@overlay@@,@@size@@:10,@@solidity@@:0.2}},@@type@@:@@histogram@@}],@@mesh3d@@:[{@@colorbar@@:{@@outlinewidth@@:0,@@ticks@@:@@@@},@@type@@:@@mesh3d@@}],@@parcoords@@:[{@@line@@:{@@colorbar@@:{@@outlinewidth@@:0,@@ticks@@:@@@@}},@@type@@:@@parcoords@@}],@@pie@@:[{@@automargin@@:true,@@type@@:@@pie@@}],@@scatter3d@@:[{@@line@@:{@@colorbar@@:{@@outlinewidth@@:0,@@ticks@@:@@@@}},@@marker@@:{@@colorbar@@:{@@outlinewidth@@:0,@@ticks@@:@@@@}},@@type@@:@@scatter3d@@}],@@scattercarpet@@:[{@@marker@@:{@@colorbar@@:{@@outlinewidth@@:0,@@ticks@@:@@@@}},@@type@@:@@scattercarpet@@}],@@scattergeo@@:[{@@marker@@:{@@colorbar@@:{@@outlinewidth@@:0,@@ticks@@:@@@@}},@@type@@:@@scattergeo@@}],@@scattergl@@:[{@@marker@@:{@@colorbar@@:{@@outlinewidth@@:0,@@ticks@@:@@@@}},@@type@@:@@scattergl@@}],@@scattermapbox@@:[{@@marker@@:{@@colorbar@@:{@@outlinewidth@@:0,@@ticks@@:@@@@}},@@type@@:@@scattermapbox@@}],@@scatterpolargl@@:[{@@marker@@:{@@colorbar@@:{@@outlinewidth@@:0,@@ticks@@:@@@@}},@@type@@:@@scatterpolargl@@}],@@scatterpolar@@:[{@@marker@@:{@@colorbar@@:{@@outlinewidth@@:0,@@ticks@@:@@@@}},@@type@@:@@scatterpolar@@}],@@scatter@@:[{@@fillpattern@@:{@@fillmode@@:@@overlay@@,@@size@@:10,@@solidity@@:0.2},@@type@@:@@scatter@@}],@@scatterternary@@:[{@@marker@@:{@@colorbar@@:{@@outlinewidth@@:0,@@ticks@@:@@@@}},@@type@@:@@scatterternary@@}],@@surface@@:[{@@colorbar@@:{@@outlinewidth@@:0,@@ticks@@:@@@@},@@colorscale@@:[[0.0,@@#0d0887@@],[0.1111111111111111,@@#46039f@@],[0.2222222222222222,@@#7201a8@@],[0.3333333333333333,@@#9c179e@@],[0.4444444444444444,@@#bd3786@@],[0.5555555555555556,@@#d8576b@@],[0.6666666666666666,@@#ed7953@@],[0.7777777777777778,@@#fb9f3a@@],[0.8888888888888888,@@#fdca26@@],[1.0,@@#f0f921@@]],@@type@@:@@surface@@}],@@table@@:[{@@cells@@:{@@fill@@:{@@color@@:@@#EBF0F8@@},@@line@@:{@@color@@:@@white@@}},@@header@@:{@@fill@@:{@@color@@:@@#C8D4E3@@},@@line@@:{@@color@@:@@white@@}},@@type@@:@@table@@}]},@@layout@@:{@@annotationdefaults@@:{@@arrowcolor@@:@@#2a3f5f@@,@@arrowhead@@:0,@@arrowwidth@@:1},@@autotypenumbers@@:@@strict@@,@@coloraxis@@:{@@colorbar@@:{@@outlinewidth@@:0,@@ticks@@:@@@@}},@@colorscale@@:{@@diverging@@:[[0,@@#8e0152@@],[0.1,@@#c51b7d@@],[0.2,@@#de77ae@@],[0.3,@@#f1b6da@@],[0.4,@@#fde0ef@@],[0.5,@@#f7f7f7@@],[0.6,@@#e6f5d0@@],[0.7,@@#b8e186@@],[0.8,@@#7fbc41@@],[0.9,@@#4d9221@@],[1,@@#276419@@]],@@sequential@@:[[0.0,@@#0d0887@@],[0.1111111111111111,@@#46039f@@],[0.2222222222222222,@@#7201a8@@],[0.3333333333333333,@@#9c179e@@],[0.4444444444444444,@@#bd3786@@],[0.5555555555555556,@@#d8576b@@],[0.6666666666666666,@@#ed7953@@],[0.7777777777777778,@@#fb9f3a@@],[0.8888888888888888,@@#fdca26@@],[1.0,@@#f0f921@@]],@@sequentialminus@@:[[0.0,@@#0d0887@@],[0.1111111111111111,@@#46039f@@],[0.2222222222222222,@@#7201a8@@],[0.3333333333333333,@@#9c179e@@],[0.4444444444444444,@@#bd3786@@],[0.5555555555555556,@@#d8576b@@],[0.6666666666666666,@@#ed7953@@],[0.7777777777777778,@@#fb9f3a@@],[0.8888888888888888,@@#fdca26@@],[1.0,@@#f0f921@@]]},@@colorway@@:[@@#636efa@@,@@#EF553B@@,@@#00cc96@@,@@#ab63fa@@,@@#FFA15A@@,@@#19d3f3@@,@@#FF6692@@,@@#B6E880@@,@@#FF97FF@@,@@#FECB52@@],@@font@@:{@@color@@:@@#2a3f5f@@},@@geo@@:{@@bgcolor@@:@@white@@,@@lakecolor@@:@@white@@,@@landcolor@@:@@#E5ECF6@@,@@showlakes@@:true,@@showland@@:true,@@subunitcolor@@:@@white@@},@@hoverlabel@@:{@@align@@:@@left@@},@@hovermode@@:@@closest@@,@@mapbox@@:{@@style@@:@@light@@},@@paper_bgcolor@@:@@white@@,@@plot_bgcolor@@:@@#E5ECF6@@,@@polar@@:{@@angularaxis@@:{@@gridcolor@@:@@white@@,@@linecolor@@:@@white@@,@@ticks@@:@@@@},@@bgcolor@@:@@#E5ECF6@@,@@radialaxis@@:{@@gridcolor@@:@@white@@,@@linecolor@@:@@white@@,@@ticks@@:@@@@}},@@scene@@:{@@xaxis@@:{@@backgroundcolor@@:@@#E5ECF6@@,@@gridcolor@@:@@white@@,@@gridwidth@@:2,@@linecolor@@:@@white@@,@@showbackground@@:true,@@ticks@@:@@@@,@@zerolinecolor@@:@@white@@},@@yaxis@@:{@@backgroundcolor@@:@@#E5ECF6@@,@@gridcolor@@:@@white@@,@@gridwidth@@:2,@@linecolor@@:@@white@@,@@showbackground@@:true,@@ticks@@:@@@@,@@zerolinecolor@@:@@white@@},@@zaxis@@:{@@backgroundcolor@@:@@#E5ECF6@@,@@gridcolor@@:@@white@@,@@gridwidth@@:2,@@linecolor@@:@@white@@,@@showbackground@@:true,@@ticks@@:@@@@,@@zerolinecolor@@:@@white@@}},@@shapedefaults@@:{@@line@@:{@@color@@:@@#2a3f5f@@}},@@ternary@@:{@@aaxis@@:{@@gridcolor@@:@@white@@,@@linecolor@@:@@white@@,@@ticks@@:@@@@},@@baxis@@:{@@gridcolor@@:@@white@@,@@linecolor@@:@@white@@,@@ticks@@:@@@@},@@bgcolor@@:@@#E5ECF6@@,@@caxis@@:{@@gridcolor@@:@@white@@,@@linecolor@@:@@white@@,@@ticks@@:@@@@}},@@title@@:{@@x@@:0.05},@@xaxis@@:{@@automargin@@:true,@@gridcolor@@:@@white@@,@@linecolor@@:@@white@@,@@ticks@@:@@@@,@@title@@:{@@standoff@@:15},@@zerolinecolor@@:@@white@@,@@zerolinewidth@@:2},@@yaxis@@:{@@automargin@@:true,@@gridcolor@@:@@white@@,@@linecolor@@:@@white@@,@@ticks@@:@@@@,@@title@@:{@@standoff@@:15},@@zerolinecolor@@:@@white@@,@@zerolinewidth@@:2}}},@@title@@:{@@text@@:@@Distribution of Households Availed Discounts vs Not Availed@@},@@xaxis@@:{@@anchor@@:@@y@@,@@categoryarray@@:[@@not_redeemed@@,@@redeemed@@],@@categoryorder@@:@@array@@,@@domain@@:[0.0,1.0],@@title@@:{@@text@@:@@Discount Status@@}},@@yaxis@@:{@@anchor@@:@@x@@,@@domain@@:[0.0,1.0],@@title@@:{@@text@@:@@Number of Households@@}}},                        {@@responsive@@: true}                    )', 'id': 9, 'name': 'Distribution of Households Availed Discounts vs Not Availed', 'title': 'Distribution of Households Availed Discounts vs Not Availed', 'type': 'plotly', 'resultType': 3, 'visibility': 'EXPANDED', 'time': 'Aug 05, 2025 07:52:09 PM'}\n",
      "Not sending message to fire_notebook server as the post back URL is not http\n"
     ]
    }
   ],
   "source": [
    "\n",
    "import pandas as pd\n",
    "import plotly.express as px\n",
    "import plotly\n",
    "\n",
    "# Group data to count households based on whether they availed discounts or not\n",
    "discount_counts = df.groupby('discount_availed')['household_id'].count().reset_index()\n",
    "discount_counts.columns = ['Discount Status', 'Household Count']\n",
    "\n",
    "# Create a stacked bar chart\n",
    "fig = px.bar(\n",
    "    discount_counts,\n",
    "    x='Discount Status',\n",
    "    y='Household Count',\n",
    "    title='Distribution of Households Availed Discounts vs Not Availed',\n",
    "    labels={'Discount Status': 'Discount Status', 'Household Count': 'Number of Households'},\n",
    "    color='Discount Status',\n",
    ")\n",
    "\n",
    "test = plotly.offline.plot(fig, output_type='div', include_plotlyjs=False)\n",
    "example_plotly = f'{test}'\n",
    "restworkflowcontext.outPlotly(9, title=\"Distribution of Households Availed Discounts vs Not Availed\", text=example_plotly)\n",
    "\n",
    "# fig.show()\n"
   ]
  },
  {
   "cell_type": "markdown",
   "id": "596d7eae-26ca-4eb3-88fd-60bf5a565035",
   "metadata": {},
   "source": [
    "## Campaign-wise Redemption of Coupons"
   ]
  },
  {
   "cell_type": "code",
   "execution_count": 292,
   "id": "5fe5178d-b9e4-461f-8d35-ba8d3166cfb5",
   "metadata": {},
   "outputs": [
    {
     "name": "stdout",
     "output_type": "stream",
     "text": [
      "Check the Input type..\n",
      "There is a match\n",
      " And Input is string type.\n",
      "Sending Message: {'text': 'Plotly.newPlot(                        @@5ba4be5a-6945-4811-8de5-e66e6bcc5118@@,                        [{@@alignmentgroup@@:@@True@@,@@hovertemplate@@:@@Campaign Type=%{x}\\\\u003cbr\\\\u003eNumber of Coupons Redeemed=%{y}\\\\u003cextra\\\\u003e\\\\u003c\\\\u002fextra\\\\u003e@@,@@legendgroup@@:@@@@,@@marker@@:{@@color@@:@@#636efa@@,@@pattern@@:{@@shape@@:@@@@}},@@name@@:@@@@,@@offsetgroup@@:@@@@,@@orientation@@:@@v@@,@@showlegend@@:false,@@textposition@@:@@auto@@,@@texttemplate@@:@@%{y}@@,@@x@@:[@@TypeA@@,@@TypeB@@],@@xaxis@@:@@x@@,@@y@@:[14,1],@@yaxis@@:@@y@@,@@type@@:@@bar@@}],                        {@@barmode@@:@@relative@@,@@legend@@:{@@tracegroupgap@@:0},@@template@@:{@@data@@:{@@barpolar@@:[{@@marker@@:{@@line@@:{@@color@@:@@#E5ECF6@@,@@width@@:0.5},@@pattern@@:{@@fillmode@@:@@overlay@@,@@size@@:10,@@solidity@@:0.2}},@@type@@:@@barpolar@@}],@@bar@@:[{@@error_x@@:{@@color@@:@@#2a3f5f@@},@@error_y@@:{@@color@@:@@#2a3f5f@@},@@marker@@:{@@line@@:{@@color@@:@@#E5ECF6@@,@@width@@:0.5},@@pattern@@:{@@fillmode@@:@@overlay@@,@@size@@:10,@@solidity@@:0.2}},@@type@@:@@bar@@}],@@carpet@@:[{@@aaxis@@:{@@endlinecolor@@:@@#2a3f5f@@,@@gridcolor@@:@@white@@,@@linecolor@@:@@white@@,@@minorgridcolor@@:@@white@@,@@startlinecolor@@:@@#2a3f5f@@},@@baxis@@:{@@endlinecolor@@:@@#2a3f5f@@,@@gridcolor@@:@@white@@,@@linecolor@@:@@white@@,@@minorgridcolor@@:@@white@@,@@startlinecolor@@:@@#2a3f5f@@},@@type@@:@@carpet@@}],@@choropleth@@:[{@@colorbar@@:{@@outlinewidth@@:0,@@ticks@@:@@@@},@@type@@:@@choropleth@@}],@@contourcarpet@@:[{@@colorbar@@:{@@outlinewidth@@:0,@@ticks@@:@@@@},@@type@@:@@contourcarpet@@}],@@contour@@:[{@@colorbar@@:{@@outlinewidth@@:0,@@ticks@@:@@@@},@@colorscale@@:[[0.0,@@#0d0887@@],[0.1111111111111111,@@#46039f@@],[0.2222222222222222,@@#7201a8@@],[0.3333333333333333,@@#9c179e@@],[0.4444444444444444,@@#bd3786@@],[0.5555555555555556,@@#d8576b@@],[0.6666666666666666,@@#ed7953@@],[0.7777777777777778,@@#fb9f3a@@],[0.8888888888888888,@@#fdca26@@],[1.0,@@#f0f921@@]],@@type@@:@@contour@@}],@@heatmapgl@@:[{@@colorbar@@:{@@outlinewidth@@:0,@@ticks@@:@@@@},@@colorscale@@:[[0.0,@@#0d0887@@],[0.1111111111111111,@@#46039f@@],[0.2222222222222222,@@#7201a8@@],[0.3333333333333333,@@#9c179e@@],[0.4444444444444444,@@#bd3786@@],[0.5555555555555556,@@#d8576b@@],[0.6666666666666666,@@#ed7953@@],[0.7777777777777778,@@#fb9f3a@@],[0.8888888888888888,@@#fdca26@@],[1.0,@@#f0f921@@]],@@type@@:@@heatmapgl@@}],@@heatmap@@:[{@@colorbar@@:{@@outlinewidth@@:0,@@ticks@@:@@@@},@@colorscale@@:[[0.0,@@#0d0887@@],[0.1111111111111111,@@#46039f@@],[0.2222222222222222,@@#7201a8@@],[0.3333333333333333,@@#9c179e@@],[0.4444444444444444,@@#bd3786@@],[0.5555555555555556,@@#d8576b@@],[0.6666666666666666,@@#ed7953@@],[0.7777777777777778,@@#fb9f3a@@],[0.8888888888888888,@@#fdca26@@],[1.0,@@#f0f921@@]],@@type@@:@@heatmap@@}],@@histogram2dcontour@@:[{@@colorbar@@:{@@outlinewidth@@:0,@@ticks@@:@@@@},@@colorscale@@:[[0.0,@@#0d0887@@],[0.1111111111111111,@@#46039f@@],[0.2222222222222222,@@#7201a8@@],[0.3333333333333333,@@#9c179e@@],[0.4444444444444444,@@#bd3786@@],[0.5555555555555556,@@#d8576b@@],[0.6666666666666666,@@#ed7953@@],[0.7777777777777778,@@#fb9f3a@@],[0.8888888888888888,@@#fdca26@@],[1.0,@@#f0f921@@]],@@type@@:@@histogram2dcontour@@}],@@histogram2d@@:[{@@colorbar@@:{@@outlinewidth@@:0,@@ticks@@:@@@@},@@colorscale@@:[[0.0,@@#0d0887@@],[0.1111111111111111,@@#46039f@@],[0.2222222222222222,@@#7201a8@@],[0.3333333333333333,@@#9c179e@@],[0.4444444444444444,@@#bd3786@@],[0.5555555555555556,@@#d8576b@@],[0.6666666666666666,@@#ed7953@@],[0.7777777777777778,@@#fb9f3a@@],[0.8888888888888888,@@#fdca26@@],[1.0,@@#f0f921@@]],@@type@@:@@histogram2d@@}],@@histogram@@:[{@@marker@@:{@@pattern@@:{@@fillmode@@:@@overlay@@,@@size@@:10,@@solidity@@:0.2}},@@type@@:@@histogram@@}],@@mesh3d@@:[{@@colorbar@@:{@@outlinewidth@@:0,@@ticks@@:@@@@},@@type@@:@@mesh3d@@}],@@parcoords@@:[{@@line@@:{@@colorbar@@:{@@outlinewidth@@:0,@@ticks@@:@@@@}},@@type@@:@@parcoords@@}],@@pie@@:[{@@automargin@@:true,@@type@@:@@pie@@}],@@scatter3d@@:[{@@line@@:{@@colorbar@@:{@@outlinewidth@@:0,@@ticks@@:@@@@}},@@marker@@:{@@colorbar@@:{@@outlinewidth@@:0,@@ticks@@:@@@@}},@@type@@:@@scatter3d@@}],@@scattercarpet@@:[{@@marker@@:{@@colorbar@@:{@@outlinewidth@@:0,@@ticks@@:@@@@}},@@type@@:@@scattercarpet@@}],@@scattergeo@@:[{@@marker@@:{@@colorbar@@:{@@outlinewidth@@:0,@@ticks@@:@@@@}},@@type@@:@@scattergeo@@}],@@scattergl@@:[{@@marker@@:{@@colorbar@@:{@@outlinewidth@@:0,@@ticks@@:@@@@}},@@type@@:@@scattergl@@}],@@scattermapbox@@:[{@@marker@@:{@@colorbar@@:{@@outlinewidth@@:0,@@ticks@@:@@@@}},@@type@@:@@scattermapbox@@}],@@scatterpolargl@@:[{@@marker@@:{@@colorbar@@:{@@outlinewidth@@:0,@@ticks@@:@@@@}},@@type@@:@@scatterpolargl@@}],@@scatterpolar@@:[{@@marker@@:{@@colorbar@@:{@@outlinewidth@@:0,@@ticks@@:@@@@}},@@type@@:@@scatterpolar@@}],@@scatter@@:[{@@fillpattern@@:{@@fillmode@@:@@overlay@@,@@size@@:10,@@solidity@@:0.2},@@type@@:@@scatter@@}],@@scatterternary@@:[{@@marker@@:{@@colorbar@@:{@@outlinewidth@@:0,@@ticks@@:@@@@}},@@type@@:@@scatterternary@@}],@@surface@@:[{@@colorbar@@:{@@outlinewidth@@:0,@@ticks@@:@@@@},@@colorscale@@:[[0.0,@@#0d0887@@],[0.1111111111111111,@@#46039f@@],[0.2222222222222222,@@#7201a8@@],[0.3333333333333333,@@#9c179e@@],[0.4444444444444444,@@#bd3786@@],[0.5555555555555556,@@#d8576b@@],[0.6666666666666666,@@#ed7953@@],[0.7777777777777778,@@#fb9f3a@@],[0.8888888888888888,@@#fdca26@@],[1.0,@@#f0f921@@]],@@type@@:@@surface@@}],@@table@@:[{@@cells@@:{@@fill@@:{@@color@@:@@#EBF0F8@@},@@line@@:{@@color@@:@@white@@}},@@header@@:{@@fill@@:{@@color@@:@@#C8D4E3@@},@@line@@:{@@color@@:@@white@@}},@@type@@:@@table@@}]},@@layout@@:{@@annotationdefaults@@:{@@arrowcolor@@:@@#2a3f5f@@,@@arrowhead@@:0,@@arrowwidth@@:1},@@autotypenumbers@@:@@strict@@,@@coloraxis@@:{@@colorbar@@:{@@outlinewidth@@:0,@@ticks@@:@@@@}},@@colorscale@@:{@@diverging@@:[[0,@@#8e0152@@],[0.1,@@#c51b7d@@],[0.2,@@#de77ae@@],[0.3,@@#f1b6da@@],[0.4,@@#fde0ef@@],[0.5,@@#f7f7f7@@],[0.6,@@#e6f5d0@@],[0.7,@@#b8e186@@],[0.8,@@#7fbc41@@],[0.9,@@#4d9221@@],[1,@@#276419@@]],@@sequential@@:[[0.0,@@#0d0887@@],[0.1111111111111111,@@#46039f@@],[0.2222222222222222,@@#7201a8@@],[0.3333333333333333,@@#9c179e@@],[0.4444444444444444,@@#bd3786@@],[0.5555555555555556,@@#d8576b@@],[0.6666666666666666,@@#ed7953@@],[0.7777777777777778,@@#fb9f3a@@],[0.8888888888888888,@@#fdca26@@],[1.0,@@#f0f921@@]],@@sequentialminus@@:[[0.0,@@#0d0887@@],[0.1111111111111111,@@#46039f@@],[0.2222222222222222,@@#7201a8@@],[0.3333333333333333,@@#9c179e@@],[0.4444444444444444,@@#bd3786@@],[0.5555555555555556,@@#d8576b@@],[0.6666666666666666,@@#ed7953@@],[0.7777777777777778,@@#fb9f3a@@],[0.8888888888888888,@@#fdca26@@],[1.0,@@#f0f921@@]]},@@colorway@@:[@@#636efa@@,@@#EF553B@@,@@#00cc96@@,@@#ab63fa@@,@@#FFA15A@@,@@#19d3f3@@,@@#FF6692@@,@@#B6E880@@,@@#FF97FF@@,@@#FECB52@@],@@font@@:{@@color@@:@@#2a3f5f@@},@@geo@@:{@@bgcolor@@:@@white@@,@@lakecolor@@:@@white@@,@@landcolor@@:@@#E5ECF6@@,@@showlakes@@:true,@@showland@@:true,@@subunitcolor@@:@@white@@},@@hoverlabel@@:{@@align@@:@@left@@},@@hovermode@@:@@closest@@,@@mapbox@@:{@@style@@:@@light@@},@@paper_bgcolor@@:@@white@@,@@plot_bgcolor@@:@@#E5ECF6@@,@@polar@@:{@@angularaxis@@:{@@gridcolor@@:@@white@@,@@linecolor@@:@@white@@,@@ticks@@:@@@@},@@bgcolor@@:@@#E5ECF6@@,@@radialaxis@@:{@@gridcolor@@:@@white@@,@@linecolor@@:@@white@@,@@ticks@@:@@@@}},@@scene@@:{@@xaxis@@:{@@backgroundcolor@@:@@#E5ECF6@@,@@gridcolor@@:@@white@@,@@gridwidth@@:2,@@linecolor@@:@@white@@,@@showbackground@@:true,@@ticks@@:@@@@,@@zerolinecolor@@:@@white@@},@@yaxis@@:{@@backgroundcolor@@:@@#E5ECF6@@,@@gridcolor@@:@@white@@,@@gridwidth@@:2,@@linecolor@@:@@white@@,@@showbackground@@:true,@@ticks@@:@@@@,@@zerolinecolor@@:@@white@@},@@zaxis@@:{@@backgroundcolor@@:@@#E5ECF6@@,@@gridcolor@@:@@white@@,@@gridwidth@@:2,@@linecolor@@:@@white@@,@@showbackground@@:true,@@ticks@@:@@@@,@@zerolinecolor@@:@@white@@}},@@shapedefaults@@:{@@line@@:{@@color@@:@@#2a3f5f@@}},@@ternary@@:{@@aaxis@@:{@@gridcolor@@:@@white@@,@@linecolor@@:@@white@@,@@ticks@@:@@@@},@@baxis@@:{@@gridcolor@@:@@white@@,@@linecolor@@:@@white@@,@@ticks@@:@@@@},@@bgcolor@@:@@#E5ECF6@@,@@caxis@@:{@@gridcolor@@:@@white@@,@@linecolor@@:@@white@@,@@ticks@@:@@@@}},@@title@@:{@@x@@:0.05},@@xaxis@@:{@@automargin@@:true,@@gridcolor@@:@@white@@,@@linecolor@@:@@white@@,@@ticks@@:@@@@,@@title@@:{@@standoff@@:15},@@zerolinecolor@@:@@white@@,@@zerolinewidth@@:2},@@yaxis@@:{@@automargin@@:true,@@gridcolor@@:@@white@@,@@linecolor@@:@@white@@,@@ticks@@:@@@@,@@title@@:{@@standoff@@:15},@@zerolinecolor@@:@@white@@,@@zerolinewidth@@:2}}},@@title@@:{@@text@@:@@Campaign Type-wise Redemption of Coupons@@},@@xaxis@@:{@@anchor@@:@@y@@,@@domain@@:[0.0,1.0],@@title@@:{@@text@@:@@Campaign Type@@}},@@yaxis@@:{@@anchor@@:@@x@@,@@domain@@:[0.0,1.0],@@title@@:{@@text@@:@@Number of Coupons Redeemed@@}}},                        {@@responsive@@: true}                    )', 'id': 9, 'name': 'Campaign Type-wise Redemption of Coupons', 'title': 'Campaign Type-wise Redemption of Coupons', 'type': 'plotly', 'resultType': 3, 'visibility': 'EXPANDED', 'time': 'Aug 05, 2025 07:52:09 PM'}\n",
      "Not sending message to fire_notebook server as the post back URL is not http\n"
     ]
    },
    {
     "data": {
      "application/vnd.plotly.v1+json": {
       "config": {
        "plotlyServerURL": "https://plot.ly"
       },
       "data": [
        {
         "alignmentgroup": "True",
         "hovertemplate": "Campaign Type=%{x}<br>Number of Coupons Redeemed=%{y}<extra></extra>",
         "legendgroup": "",
         "marker": {
          "color": "#636efa",
          "pattern": {
           "shape": ""
          }
         },
         "name": "",
         "offsetgroup": "",
         "orientation": "v",
         "showlegend": false,
         "textposition": "auto",
         "texttemplate": "%{y}",
         "type": "bar",
         "x": [
          "TypeA",
          "TypeB"
         ],
         "xaxis": "x",
         "y": [
          14,
          1
         ],
         "yaxis": "y"
        }
       ],
       "layout": {
        "autosize": true,
        "barmode": "relative",
        "legend": {
         "tracegroupgap": 0
        },
        "template": {
         "data": {
          "bar": [
           {
            "error_x": {
             "color": "#2a3f5f"
            },
            "error_y": {
             "color": "#2a3f5f"
            },
            "marker": {
             "line": {
              "color": "#E5ECF6",
              "width": 0.5
             },
             "pattern": {
              "fillmode": "overlay",
              "size": 10,
              "solidity": 0.2
             }
            },
            "type": "bar"
           }
          ],
          "barpolar": [
           {
            "marker": {
             "line": {
              "color": "#E5ECF6",
              "width": 0.5
             },
             "pattern": {
              "fillmode": "overlay",
              "size": 10,
              "solidity": 0.2
             }
            },
            "type": "barpolar"
           }
          ],
          "carpet": [
           {
            "aaxis": {
             "endlinecolor": "#2a3f5f",
             "gridcolor": "white",
             "linecolor": "white",
             "minorgridcolor": "white",
             "startlinecolor": "#2a3f5f"
            },
            "baxis": {
             "endlinecolor": "#2a3f5f",
             "gridcolor": "white",
             "linecolor": "white",
             "minorgridcolor": "white",
             "startlinecolor": "#2a3f5f"
            },
            "type": "carpet"
           }
          ],
          "choropleth": [
           {
            "colorbar": {
             "outlinewidth": 0,
             "ticks": ""
            },
            "type": "choropleth"
           }
          ],
          "contour": [
           {
            "colorbar": {
             "outlinewidth": 0,
             "ticks": ""
            },
            "colorscale": [
             [
              0,
              "#0d0887"
             ],
             [
              0.1111111111111111,
              "#46039f"
             ],
             [
              0.2222222222222222,
              "#7201a8"
             ],
             [
              0.3333333333333333,
              "#9c179e"
             ],
             [
              0.4444444444444444,
              "#bd3786"
             ],
             [
              0.5555555555555556,
              "#d8576b"
             ],
             [
              0.6666666666666666,
              "#ed7953"
             ],
             [
              0.7777777777777778,
              "#fb9f3a"
             ],
             [
              0.8888888888888888,
              "#fdca26"
             ],
             [
              1,
              "#f0f921"
             ]
            ],
            "type": "contour"
           }
          ],
          "contourcarpet": [
           {
            "colorbar": {
             "outlinewidth": 0,
             "ticks": ""
            },
            "type": "contourcarpet"
           }
          ],
          "heatmap": [
           {
            "colorbar": {
             "outlinewidth": 0,
             "ticks": ""
            },
            "colorscale": [
             [
              0,
              "#0d0887"
             ],
             [
              0.1111111111111111,
              "#46039f"
             ],
             [
              0.2222222222222222,
              "#7201a8"
             ],
             [
              0.3333333333333333,
              "#9c179e"
             ],
             [
              0.4444444444444444,
              "#bd3786"
             ],
             [
              0.5555555555555556,
              "#d8576b"
             ],
             [
              0.6666666666666666,
              "#ed7953"
             ],
             [
              0.7777777777777778,
              "#fb9f3a"
             ],
             [
              0.8888888888888888,
              "#fdca26"
             ],
             [
              1,
              "#f0f921"
             ]
            ],
            "type": "heatmap"
           }
          ],
          "heatmapgl": [
           {
            "colorbar": {
             "outlinewidth": 0,
             "ticks": ""
            },
            "colorscale": [
             [
              0,
              "#0d0887"
             ],
             [
              0.1111111111111111,
              "#46039f"
             ],
             [
              0.2222222222222222,
              "#7201a8"
             ],
             [
              0.3333333333333333,
              "#9c179e"
             ],
             [
              0.4444444444444444,
              "#bd3786"
             ],
             [
              0.5555555555555556,
              "#d8576b"
             ],
             [
              0.6666666666666666,
              "#ed7953"
             ],
             [
              0.7777777777777778,
              "#fb9f3a"
             ],
             [
              0.8888888888888888,
              "#fdca26"
             ],
             [
              1,
              "#f0f921"
             ]
            ],
            "type": "heatmapgl"
           }
          ],
          "histogram": [
           {
            "marker": {
             "pattern": {
              "fillmode": "overlay",
              "size": 10,
              "solidity": 0.2
             }
            },
            "type": "histogram"
           }
          ],
          "histogram2d": [
           {
            "colorbar": {
             "outlinewidth": 0,
             "ticks": ""
            },
            "colorscale": [
             [
              0,
              "#0d0887"
             ],
             [
              0.1111111111111111,
              "#46039f"
             ],
             [
              0.2222222222222222,
              "#7201a8"
             ],
             [
              0.3333333333333333,
              "#9c179e"
             ],
             [
              0.4444444444444444,
              "#bd3786"
             ],
             [
              0.5555555555555556,
              "#d8576b"
             ],
             [
              0.6666666666666666,
              "#ed7953"
             ],
             [
              0.7777777777777778,
              "#fb9f3a"
             ],
             [
              0.8888888888888888,
              "#fdca26"
             ],
             [
              1,
              "#f0f921"
             ]
            ],
            "type": "histogram2d"
           }
          ],
          "histogram2dcontour": [
           {
            "colorbar": {
             "outlinewidth": 0,
             "ticks": ""
            },
            "colorscale": [
             [
              0,
              "#0d0887"
             ],
             [
              0.1111111111111111,
              "#46039f"
             ],
             [
              0.2222222222222222,
              "#7201a8"
             ],
             [
              0.3333333333333333,
              "#9c179e"
             ],
             [
              0.4444444444444444,
              "#bd3786"
             ],
             [
              0.5555555555555556,
              "#d8576b"
             ],
             [
              0.6666666666666666,
              "#ed7953"
             ],
             [
              0.7777777777777778,
              "#fb9f3a"
             ],
             [
              0.8888888888888888,
              "#fdca26"
             ],
             [
              1,
              "#f0f921"
             ]
            ],
            "type": "histogram2dcontour"
           }
          ],
          "mesh3d": [
           {
            "colorbar": {
             "outlinewidth": 0,
             "ticks": ""
            },
            "type": "mesh3d"
           }
          ],
          "parcoords": [
           {
            "line": {
             "colorbar": {
              "outlinewidth": 0,
              "ticks": ""
             }
            },
            "type": "parcoords"
           }
          ],
          "pie": [
           {
            "automargin": true,
            "type": "pie"
           }
          ],
          "scatter": [
           {
            "fillpattern": {
             "fillmode": "overlay",
             "size": 10,
             "solidity": 0.2
            },
            "type": "scatter"
           }
          ],
          "scatter3d": [
           {
            "line": {
             "colorbar": {
              "outlinewidth": 0,
              "ticks": ""
             }
            },
            "marker": {
             "colorbar": {
              "outlinewidth": 0,
              "ticks": ""
             }
            },
            "type": "scatter3d"
           }
          ],
          "scattercarpet": [
           {
            "marker": {
             "colorbar": {
              "outlinewidth": 0,
              "ticks": ""
             }
            },
            "type": "scattercarpet"
           }
          ],
          "scattergeo": [
           {
            "marker": {
             "colorbar": {
              "outlinewidth": 0,
              "ticks": ""
             }
            },
            "type": "scattergeo"
           }
          ],
          "scattergl": [
           {
            "marker": {
             "colorbar": {
              "outlinewidth": 0,
              "ticks": ""
             }
            },
            "type": "scattergl"
           }
          ],
          "scattermapbox": [
           {
            "marker": {
             "colorbar": {
              "outlinewidth": 0,
              "ticks": ""
             }
            },
            "type": "scattermapbox"
           }
          ],
          "scatterpolar": [
           {
            "marker": {
             "colorbar": {
              "outlinewidth": 0,
              "ticks": ""
             }
            },
            "type": "scatterpolar"
           }
          ],
          "scatterpolargl": [
           {
            "marker": {
             "colorbar": {
              "outlinewidth": 0,
              "ticks": ""
             }
            },
            "type": "scatterpolargl"
           }
          ],
          "scatterternary": [
           {
            "marker": {
             "colorbar": {
              "outlinewidth": 0,
              "ticks": ""
             }
            },
            "type": "scatterternary"
           }
          ],
          "surface": [
           {
            "colorbar": {
             "outlinewidth": 0,
             "ticks": ""
            },
            "colorscale": [
             [
              0,
              "#0d0887"
             ],
             [
              0.1111111111111111,
              "#46039f"
             ],
             [
              0.2222222222222222,
              "#7201a8"
             ],
             [
              0.3333333333333333,
              "#9c179e"
             ],
             [
              0.4444444444444444,
              "#bd3786"
             ],
             [
              0.5555555555555556,
              "#d8576b"
             ],
             [
              0.6666666666666666,
              "#ed7953"
             ],
             [
              0.7777777777777778,
              "#fb9f3a"
             ],
             [
              0.8888888888888888,
              "#fdca26"
             ],
             [
              1,
              "#f0f921"
             ]
            ],
            "type": "surface"
           }
          ],
          "table": [
           {
            "cells": {
             "fill": {
              "color": "#EBF0F8"
             },
             "line": {
              "color": "white"
             }
            },
            "header": {
             "fill": {
              "color": "#C8D4E3"
             },
             "line": {
              "color": "white"
             }
            },
            "type": "table"
           }
          ]
         },
         "layout": {
          "annotationdefaults": {
           "arrowcolor": "#2a3f5f",
           "arrowhead": 0,
           "arrowwidth": 1
          },
          "autotypenumbers": "strict",
          "coloraxis": {
           "colorbar": {
            "outlinewidth": 0,
            "ticks": ""
           }
          },
          "colorscale": {
           "diverging": [
            [
             0,
             "#8e0152"
            ],
            [
             0.1,
             "#c51b7d"
            ],
            [
             0.2,
             "#de77ae"
            ],
            [
             0.3,
             "#f1b6da"
            ],
            [
             0.4,
             "#fde0ef"
            ],
            [
             0.5,
             "#f7f7f7"
            ],
            [
             0.6,
             "#e6f5d0"
            ],
            [
             0.7,
             "#b8e186"
            ],
            [
             0.8,
             "#7fbc41"
            ],
            [
             0.9,
             "#4d9221"
            ],
            [
             1,
             "#276419"
            ]
           ],
           "sequential": [
            [
             0,
             "#0d0887"
            ],
            [
             0.1111111111111111,
             "#46039f"
            ],
            [
             0.2222222222222222,
             "#7201a8"
            ],
            [
             0.3333333333333333,
             "#9c179e"
            ],
            [
             0.4444444444444444,
             "#bd3786"
            ],
            [
             0.5555555555555556,
             "#d8576b"
            ],
            [
             0.6666666666666666,
             "#ed7953"
            ],
            [
             0.7777777777777778,
             "#fb9f3a"
            ],
            [
             0.8888888888888888,
             "#fdca26"
            ],
            [
             1,
             "#f0f921"
            ]
           ],
           "sequentialminus": [
            [
             0,
             "#0d0887"
            ],
            [
             0.1111111111111111,
             "#46039f"
            ],
            [
             0.2222222222222222,
             "#7201a8"
            ],
            [
             0.3333333333333333,
             "#9c179e"
            ],
            [
             0.4444444444444444,
             "#bd3786"
            ],
            [
             0.5555555555555556,
             "#d8576b"
            ],
            [
             0.6666666666666666,
             "#ed7953"
            ],
            [
             0.7777777777777778,
             "#fb9f3a"
            ],
            [
             0.8888888888888888,
             "#fdca26"
            ],
            [
             1,
             "#f0f921"
            ]
           ]
          },
          "colorway": [
           "#636efa",
           "#EF553B",
           "#00cc96",
           "#ab63fa",
           "#FFA15A",
           "#19d3f3",
           "#FF6692",
           "#B6E880",
           "#FF97FF",
           "#FECB52"
          ],
          "font": {
           "color": "#2a3f5f"
          },
          "geo": {
           "bgcolor": "white",
           "lakecolor": "white",
           "landcolor": "#E5ECF6",
           "showlakes": true,
           "showland": true,
           "subunitcolor": "white"
          },
          "hoverlabel": {
           "align": "left"
          },
          "hovermode": "closest",
          "mapbox": {
           "style": "light"
          },
          "paper_bgcolor": "white",
          "plot_bgcolor": "#E5ECF6",
          "polar": {
           "angularaxis": {
            "gridcolor": "white",
            "linecolor": "white",
            "ticks": ""
           },
           "bgcolor": "#E5ECF6",
           "radialaxis": {
            "gridcolor": "white",
            "linecolor": "white",
            "ticks": ""
           }
          },
          "scene": {
           "xaxis": {
            "backgroundcolor": "#E5ECF6",
            "gridcolor": "white",
            "gridwidth": 2,
            "linecolor": "white",
            "showbackground": true,
            "ticks": "",
            "zerolinecolor": "white"
           },
           "yaxis": {
            "backgroundcolor": "#E5ECF6",
            "gridcolor": "white",
            "gridwidth": 2,
            "linecolor": "white",
            "showbackground": true,
            "ticks": "",
            "zerolinecolor": "white"
           },
           "zaxis": {
            "backgroundcolor": "#E5ECF6",
            "gridcolor": "white",
            "gridwidth": 2,
            "linecolor": "white",
            "showbackground": true,
            "ticks": "",
            "zerolinecolor": "white"
           }
          },
          "shapedefaults": {
           "line": {
            "color": "#2a3f5f"
           }
          },
          "ternary": {
           "aaxis": {
            "gridcolor": "white",
            "linecolor": "white",
            "ticks": ""
           },
           "baxis": {
            "gridcolor": "white",
            "linecolor": "white",
            "ticks": ""
           },
           "bgcolor": "#E5ECF6",
           "caxis": {
            "gridcolor": "white",
            "linecolor": "white",
            "ticks": ""
           }
          },
          "title": {
           "x": 0.05
          },
          "xaxis": {
           "automargin": true,
           "gridcolor": "white",
           "linecolor": "white",
           "ticks": "",
           "title": {
            "standoff": 15
           },
           "zerolinecolor": "white",
           "zerolinewidth": 2
          },
          "yaxis": {
           "automargin": true,
           "gridcolor": "white",
           "linecolor": "white",
           "ticks": "",
           "title": {
            "standoff": 15
           },
           "zerolinecolor": "white",
           "zerolinewidth": 2
          }
         }
        },
        "title": {
         "text": "Campaign Type-wise Redemption of Coupons"
        },
        "xaxis": {
         "anchor": "y",
         "autorange": true,
         "domain": [
          0,
          1
         ],
         "range": [
          -0.5,
          1.5
         ],
         "title": {
          "text": "Campaign Type"
         },
         "type": "category"
        },
        "yaxis": {
         "anchor": "x",
         "autorange": true,
         "domain": [
          0,
          1
         ],
         "range": [
          0,
          14.736842105263158
         ],
         "title": {
          "text": "Number of Coupons Redeemed"
         },
         "type": "linear"
        }
       }
      },
      "image/png": "[encoded data removed]",
      "text/html": [
       "<div>                            <div id=\"21ff9620-2620-4645-b72a-fe4451b1ff4a\" class=\"plotly-graph-div\" style=\"height:525px; width:100%;\"></div>            <script type=\"text/javascript\">                require([\"plotly\"], function(Plotly) {                    window.PLOTLYENV=window.PLOTLYENV || {};                                    if (document.getElementById(\"21ff9620-2620-4645-b72a-fe4451b1ff4a\")) {                    Plotly.newPlot(                        \"21ff9620-2620-4645-b72a-fe4451b1ff4a\",                        [{\"alignmentgroup\":\"True\",\"hovertemplate\":\"Campaign Type=%{x}\\u003cbr\\u003eNumber of Coupons Redeemed=%{y}\\u003cextra\\u003e\\u003c\\u002fextra\\u003e\",\"legendgroup\":\"\",\"marker\":{\"color\":\"#636efa\",\"pattern\":{\"shape\":\"\"}},\"name\":\"\",\"offsetgroup\":\"\",\"orientation\":\"v\",\"showlegend\":false,\"textposition\":\"auto\",\"texttemplate\":\"%{y}\",\"x\":[\"TypeA\",\"TypeB\"],\"xaxis\":\"x\",\"y\":[14,1],\"yaxis\":\"y\",\"type\":\"bar\"}],                        {\"template\":{\"data\":{\"histogram2dcontour\":[{\"type\":\"histogram2dcontour\",\"colorbar\":{\"outlinewidth\":0,\"ticks\":\"\"},\"colorscale\":[[0.0,\"#0d0887\"],[0.1111111111111111,\"#46039f\"],[0.2222222222222222,\"#7201a8\"],[0.3333333333333333,\"#9c179e\"],[0.4444444444444444,\"#bd3786\"],[0.5555555555555556,\"#d8576b\"],[0.6666666666666666,\"#ed7953\"],[0.7777777777777778,\"#fb9f3a\"],[0.8888888888888888,\"#fdca26\"],[1.0,\"#f0f921\"]]}],\"choropleth\":[{\"type\":\"choropleth\",\"colorbar\":{\"outlinewidth\":0,\"ticks\":\"\"}}],\"histogram2d\":[{\"type\":\"histogram2d\",\"colorbar\":{\"outlinewidth\":0,\"ticks\":\"\"},\"colorscale\":[[0.0,\"#0d0887\"],[0.1111111111111111,\"#46039f\"],[0.2222222222222222,\"#7201a8\"],[0.3333333333333333,\"#9c179e\"],[0.4444444444444444,\"#bd3786\"],[0.5555555555555556,\"#d8576b\"],[0.6666666666666666,\"#ed7953\"],[0.7777777777777778,\"#fb9f3a\"],[0.8888888888888888,\"#fdca26\"],[1.0,\"#f0f921\"]]}],\"heatmap\":[{\"type\":\"heatmap\",\"colorbar\":{\"outlinewidth\":0,\"ticks\":\"\"},\"colorscale\":[[0.0,\"#0d0887\"],[0.1111111111111111,\"#46039f\"],[0.2222222222222222,\"#7201a8\"],[0.3333333333333333,\"#9c179e\"],[0.4444444444444444,\"#bd3786\"],[0.5555555555555556,\"#d8576b\"],[0.6666666666666666,\"#ed7953\"],[0.7777777777777778,\"#fb9f3a\"],[0.8888888888888888,\"#fdca26\"],[1.0,\"#f0f921\"]]}],\"heatmapgl\":[{\"type\":\"heatmapgl\",\"colorbar\":{\"outlinewidth\":0,\"ticks\":\"\"},\"colorscale\":[[0.0,\"#0d0887\"],[0.1111111111111111,\"#46039f\"],[0.2222222222222222,\"#7201a8\"],[0.3333333333333333,\"#9c179e\"],[0.4444444444444444,\"#bd3786\"],[0.5555555555555556,\"#d8576b\"],[0.6666666666666666,\"#ed7953\"],[0.7777777777777778,\"#fb9f3a\"],[0.8888888888888888,\"#fdca26\"],[1.0,\"#f0f921\"]]}],\"contourcarpet\":[{\"type\":\"contourcarpet\",\"colorbar\":{\"outlinewidth\":0,\"ticks\":\"\"}}],\"contour\":[{\"type\":\"contour\",\"colorbar\":{\"outlinewidth\":0,\"ticks\":\"\"},\"colorscale\":[[0.0,\"#0d0887\"],[0.1111111111111111,\"#46039f\"],[0.2222222222222222,\"#7201a8\"],[0.3333333333333333,\"#9c179e\"],[0.4444444444444444,\"#bd3786\"],[0.5555555555555556,\"#d8576b\"],[0.6666666666666666,\"#ed7953\"],[0.7777777777777778,\"#fb9f3a\"],[0.8888888888888888,\"#fdca26\"],[1.0,\"#f0f921\"]]}],\"surface\":[{\"type\":\"surface\",\"colorbar\":{\"outlinewidth\":0,\"ticks\":\"\"},\"colorscale\":[[0.0,\"#0d0887\"],[0.1111111111111111,\"#46039f\"],[0.2222222222222222,\"#7201a8\"],[0.3333333333333333,\"#9c179e\"],[0.4444444444444444,\"#bd3786\"],[0.5555555555555556,\"#d8576b\"],[0.6666666666666666,\"#ed7953\"],[0.7777777777777778,\"#fb9f3a\"],[0.8888888888888888,\"#fdca26\"],[1.0,\"#f0f921\"]]}],\"mesh3d\":[{\"type\":\"mesh3d\",\"colorbar\":{\"outlinewidth\":0,\"ticks\":\"\"}}],\"scatter\":[{\"fillpattern\":{\"fillmode\":\"overlay\",\"size\":10,\"solidity\":0.2},\"type\":\"scatter\"}],\"parcoords\":[{\"type\":\"parcoords\",\"line\":{\"colorbar\":{\"outlinewidth\":0,\"ticks\":\"\"}}}],\"scatterpolargl\":[{\"type\":\"scatterpolargl\",\"marker\":{\"colorbar\":{\"outlinewidth\":0,\"ticks\":\"\"}}}],\"bar\":[{\"error_x\":{\"color\":\"#2a3f5f\"},\"error_y\":{\"color\":\"#2a3f5f\"},\"marker\":{\"line\":{\"color\":\"#E5ECF6\",\"width\":0.5},\"pattern\":{\"fillmode\":\"overlay\",\"size\":10,\"solidity\":0.2}},\"type\":\"bar\"}],\"scattergeo\":[{\"type\":\"scattergeo\",\"marker\":{\"colorbar\":{\"outlinewidth\":0,\"ticks\":\"\"}}}],\"scatterpolar\":[{\"type\":\"scatterpolar\",\"marker\":{\"colorbar\":{\"outlinewidth\":0,\"ticks\":\"\"}}}],\"histogram\":[{\"marker\":{\"pattern\":{\"fillmode\":\"overlay\",\"size\":10,\"solidity\":0.2}},\"type\":\"histogram\"}],\"scattergl\":[{\"type\":\"scattergl\",\"marker\":{\"colorbar\":{\"outlinewidth\":0,\"ticks\":\"\"}}}],\"scatter3d\":[{\"type\":\"scatter3d\",\"line\":{\"colorbar\":{\"outlinewidth\":0,\"ticks\":\"\"}},\"marker\":{\"colorbar\":{\"outlinewidth\":0,\"ticks\":\"\"}}}],\"scattermapbox\":[{\"type\":\"scattermapbox\",\"marker\":{\"colorbar\":{\"outlinewidth\":0,\"ticks\":\"\"}}}],\"scatterternary\":[{\"type\":\"scatterternary\",\"marker\":{\"colorbar\":{\"outlinewidth\":0,\"ticks\":\"\"}}}],\"scattercarpet\":[{\"type\":\"scattercarpet\",\"marker\":{\"colorbar\":{\"outlinewidth\":0,\"ticks\":\"\"}}}],\"carpet\":[{\"aaxis\":{\"endlinecolor\":\"#2a3f5f\",\"gridcolor\":\"white\",\"linecolor\":\"white\",\"minorgridcolor\":\"white\",\"startlinecolor\":\"#2a3f5f\"},\"baxis\":{\"endlinecolor\":\"#2a3f5f\",\"gridcolor\":\"white\",\"linecolor\":\"white\",\"minorgridcolor\":\"white\",\"startlinecolor\":\"#2a3f5f\"},\"type\":\"carpet\"}],\"table\":[{\"cells\":{\"fill\":{\"color\":\"#EBF0F8\"},\"line\":{\"color\":\"white\"}},\"header\":{\"fill\":{\"color\":\"#C8D4E3\"},\"line\":{\"color\":\"white\"}},\"type\":\"table\"}],\"barpolar\":[{\"marker\":{\"line\":{\"color\":\"#E5ECF6\",\"width\":0.5},\"pattern\":{\"fillmode\":\"overlay\",\"size\":10,\"solidity\":0.2}},\"type\":\"barpolar\"}],\"pie\":[{\"automargin\":true,\"type\":\"pie\"}]},\"layout\":{\"autotypenumbers\":\"strict\",\"colorway\":[\"#636efa\",\"#EF553B\",\"#00cc96\",\"#ab63fa\",\"#FFA15A\",\"#19d3f3\",\"#FF6692\",\"#B6E880\",\"#FF97FF\",\"#FECB52\"],\"font\":{\"color\":\"#2a3f5f\"},\"hovermode\":\"closest\",\"hoverlabel\":{\"align\":\"left\"},\"paper_bgcolor\":\"white\",\"plot_bgcolor\":\"#E5ECF6\",\"polar\":{\"bgcolor\":\"#E5ECF6\",\"angularaxis\":{\"gridcolor\":\"white\",\"linecolor\":\"white\",\"ticks\":\"\"},\"radialaxis\":{\"gridcolor\":\"white\",\"linecolor\":\"white\",\"ticks\":\"\"}},\"ternary\":{\"bgcolor\":\"#E5ECF6\",\"aaxis\":{\"gridcolor\":\"white\",\"linecolor\":\"white\",\"ticks\":\"\"},\"baxis\":{\"gridcolor\":\"white\",\"linecolor\":\"white\",\"ticks\":\"\"},\"caxis\":{\"gridcolor\":\"white\",\"linecolor\":\"white\",\"ticks\":\"\"}},\"coloraxis\":{\"colorbar\":{\"outlinewidth\":0,\"ticks\":\"\"}},\"colorscale\":{\"sequential\":[[0.0,\"#0d0887\"],[0.1111111111111111,\"#46039f\"],[0.2222222222222222,\"#7201a8\"],[0.3333333333333333,\"#9c179e\"],[0.4444444444444444,\"#bd3786\"],[0.5555555555555556,\"#d8576b\"],[0.6666666666666666,\"#ed7953\"],[0.7777777777777778,\"#fb9f3a\"],[0.8888888888888888,\"#fdca26\"],[1.0,\"#f0f921\"]],\"sequentialminus\":[[0.0,\"#0d0887\"],[0.1111111111111111,\"#46039f\"],[0.2222222222222222,\"#7201a8\"],[0.3333333333333333,\"#9c179e\"],[0.4444444444444444,\"#bd3786\"],[0.5555555555555556,\"#d8576b\"],[0.6666666666666666,\"#ed7953\"],[0.7777777777777778,\"#fb9f3a\"],[0.8888888888888888,\"#fdca26\"],[1.0,\"#f0f921\"]],\"diverging\":[[0,\"#8e0152\"],[0.1,\"#c51b7d\"],[0.2,\"#de77ae\"],[0.3,\"#f1b6da\"],[0.4,\"#fde0ef\"],[0.5,\"#f7f7f7\"],[0.6,\"#e6f5d0\"],[0.7,\"#b8e186\"],[0.8,\"#7fbc41\"],[0.9,\"#4d9221\"],[1,\"#276419\"]]},\"xaxis\":{\"gridcolor\":\"white\",\"linecolor\":\"white\",\"ticks\":\"\",\"title\":{\"standoff\":15},\"zerolinecolor\":\"white\",\"automargin\":true,\"zerolinewidth\":2},\"yaxis\":{\"gridcolor\":\"white\",\"linecolor\":\"white\",\"ticks\":\"\",\"title\":{\"standoff\":15},\"zerolinecolor\":\"white\",\"automargin\":true,\"zerolinewidth\":2},\"scene\":{\"xaxis\":{\"backgroundcolor\":\"#E5ECF6\",\"gridcolor\":\"white\",\"linecolor\":\"white\",\"showbackground\":true,\"ticks\":\"\",\"zerolinecolor\":\"white\",\"gridwidth\":2},\"yaxis\":{\"backgroundcolor\":\"#E5ECF6\",\"gridcolor\":\"white\",\"linecolor\":\"white\",\"showbackground\":true,\"ticks\":\"\",\"zerolinecolor\":\"white\",\"gridwidth\":2},\"zaxis\":{\"backgroundcolor\":\"#E5ECF6\",\"gridcolor\":\"white\",\"linecolor\":\"white\",\"showbackground\":true,\"ticks\":\"\",\"zerolinecolor\":\"white\",\"gridwidth\":2}},\"shapedefaults\":{\"line\":{\"color\":\"#2a3f5f\"}},\"annotationdefaults\":{\"arrowcolor\":\"#2a3f5f\",\"arrowhead\":0,\"arrowwidth\":1},\"geo\":{\"bgcolor\":\"white\",\"landcolor\":\"#E5ECF6\",\"subunitcolor\":\"white\",\"showland\":true,\"showlakes\":true,\"lakecolor\":\"white\"},\"title\":{\"x\":0.05},\"mapbox\":{\"style\":\"light\"}}},\"xaxis\":{\"anchor\":\"y\",\"domain\":[0.0,1.0],\"title\":{\"text\":\"Campaign Type\"}},\"yaxis\":{\"anchor\":\"x\",\"domain\":[0.0,1.0],\"title\":{\"text\":\"Number of Coupons Redeemed\"}},\"legend\":{\"tracegroupgap\":0},\"title\":{\"text\":\"Campaign Type-wise Redemption of Coupons\"},\"barmode\":\"relative\"},                        {\"responsive\": true}                    ).then(function(){\n",
       "                            \n",
       "var gd = document.getElementById('21ff9620-2620-4645-b72a-fe4451b1ff4a');\n",
       "var x = new MutationObserver(function (mutations, observer) {{\n",
       "        var display = window.getComputedStyle(gd).display;\n",
       "        if (!display || display === 'none') {{\n",
       "            console.log([gd, 'removed!']);\n",
       "            Plotly.purge(gd);\n",
       "            observer.disconnect();\n",
       "        }}\n",
       "}});\n",
       "\n",
       "// Listen for the removal of the full notebook cells\n",
       "var notebookContainer = gd.closest('#notebook-container');\n",
       "if (notebookContainer) {{\n",
       "    x.observe(notebookContainer, {childList: true});\n",
       "}}\n",
       "\n",
       "// Listen for the clearing of the current output cell\n",
       "var outputEl = gd.closest('.output');\n",
       "if (outputEl) {{\n",
       "    x.observe(outputEl, {childList: true});\n",
       "}}\n",
       "\n",
       "                        })                };                });            </script>        </div>"
      ]
     },
     "metadata": {},
     "output_type": "display_data"
    }
   ],
   "source": [
    "# Filter the data for redeemed coupons only\n",
    "df_redeemed = df[df['discount_availed'] == 'redeemed']\n",
    "\n",
    "# Group by 'CAMPAIGN' and count the number of redeemed coupons\n",
    "campaign_redemption = df_redeemed.groupby('DESCRIPTION').size().reset_index(name='Redemption Count')\n",
    "\n",
    "fig = px.bar(\n",
    "    campaign_redemption, \n",
    "    x='DESCRIPTION', \n",
    "    y='Redemption Count', \n",
    "    title='Campaign Type-wise Redemption of Coupons',\n",
    "    labels={'DESCRIPTION': 'Campaign Type', 'Redemption Count': 'Number of Coupons Redeemed'},\n",
    "    text_auto=True  # Display values on the bars\n",
    ")\n",
    "\n",
    "test = plotly.offline.plot(fig, output_type='div', include_plotlyjs=False)\n",
    "example_plotly = f'{test}'\n",
    "restworkflowcontext.outPlotly(9, title=\"Campaign Type-wise Redemption of Coupons\", text=example_plotly)\n",
    "\n",
    "fig.update_layout(xaxis_title='Campaign Type', yaxis_title='Number of Coupons Redeemed')\n",
    "\n",
    "# Show the figure\n",
    "# fig.show()\n"
   ]
  },
  {
   "cell_type": "code",
   "execution_count": null,
   "id": "83ec0e37-9bc2-4219-816d-ad5a2e46634c",
   "metadata": {},
   "outputs": [],
   "source": []
  },
  {
   "cell_type": "code",
   "execution_count": 293,
   "id": "23e792ec-3a1b-43a3-89c3-1d39f3a1a941",
   "metadata": {},
   "outputs": [
    {
     "name": "stdout",
     "output_type": "stream",
     "text": [
      "Check the Input type..\n",
      "There is a match\n",
      " And Input is string type.\n",
      "Sending Message: {'text': 'Plotly.newPlot(                        @@e90611ce-3f2a-489c-b63e-d9f914f9f6c3@@,                        [{@@alignmentgroup@@:@@True@@,@@hovertemplate@@:@@Campaign Type=%{x}\\\\u003cbr\\\\u003eNumber of Coupons Redeemed=%{y}\\\\u003cextra\\\\u003e\\\\u003c\\\\u002fextra\\\\u003e@@,@@legendgroup@@:@@@@,@@marker@@:{@@color@@:@@#636efa@@,@@pattern@@:{@@shape@@:@@@@}},@@name@@:@@@@,@@offsetgroup@@:@@@@,@@orientation@@:@@v@@,@@showlegend@@:false,@@textposition@@:@@auto@@,@@texttemplate@@:@@%{y}@@,@@x@@:[@@TypeB@@,@@TypeC@@,@@TypeA@@],@@xaxis@@:@@x@@,@@y@@:[1.0,0.0,14.0],@@yaxis@@:@@y@@,@@type@@:@@bar@@}],                        {@@barmode@@:@@relative@@,@@legend@@:{@@tracegroupgap@@:0},@@template@@:{@@data@@:{@@barpolar@@:[{@@marker@@:{@@line@@:{@@color@@:@@#E5ECF6@@,@@width@@:0.5},@@pattern@@:{@@fillmode@@:@@overlay@@,@@size@@:10,@@solidity@@:0.2}},@@type@@:@@barpolar@@}],@@bar@@:[{@@error_x@@:{@@color@@:@@#2a3f5f@@},@@error_y@@:{@@color@@:@@#2a3f5f@@},@@marker@@:{@@line@@:{@@color@@:@@#E5ECF6@@,@@width@@:0.5},@@pattern@@:{@@fillmode@@:@@overlay@@,@@size@@:10,@@solidity@@:0.2}},@@type@@:@@bar@@}],@@carpet@@:[{@@aaxis@@:{@@endlinecolor@@:@@#2a3f5f@@,@@gridcolor@@:@@white@@,@@linecolor@@:@@white@@,@@minorgridcolor@@:@@white@@,@@startlinecolor@@:@@#2a3f5f@@},@@baxis@@:{@@endlinecolor@@:@@#2a3f5f@@,@@gridcolor@@:@@white@@,@@linecolor@@:@@white@@,@@minorgridcolor@@:@@white@@,@@startlinecolor@@:@@#2a3f5f@@},@@type@@:@@carpet@@}],@@choropleth@@:[{@@colorbar@@:{@@outlinewidth@@:0,@@ticks@@:@@@@},@@type@@:@@choropleth@@}],@@contourcarpet@@:[{@@colorbar@@:{@@outlinewidth@@:0,@@ticks@@:@@@@},@@type@@:@@contourcarpet@@}],@@contour@@:[{@@colorbar@@:{@@outlinewidth@@:0,@@ticks@@:@@@@},@@colorscale@@:[[0.0,@@#0d0887@@],[0.1111111111111111,@@#46039f@@],[0.2222222222222222,@@#7201a8@@],[0.3333333333333333,@@#9c179e@@],[0.4444444444444444,@@#bd3786@@],[0.5555555555555556,@@#d8576b@@],[0.6666666666666666,@@#ed7953@@],[0.7777777777777778,@@#fb9f3a@@],[0.8888888888888888,@@#fdca26@@],[1.0,@@#f0f921@@]],@@type@@:@@contour@@}],@@heatmapgl@@:[{@@colorbar@@:{@@outlinewidth@@:0,@@ticks@@:@@@@},@@colorscale@@:[[0.0,@@#0d0887@@],[0.1111111111111111,@@#46039f@@],[0.2222222222222222,@@#7201a8@@],[0.3333333333333333,@@#9c179e@@],[0.4444444444444444,@@#bd3786@@],[0.5555555555555556,@@#d8576b@@],[0.6666666666666666,@@#ed7953@@],[0.7777777777777778,@@#fb9f3a@@],[0.8888888888888888,@@#fdca26@@],[1.0,@@#f0f921@@]],@@type@@:@@heatmapgl@@}],@@heatmap@@:[{@@colorbar@@:{@@outlinewidth@@:0,@@ticks@@:@@@@},@@colorscale@@:[[0.0,@@#0d0887@@],[0.1111111111111111,@@#46039f@@],[0.2222222222222222,@@#7201a8@@],[0.3333333333333333,@@#9c179e@@],[0.4444444444444444,@@#bd3786@@],[0.5555555555555556,@@#d8576b@@],[0.6666666666666666,@@#ed7953@@],[0.7777777777777778,@@#fb9f3a@@],[0.8888888888888888,@@#fdca26@@],[1.0,@@#f0f921@@]],@@type@@:@@heatmap@@}],@@histogram2dcontour@@:[{@@colorbar@@:{@@outlinewidth@@:0,@@ticks@@:@@@@},@@colorscale@@:[[0.0,@@#0d0887@@],[0.1111111111111111,@@#46039f@@],[0.2222222222222222,@@#7201a8@@],[0.3333333333333333,@@#9c179e@@],[0.4444444444444444,@@#bd3786@@],[0.5555555555555556,@@#d8576b@@],[0.6666666666666666,@@#ed7953@@],[0.7777777777777778,@@#fb9f3a@@],[0.8888888888888888,@@#fdca26@@],[1.0,@@#f0f921@@]],@@type@@:@@histogram2dcontour@@}],@@histogram2d@@:[{@@colorbar@@:{@@outlinewidth@@:0,@@ticks@@:@@@@},@@colorscale@@:[[0.0,@@#0d0887@@],[0.1111111111111111,@@#46039f@@],[0.2222222222222222,@@#7201a8@@],[0.3333333333333333,@@#9c179e@@],[0.4444444444444444,@@#bd3786@@],[0.5555555555555556,@@#d8576b@@],[0.6666666666666666,@@#ed7953@@],[0.7777777777777778,@@#fb9f3a@@],[0.8888888888888888,@@#fdca26@@],[1.0,@@#f0f921@@]],@@type@@:@@histogram2d@@}],@@histogram@@:[{@@marker@@:{@@pattern@@:{@@fillmode@@:@@overlay@@,@@size@@:10,@@solidity@@:0.2}},@@type@@:@@histogram@@}],@@mesh3d@@:[{@@colorbar@@:{@@outlinewidth@@:0,@@ticks@@:@@@@},@@type@@:@@mesh3d@@}],@@parcoords@@:[{@@line@@:{@@colorbar@@:{@@outlinewidth@@:0,@@ticks@@:@@@@}},@@type@@:@@parcoords@@}],@@pie@@:[{@@automargin@@:true,@@type@@:@@pie@@}],@@scatter3d@@:[{@@line@@:{@@colorbar@@:{@@outlinewidth@@:0,@@ticks@@:@@@@}},@@marker@@:{@@colorbar@@:{@@outlinewidth@@:0,@@ticks@@:@@@@}},@@type@@:@@scatter3d@@}],@@scattercarpet@@:[{@@marker@@:{@@colorbar@@:{@@outlinewidth@@:0,@@ticks@@:@@@@}},@@type@@:@@scattercarpet@@}],@@scattergeo@@:[{@@marker@@:{@@colorbar@@:{@@outlinewidth@@:0,@@ticks@@:@@@@}},@@type@@:@@scattergeo@@}],@@scattergl@@:[{@@marker@@:{@@colorbar@@:{@@outlinewidth@@:0,@@ticks@@:@@@@}},@@type@@:@@scattergl@@}],@@scattermapbox@@:[{@@marker@@:{@@colorbar@@:{@@outlinewidth@@:0,@@ticks@@:@@@@}},@@type@@:@@scattermapbox@@}],@@scatterpolargl@@:[{@@marker@@:{@@colorbar@@:{@@outlinewidth@@:0,@@ticks@@:@@@@}},@@type@@:@@scatterpolargl@@}],@@scatterpolar@@:[{@@marker@@:{@@colorbar@@:{@@outlinewidth@@:0,@@ticks@@:@@@@}},@@type@@:@@scatterpolar@@}],@@scatter@@:[{@@fillpattern@@:{@@fillmode@@:@@overlay@@,@@size@@:10,@@solidity@@:0.2},@@type@@:@@scatter@@}],@@scatterternary@@:[{@@marker@@:{@@colorbar@@:{@@outlinewidth@@:0,@@ticks@@:@@@@}},@@type@@:@@scatterternary@@}],@@surface@@:[{@@colorbar@@:{@@outlinewidth@@:0,@@ticks@@:@@@@},@@colorscale@@:[[0.0,@@#0d0887@@],[0.1111111111111111,@@#46039f@@],[0.2222222222222222,@@#7201a8@@],[0.3333333333333333,@@#9c179e@@],[0.4444444444444444,@@#bd3786@@],[0.5555555555555556,@@#d8576b@@],[0.6666666666666666,@@#ed7953@@],[0.7777777777777778,@@#fb9f3a@@],[0.8888888888888888,@@#fdca26@@],[1.0,@@#f0f921@@]],@@type@@:@@surface@@}],@@table@@:[{@@cells@@:{@@fill@@:{@@color@@:@@#EBF0F8@@},@@line@@:{@@color@@:@@white@@}},@@header@@:{@@fill@@:{@@color@@:@@#C8D4E3@@},@@line@@:{@@color@@:@@white@@}},@@type@@:@@table@@}]},@@layout@@:{@@annotationdefaults@@:{@@arrowcolor@@:@@#2a3f5f@@,@@arrowhead@@:0,@@arrowwidth@@:1},@@autotypenumbers@@:@@strict@@,@@coloraxis@@:{@@colorbar@@:{@@outlinewidth@@:0,@@ticks@@:@@@@}},@@colorscale@@:{@@diverging@@:[[0,@@#8e0152@@],[0.1,@@#c51b7d@@],[0.2,@@#de77ae@@],[0.3,@@#f1b6da@@],[0.4,@@#fde0ef@@],[0.5,@@#f7f7f7@@],[0.6,@@#e6f5d0@@],[0.7,@@#b8e186@@],[0.8,@@#7fbc41@@],[0.9,@@#4d9221@@],[1,@@#276419@@]],@@sequential@@:[[0.0,@@#0d0887@@],[0.1111111111111111,@@#46039f@@],[0.2222222222222222,@@#7201a8@@],[0.3333333333333333,@@#9c179e@@],[0.4444444444444444,@@#bd3786@@],[0.5555555555555556,@@#d8576b@@],[0.6666666666666666,@@#ed7953@@],[0.7777777777777778,@@#fb9f3a@@],[0.8888888888888888,@@#fdca26@@],[1.0,@@#f0f921@@]],@@sequentialminus@@:[[0.0,@@#0d0887@@],[0.1111111111111111,@@#46039f@@],[0.2222222222222222,@@#7201a8@@],[0.3333333333333333,@@#9c179e@@],[0.4444444444444444,@@#bd3786@@],[0.5555555555555556,@@#d8576b@@],[0.6666666666666666,@@#ed7953@@],[0.7777777777777778,@@#fb9f3a@@],[0.8888888888888888,@@#fdca26@@],[1.0,@@#f0f921@@]]},@@colorway@@:[@@#636efa@@,@@#EF553B@@,@@#00cc96@@,@@#ab63fa@@,@@#FFA15A@@,@@#19d3f3@@,@@#FF6692@@,@@#B6E880@@,@@#FF97FF@@,@@#FECB52@@],@@font@@:{@@color@@:@@#2a3f5f@@},@@geo@@:{@@bgcolor@@:@@white@@,@@lakecolor@@:@@white@@,@@landcolor@@:@@#E5ECF6@@,@@showlakes@@:true,@@showland@@:true,@@subunitcolor@@:@@white@@},@@hoverlabel@@:{@@align@@:@@left@@},@@hovermode@@:@@closest@@,@@mapbox@@:{@@style@@:@@light@@},@@paper_bgcolor@@:@@white@@,@@plot_bgcolor@@:@@#E5ECF6@@,@@polar@@:{@@angularaxis@@:{@@gridcolor@@:@@white@@,@@linecolor@@:@@white@@,@@ticks@@:@@@@},@@bgcolor@@:@@#E5ECF6@@,@@radialaxis@@:{@@gridcolor@@:@@white@@,@@linecolor@@:@@white@@,@@ticks@@:@@@@}},@@scene@@:{@@xaxis@@:{@@backgroundcolor@@:@@#E5ECF6@@,@@gridcolor@@:@@white@@,@@gridwidth@@:2,@@linecolor@@:@@white@@,@@showbackground@@:true,@@ticks@@:@@@@,@@zerolinecolor@@:@@white@@},@@yaxis@@:{@@backgroundcolor@@:@@#E5ECF6@@,@@gridcolor@@:@@white@@,@@gridwidth@@:2,@@linecolor@@:@@white@@,@@showbackground@@:true,@@ticks@@:@@@@,@@zerolinecolor@@:@@white@@},@@zaxis@@:{@@backgroundcolor@@:@@#E5ECF6@@,@@gridcolor@@:@@white@@,@@gridwidth@@:2,@@linecolor@@:@@white@@,@@showbackground@@:true,@@ticks@@:@@@@,@@zerolinecolor@@:@@white@@}},@@shapedefaults@@:{@@line@@:{@@color@@:@@#2a3f5f@@}},@@ternary@@:{@@aaxis@@:{@@gridcolor@@:@@white@@,@@linecolor@@:@@white@@,@@ticks@@:@@@@},@@baxis@@:{@@gridcolor@@:@@white@@,@@linecolor@@:@@white@@,@@ticks@@:@@@@},@@bgcolor@@:@@#E5ECF6@@,@@caxis@@:{@@gridcolor@@:@@white@@,@@linecolor@@:@@white@@,@@ticks@@:@@@@}},@@title@@:{@@x@@:0.05},@@xaxis@@:{@@automargin@@:true,@@gridcolor@@:@@white@@,@@linecolor@@:@@white@@,@@ticks@@:@@@@,@@title@@:{@@standoff@@:15},@@zerolinecolor@@:@@white@@,@@zerolinewidth@@:2},@@yaxis@@:{@@automargin@@:true,@@gridcolor@@:@@white@@,@@linecolor@@:@@white@@,@@ticks@@:@@@@,@@title@@:{@@standoff@@:15},@@zerolinecolor@@:@@white@@,@@zerolinewidth@@:2}}},@@title@@:{@@text@@:@@Campaign Type-wise Redemption of Coupons (Including Zeros)@@},@@xaxis@@:{@@anchor@@:@@y@@,@@domain@@:[0.0,1.0],@@title@@:{@@text@@:@@Campaign Type@@}},@@yaxis@@:{@@anchor@@:@@x@@,@@domain@@:[0.0,1.0],@@title@@:{@@text@@:@@Number of Coupons Redeemed@@}}},                        {@@responsive@@: true}                    )', 'id': 9, 'name': 'Campaign Type-wise Redemption of Coupons', 'title': 'Campaign Type-wise Redemption of Coupons', 'type': 'plotly', 'resultType': 3, 'visibility': 'EXPANDED', 'time': 'Aug 05, 2025 07:52:09 PM'}\n",
      "Not sending message to fire_notebook server as the post back URL is not http\n"
     ]
    },
    {
     "data": {
      "application/vnd.plotly.v1+json": {
       "config": {
        "plotlyServerURL": "https://plot.ly"
       },
       "data": [
        {
         "alignmentgroup": "True",
         "hovertemplate": "Campaign Type=%{x}<br>Number of Coupons Redeemed=%{y}<extra></extra>",
         "legendgroup": "",
         "marker": {
          "color": "#636efa",
          "pattern": {
           "shape": ""
          }
         },
         "name": "",
         "offsetgroup": "",
         "orientation": "v",
         "showlegend": false,
         "textposition": "auto",
         "texttemplate": "%{y}",
         "type": "bar",
         "x": [
          "TypeB",
          "TypeC",
          "TypeA"
         ],
         "xaxis": "x",
         "y": [
          1,
          0,
          14
         ],
         "yaxis": "y"
        }
       ],
       "layout": {
        "autosize": true,
        "barmode": "relative",
        "legend": {
         "tracegroupgap": 0
        },
        "template": {
         "data": {
          "bar": [
           {
            "error_x": {
             "color": "#2a3f5f"
            },
            "error_y": {
             "color": "#2a3f5f"
            },
            "marker": {
             "line": {
              "color": "#E5ECF6",
              "width": 0.5
             },
             "pattern": {
              "fillmode": "overlay",
              "size": 10,
              "solidity": 0.2
             }
            },
            "type": "bar"
           }
          ],
          "barpolar": [
           {
            "marker": {
             "line": {
              "color": "#E5ECF6",
              "width": 0.5
             },
             "pattern": {
              "fillmode": "overlay",
              "size": 10,
              "solidity": 0.2
             }
            },
            "type": "barpolar"
           }
          ],
          "carpet": [
           {
            "aaxis": {
             "endlinecolor": "#2a3f5f",
             "gridcolor": "white",
             "linecolor": "white",
             "minorgridcolor": "white",
             "startlinecolor": "#2a3f5f"
            },
            "baxis": {
             "endlinecolor": "#2a3f5f",
             "gridcolor": "white",
             "linecolor": "white",
             "minorgridcolor": "white",
             "startlinecolor": "#2a3f5f"
            },
            "type": "carpet"
           }
          ],
          "choropleth": [
           {
            "colorbar": {
             "outlinewidth": 0,
             "ticks": ""
            },
            "type": "choropleth"
           }
          ],
          "contour": [
           {
            "colorbar": {
             "outlinewidth": 0,
             "ticks": ""
            },
            "colorscale": [
             [
              0,
              "#0d0887"
             ],
             [
              0.1111111111111111,
              "#46039f"
             ],
             [
              0.2222222222222222,
              "#7201a8"
             ],
             [
              0.3333333333333333,
              "#9c179e"
             ],
             [
              0.4444444444444444,
              "#bd3786"
             ],
             [
              0.5555555555555556,
              "#d8576b"
             ],
             [
              0.6666666666666666,
              "#ed7953"
             ],
             [
              0.7777777777777778,
              "#fb9f3a"
             ],
             [
              0.8888888888888888,
              "#fdca26"
             ],
             [
              1,
              "#f0f921"
             ]
            ],
            "type": "contour"
           }
          ],
          "contourcarpet": [
           {
            "colorbar": {
             "outlinewidth": 0,
             "ticks": ""
            },
            "type": "contourcarpet"
           }
          ],
          "heatmap": [
           {
            "colorbar": {
             "outlinewidth": 0,
             "ticks": ""
            },
            "colorscale": [
             [
              0,
              "#0d0887"
             ],
             [
              0.1111111111111111,
              "#46039f"
             ],
             [
              0.2222222222222222,
              "#7201a8"
             ],
             [
              0.3333333333333333,
              "#9c179e"
             ],
             [
              0.4444444444444444,
              "#bd3786"
             ],
             [
              0.5555555555555556,
              "#d8576b"
             ],
             [
              0.6666666666666666,
              "#ed7953"
             ],
             [
              0.7777777777777778,
              "#fb9f3a"
             ],
             [
              0.8888888888888888,
              "#fdca26"
             ],
             [
              1,
              "#f0f921"
             ]
            ],
            "type": "heatmap"
           }
          ],
          "heatmapgl": [
           {
            "colorbar": {
             "outlinewidth": 0,
             "ticks": ""
            },
            "colorscale": [
             [
              0,
              "#0d0887"
             ],
             [
              0.1111111111111111,
              "#46039f"
             ],
             [
              0.2222222222222222,
              "#7201a8"
             ],
             [
              0.3333333333333333,
              "#9c179e"
             ],
             [
              0.4444444444444444,
              "#bd3786"
             ],
             [
              0.5555555555555556,
              "#d8576b"
             ],
             [
              0.6666666666666666,
              "#ed7953"
             ],
             [
              0.7777777777777778,
              "#fb9f3a"
             ],
             [
              0.8888888888888888,
              "#fdca26"
             ],
             [
              1,
              "#f0f921"
             ]
            ],
            "type": "heatmapgl"
           }
          ],
          "histogram": [
           {
            "marker": {
             "pattern": {
              "fillmode": "overlay",
              "size": 10,
              "solidity": 0.2
             }
            },
            "type": "histogram"
           }
          ],
          "histogram2d": [
           {
            "colorbar": {
             "outlinewidth": 0,
             "ticks": ""
            },
            "colorscale": [
             [
              0,
              "#0d0887"
             ],
             [
              0.1111111111111111,
              "#46039f"
             ],
             [
              0.2222222222222222,
              "#7201a8"
             ],
             [
              0.3333333333333333,
              "#9c179e"
             ],
             [
              0.4444444444444444,
              "#bd3786"
             ],
             [
              0.5555555555555556,
              "#d8576b"
             ],
             [
              0.6666666666666666,
              "#ed7953"
             ],
             [
              0.7777777777777778,
              "#fb9f3a"
             ],
             [
              0.8888888888888888,
              "#fdca26"
             ],
             [
              1,
              "#f0f921"
             ]
            ],
            "type": "histogram2d"
           }
          ],
          "histogram2dcontour": [
           {
            "colorbar": {
             "outlinewidth": 0,
             "ticks": ""
            },
            "colorscale": [
             [
              0,
              "#0d0887"
             ],
             [
              0.1111111111111111,
              "#46039f"
             ],
             [
              0.2222222222222222,
              "#7201a8"
             ],
             [
              0.3333333333333333,
              "#9c179e"
             ],
             [
              0.4444444444444444,
              "#bd3786"
             ],
             [
              0.5555555555555556,
              "#d8576b"
             ],
             [
              0.6666666666666666,
              "#ed7953"
             ],
             [
              0.7777777777777778,
              "#fb9f3a"
             ],
             [
              0.8888888888888888,
              "#fdca26"
             ],
             [
              1,
              "#f0f921"
             ]
            ],
            "type": "histogram2dcontour"
           }
          ],
          "mesh3d": [
           {
            "colorbar": {
             "outlinewidth": 0,
             "ticks": ""
            },
            "type": "mesh3d"
           }
          ],
          "parcoords": [
           {
            "line": {
             "colorbar": {
              "outlinewidth": 0,
              "ticks": ""
             }
            },
            "type": "parcoords"
           }
          ],
          "pie": [
           {
            "automargin": true,
            "type": "pie"
           }
          ],
          "scatter": [
           {
            "fillpattern": {
             "fillmode": "overlay",
             "size": 10,
             "solidity": 0.2
            },
            "type": "scatter"
           }
          ],
          "scatter3d": [
           {
            "line": {
             "colorbar": {
              "outlinewidth": 0,
              "ticks": ""
             }
            },
            "marker": {
             "colorbar": {
              "outlinewidth": 0,
              "ticks": ""
             }
            },
            "type": "scatter3d"
           }
          ],
          "scattercarpet": [
           {
            "marker": {
             "colorbar": {
              "outlinewidth": 0,
              "ticks": ""
             }
            },
            "type": "scattercarpet"
           }
          ],
          "scattergeo": [
           {
            "marker": {
             "colorbar": {
              "outlinewidth": 0,
              "ticks": ""
             }
            },
            "type": "scattergeo"
           }
          ],
          "scattergl": [
           {
            "marker": {
             "colorbar": {
              "outlinewidth": 0,
              "ticks": ""
             }
            },
            "type": "scattergl"
           }
          ],
          "scattermapbox": [
           {
            "marker": {
             "colorbar": {
              "outlinewidth": 0,
              "ticks": ""
             }
            },
            "type": "scattermapbox"
           }
          ],
          "scatterpolar": [
           {
            "marker": {
             "colorbar": {
              "outlinewidth": 0,
              "ticks": ""
             }
            },
            "type": "scatterpolar"
           }
          ],
          "scatterpolargl": [
           {
            "marker": {
             "colorbar": {
              "outlinewidth": 0,
              "ticks": ""
             }
            },
            "type": "scatterpolargl"
           }
          ],
          "scatterternary": [
           {
            "marker": {
             "colorbar": {
              "outlinewidth": 0,
              "ticks": ""
             }
            },
            "type": "scatterternary"
           }
          ],
          "surface": [
           {
            "colorbar": {
             "outlinewidth": 0,
             "ticks": ""
            },
            "colorscale": [
             [
              0,
              "#0d0887"
             ],
             [
              0.1111111111111111,
              "#46039f"
             ],
             [
              0.2222222222222222,
              "#7201a8"
             ],
             [
              0.3333333333333333,
              "#9c179e"
             ],
             [
              0.4444444444444444,
              "#bd3786"
             ],
             [
              0.5555555555555556,
              "#d8576b"
             ],
             [
              0.6666666666666666,
              "#ed7953"
             ],
             [
              0.7777777777777778,
              "#fb9f3a"
             ],
             [
              0.8888888888888888,
              "#fdca26"
             ],
             [
              1,
              "#f0f921"
             ]
            ],
            "type": "surface"
           }
          ],
          "table": [
           {
            "cells": {
             "fill": {
              "color": "#EBF0F8"
             },
             "line": {
              "color": "white"
             }
            },
            "header": {
             "fill": {
              "color": "#C8D4E3"
             },
             "line": {
              "color": "white"
             }
            },
            "type": "table"
           }
          ]
         },
         "layout": {
          "annotationdefaults": {
           "arrowcolor": "#2a3f5f",
           "arrowhead": 0,
           "arrowwidth": 1
          },
          "autotypenumbers": "strict",
          "coloraxis": {
           "colorbar": {
            "outlinewidth": 0,
            "ticks": ""
           }
          },
          "colorscale": {
           "diverging": [
            [
             0,
             "#8e0152"
            ],
            [
             0.1,
             "#c51b7d"
            ],
            [
             0.2,
             "#de77ae"
            ],
            [
             0.3,
             "#f1b6da"
            ],
            [
             0.4,
             "#fde0ef"
            ],
            [
             0.5,
             "#f7f7f7"
            ],
            [
             0.6,
             "#e6f5d0"
            ],
            [
             0.7,
             "#b8e186"
            ],
            [
             0.8,
             "#7fbc41"
            ],
            [
             0.9,
             "#4d9221"
            ],
            [
             1,
             "#276419"
            ]
           ],
           "sequential": [
            [
             0,
             "#0d0887"
            ],
            [
             0.1111111111111111,
             "#46039f"
            ],
            [
             0.2222222222222222,
             "#7201a8"
            ],
            [
             0.3333333333333333,
             "#9c179e"
            ],
            [
             0.4444444444444444,
             "#bd3786"
            ],
            [
             0.5555555555555556,
             "#d8576b"
            ],
            [
             0.6666666666666666,
             "#ed7953"
            ],
            [
             0.7777777777777778,
             "#fb9f3a"
            ],
            [
             0.8888888888888888,
             "#fdca26"
            ],
            [
             1,
             "#f0f921"
            ]
           ],
           "sequentialminus": [
            [
             0,
             "#0d0887"
            ],
            [
             0.1111111111111111,
             "#46039f"
            ],
            [
             0.2222222222222222,
             "#7201a8"
            ],
            [
             0.3333333333333333,
             "#9c179e"
            ],
            [
             0.4444444444444444,
             "#bd3786"
            ],
            [
             0.5555555555555556,
             "#d8576b"
            ],
            [
             0.6666666666666666,
             "#ed7953"
            ],
            [
             0.7777777777777778,
             "#fb9f3a"
            ],
            [
             0.8888888888888888,
             "#fdca26"
            ],
            [
             1,
             "#f0f921"
            ]
           ]
          },
          "colorway": [
           "#636efa",
           "#EF553B",
           "#00cc96",
           "#ab63fa",
           "#FFA15A",
           "#19d3f3",
           "#FF6692",
           "#B6E880",
           "#FF97FF",
           "#FECB52"
          ],
          "font": {
           "color": "#2a3f5f"
          },
          "geo": {
           "bgcolor": "white",
           "lakecolor": "white",
           "landcolor": "#E5ECF6",
           "showlakes": true,
           "showland": true,
           "subunitcolor": "white"
          },
          "hoverlabel": {
           "align": "left"
          },
          "hovermode": "closest",
          "mapbox": {
           "style": "light"
          },
          "paper_bgcolor": "white",
          "plot_bgcolor": "#E5ECF6",
          "polar": {
           "angularaxis": {
            "gridcolor": "white",
            "linecolor": "white",
            "ticks": ""
           },
           "bgcolor": "#E5ECF6",
           "radialaxis": {
            "gridcolor": "white",
            "linecolor": "white",
            "ticks": ""
           }
          },
          "scene": {
           "xaxis": {
            "backgroundcolor": "#E5ECF6",
            "gridcolor": "white",
            "gridwidth": 2,
            "linecolor": "white",
            "showbackground": true,
            "ticks": "",
            "zerolinecolor": "white"
           },
           "yaxis": {
            "backgroundcolor": "#E5ECF6",
            "gridcolor": "white",
            "gridwidth": 2,
            "linecolor": "white",
            "showbackground": true,
            "ticks": "",
            "zerolinecolor": "white"
           },
           "zaxis": {
            "backgroundcolor": "#E5ECF6",
            "gridcolor": "white",
            "gridwidth": 2,
            "linecolor": "white",
            "showbackground": true,
            "ticks": "",
            "zerolinecolor": "white"
           }
          },
          "shapedefaults": {
           "line": {
            "color": "#2a3f5f"
           }
          },
          "ternary": {
           "aaxis": {
            "gridcolor": "white",
            "linecolor": "white",
            "ticks": ""
           },
           "baxis": {
            "gridcolor": "white",
            "linecolor": "white",
            "ticks": ""
           },
           "bgcolor": "#E5ECF6",
           "caxis": {
            "gridcolor": "white",
            "linecolor": "white",
            "ticks": ""
           }
          },
          "title": {
           "x": 0.05
          },
          "xaxis": {
           "automargin": true,
           "gridcolor": "white",
           "linecolor": "white",
           "ticks": "",
           "title": {
            "standoff": 15
           },
           "zerolinecolor": "white",
           "zerolinewidth": 2
          },
          "yaxis": {
           "automargin": true,
           "gridcolor": "white",
           "linecolor": "white",
           "ticks": "",
           "title": {
            "standoff": 15
           },
           "zerolinecolor": "white",
           "zerolinewidth": 2
          }
         }
        },
        "title": {
         "text": "Campaign Type-wise Redemption of Coupons (Including Zeros)"
        },
        "xaxis": {
         "anchor": "y",
         "autorange": true,
         "domain": [
          0,
          1
         ],
         "range": [
          -0.5,
          2.5
         ],
         "title": {
          "text": "Campaign Type"
         },
         "type": "category"
        },
        "yaxis": {
         "anchor": "x",
         "autorange": true,
         "domain": [
          0,
          1
         ],
         "range": [
          0,
          14.736842105263158
         ],
         "title": {
          "text": "Number of Coupons Redeemed"
         },
         "type": "linear"
        }
       }
      },
      "image/png": "[encoded data removed]",
      "text/html": [
       "<div>                            <div id=\"31ab6719-ca6e-4a7c-ae77-d0a043175fce\" class=\"plotly-graph-div\" style=\"height:525px; width:100%;\"></div>            <script type=\"text/javascript\">                require([\"plotly\"], function(Plotly) {                    window.PLOTLYENV=window.PLOTLYENV || {};                                    if (document.getElementById(\"31ab6719-ca6e-4a7c-ae77-d0a043175fce\")) {                    Plotly.newPlot(                        \"31ab6719-ca6e-4a7c-ae77-d0a043175fce\",                        [{\"alignmentgroup\":\"True\",\"hovertemplate\":\"Campaign Type=%{x}\\u003cbr\\u003eNumber of Coupons Redeemed=%{y}\\u003cextra\\u003e\\u003c\\u002fextra\\u003e\",\"legendgroup\":\"\",\"marker\":{\"color\":\"#636efa\",\"pattern\":{\"shape\":\"\"}},\"name\":\"\",\"offsetgroup\":\"\",\"orientation\":\"v\",\"showlegend\":false,\"textposition\":\"auto\",\"texttemplate\":\"%{y}\",\"x\":[\"TypeB\",\"TypeC\",\"TypeA\"],\"xaxis\":\"x\",\"y\":[1.0,0.0,14.0],\"yaxis\":\"y\",\"type\":\"bar\"}],                        {\"template\":{\"data\":{\"histogram2dcontour\":[{\"type\":\"histogram2dcontour\",\"colorbar\":{\"outlinewidth\":0,\"ticks\":\"\"},\"colorscale\":[[0.0,\"#0d0887\"],[0.1111111111111111,\"#46039f\"],[0.2222222222222222,\"#7201a8\"],[0.3333333333333333,\"#9c179e\"],[0.4444444444444444,\"#bd3786\"],[0.5555555555555556,\"#d8576b\"],[0.6666666666666666,\"#ed7953\"],[0.7777777777777778,\"#fb9f3a\"],[0.8888888888888888,\"#fdca26\"],[1.0,\"#f0f921\"]]}],\"choropleth\":[{\"type\":\"choropleth\",\"colorbar\":{\"outlinewidth\":0,\"ticks\":\"\"}}],\"histogram2d\":[{\"type\":\"histogram2d\",\"colorbar\":{\"outlinewidth\":0,\"ticks\":\"\"},\"colorscale\":[[0.0,\"#0d0887\"],[0.1111111111111111,\"#46039f\"],[0.2222222222222222,\"#7201a8\"],[0.3333333333333333,\"#9c179e\"],[0.4444444444444444,\"#bd3786\"],[0.5555555555555556,\"#d8576b\"],[0.6666666666666666,\"#ed7953\"],[0.7777777777777778,\"#fb9f3a\"],[0.8888888888888888,\"#fdca26\"],[1.0,\"#f0f921\"]]}],\"heatmap\":[{\"type\":\"heatmap\",\"colorbar\":{\"outlinewidth\":0,\"ticks\":\"\"},\"colorscale\":[[0.0,\"#0d0887\"],[0.1111111111111111,\"#46039f\"],[0.2222222222222222,\"#7201a8\"],[0.3333333333333333,\"#9c179e\"],[0.4444444444444444,\"#bd3786\"],[0.5555555555555556,\"#d8576b\"],[0.6666666666666666,\"#ed7953\"],[0.7777777777777778,\"#fb9f3a\"],[0.8888888888888888,\"#fdca26\"],[1.0,\"#f0f921\"]]}],\"heatmapgl\":[{\"type\":\"heatmapgl\",\"colorbar\":{\"outlinewidth\":0,\"ticks\":\"\"},\"colorscale\":[[0.0,\"#0d0887\"],[0.1111111111111111,\"#46039f\"],[0.2222222222222222,\"#7201a8\"],[0.3333333333333333,\"#9c179e\"],[0.4444444444444444,\"#bd3786\"],[0.5555555555555556,\"#d8576b\"],[0.6666666666666666,\"#ed7953\"],[0.7777777777777778,\"#fb9f3a\"],[0.8888888888888888,\"#fdca26\"],[1.0,\"#f0f921\"]]}],\"contourcarpet\":[{\"type\":\"contourcarpet\",\"colorbar\":{\"outlinewidth\":0,\"ticks\":\"\"}}],\"contour\":[{\"type\":\"contour\",\"colorbar\":{\"outlinewidth\":0,\"ticks\":\"\"},\"colorscale\":[[0.0,\"#0d0887\"],[0.1111111111111111,\"#46039f\"],[0.2222222222222222,\"#7201a8\"],[0.3333333333333333,\"#9c179e\"],[0.4444444444444444,\"#bd3786\"],[0.5555555555555556,\"#d8576b\"],[0.6666666666666666,\"#ed7953\"],[0.7777777777777778,\"#fb9f3a\"],[0.8888888888888888,\"#fdca26\"],[1.0,\"#f0f921\"]]}],\"surface\":[{\"type\":\"surface\",\"colorbar\":{\"outlinewidth\":0,\"ticks\":\"\"},\"colorscale\":[[0.0,\"#0d0887\"],[0.1111111111111111,\"#46039f\"],[0.2222222222222222,\"#7201a8\"],[0.3333333333333333,\"#9c179e\"],[0.4444444444444444,\"#bd3786\"],[0.5555555555555556,\"#d8576b\"],[0.6666666666666666,\"#ed7953\"],[0.7777777777777778,\"#fb9f3a\"],[0.8888888888888888,\"#fdca26\"],[1.0,\"#f0f921\"]]}],\"mesh3d\":[{\"type\":\"mesh3d\",\"colorbar\":{\"outlinewidth\":0,\"ticks\":\"\"}}],\"scatter\":[{\"fillpattern\":{\"fillmode\":\"overlay\",\"size\":10,\"solidity\":0.2},\"type\":\"scatter\"}],\"parcoords\":[{\"type\":\"parcoords\",\"line\":{\"colorbar\":{\"outlinewidth\":0,\"ticks\":\"\"}}}],\"scatterpolargl\":[{\"type\":\"scatterpolargl\",\"marker\":{\"colorbar\":{\"outlinewidth\":0,\"ticks\":\"\"}}}],\"bar\":[{\"error_x\":{\"color\":\"#2a3f5f\"},\"error_y\":{\"color\":\"#2a3f5f\"},\"marker\":{\"line\":{\"color\":\"#E5ECF6\",\"width\":0.5},\"pattern\":{\"fillmode\":\"overlay\",\"size\":10,\"solidity\":0.2}},\"type\":\"bar\"}],\"scattergeo\":[{\"type\":\"scattergeo\",\"marker\":{\"colorbar\":{\"outlinewidth\":0,\"ticks\":\"\"}}}],\"scatterpolar\":[{\"type\":\"scatterpolar\",\"marker\":{\"colorbar\":{\"outlinewidth\":0,\"ticks\":\"\"}}}],\"histogram\":[{\"marker\":{\"pattern\":{\"fillmode\":\"overlay\",\"size\":10,\"solidity\":0.2}},\"type\":\"histogram\"}],\"scattergl\":[{\"type\":\"scattergl\",\"marker\":{\"colorbar\":{\"outlinewidth\":0,\"ticks\":\"\"}}}],\"scatter3d\":[{\"type\":\"scatter3d\",\"line\":{\"colorbar\":{\"outlinewidth\":0,\"ticks\":\"\"}},\"marker\":{\"colorbar\":{\"outlinewidth\":0,\"ticks\":\"\"}}}],\"scattermapbox\":[{\"type\":\"scattermapbox\",\"marker\":{\"colorbar\":{\"outlinewidth\":0,\"ticks\":\"\"}}}],\"scatterternary\":[{\"type\":\"scatterternary\",\"marker\":{\"colorbar\":{\"outlinewidth\":0,\"ticks\":\"\"}}}],\"scattercarpet\":[{\"type\":\"scattercarpet\",\"marker\":{\"colorbar\":{\"outlinewidth\":0,\"ticks\":\"\"}}}],\"carpet\":[{\"aaxis\":{\"endlinecolor\":\"#2a3f5f\",\"gridcolor\":\"white\",\"linecolor\":\"white\",\"minorgridcolor\":\"white\",\"startlinecolor\":\"#2a3f5f\"},\"baxis\":{\"endlinecolor\":\"#2a3f5f\",\"gridcolor\":\"white\",\"linecolor\":\"white\",\"minorgridcolor\":\"white\",\"startlinecolor\":\"#2a3f5f\"},\"type\":\"carpet\"}],\"table\":[{\"cells\":{\"fill\":{\"color\":\"#EBF0F8\"},\"line\":{\"color\":\"white\"}},\"header\":{\"fill\":{\"color\":\"#C8D4E3\"},\"line\":{\"color\":\"white\"}},\"type\":\"table\"}],\"barpolar\":[{\"marker\":{\"line\":{\"color\":\"#E5ECF6\",\"width\":0.5},\"pattern\":{\"fillmode\":\"overlay\",\"size\":10,\"solidity\":0.2}},\"type\":\"barpolar\"}],\"pie\":[{\"automargin\":true,\"type\":\"pie\"}]},\"layout\":{\"autotypenumbers\":\"strict\",\"colorway\":[\"#636efa\",\"#EF553B\",\"#00cc96\",\"#ab63fa\",\"#FFA15A\",\"#19d3f3\",\"#FF6692\",\"#B6E880\",\"#FF97FF\",\"#FECB52\"],\"font\":{\"color\":\"#2a3f5f\"},\"hovermode\":\"closest\",\"hoverlabel\":{\"align\":\"left\"},\"paper_bgcolor\":\"white\",\"plot_bgcolor\":\"#E5ECF6\",\"polar\":{\"bgcolor\":\"#E5ECF6\",\"angularaxis\":{\"gridcolor\":\"white\",\"linecolor\":\"white\",\"ticks\":\"\"},\"radialaxis\":{\"gridcolor\":\"white\",\"linecolor\":\"white\",\"ticks\":\"\"}},\"ternary\":{\"bgcolor\":\"#E5ECF6\",\"aaxis\":{\"gridcolor\":\"white\",\"linecolor\":\"white\",\"ticks\":\"\"},\"baxis\":{\"gridcolor\":\"white\",\"linecolor\":\"white\",\"ticks\":\"\"},\"caxis\":{\"gridcolor\":\"white\",\"linecolor\":\"white\",\"ticks\":\"\"}},\"coloraxis\":{\"colorbar\":{\"outlinewidth\":0,\"ticks\":\"\"}},\"colorscale\":{\"sequential\":[[0.0,\"#0d0887\"],[0.1111111111111111,\"#46039f\"],[0.2222222222222222,\"#7201a8\"],[0.3333333333333333,\"#9c179e\"],[0.4444444444444444,\"#bd3786\"],[0.5555555555555556,\"#d8576b\"],[0.6666666666666666,\"#ed7953\"],[0.7777777777777778,\"#fb9f3a\"],[0.8888888888888888,\"#fdca26\"],[1.0,\"#f0f921\"]],\"sequentialminus\":[[0.0,\"#0d0887\"],[0.1111111111111111,\"#46039f\"],[0.2222222222222222,\"#7201a8\"],[0.3333333333333333,\"#9c179e\"],[0.4444444444444444,\"#bd3786\"],[0.5555555555555556,\"#d8576b\"],[0.6666666666666666,\"#ed7953\"],[0.7777777777777778,\"#fb9f3a\"],[0.8888888888888888,\"#fdca26\"],[1.0,\"#f0f921\"]],\"diverging\":[[0,\"#8e0152\"],[0.1,\"#c51b7d\"],[0.2,\"#de77ae\"],[0.3,\"#f1b6da\"],[0.4,\"#fde0ef\"],[0.5,\"#f7f7f7\"],[0.6,\"#e6f5d0\"],[0.7,\"#b8e186\"],[0.8,\"#7fbc41\"],[0.9,\"#4d9221\"],[1,\"#276419\"]]},\"xaxis\":{\"gridcolor\":\"white\",\"linecolor\":\"white\",\"ticks\":\"\",\"title\":{\"standoff\":15},\"zerolinecolor\":\"white\",\"automargin\":true,\"zerolinewidth\":2},\"yaxis\":{\"gridcolor\":\"white\",\"linecolor\":\"white\",\"ticks\":\"\",\"title\":{\"standoff\":15},\"zerolinecolor\":\"white\",\"automargin\":true,\"zerolinewidth\":2},\"scene\":{\"xaxis\":{\"backgroundcolor\":\"#E5ECF6\",\"gridcolor\":\"white\",\"linecolor\":\"white\",\"showbackground\":true,\"ticks\":\"\",\"zerolinecolor\":\"white\",\"gridwidth\":2},\"yaxis\":{\"backgroundcolor\":\"#E5ECF6\",\"gridcolor\":\"white\",\"linecolor\":\"white\",\"showbackground\":true,\"ticks\":\"\",\"zerolinecolor\":\"white\",\"gridwidth\":2},\"zaxis\":{\"backgroundcolor\":\"#E5ECF6\",\"gridcolor\":\"white\",\"linecolor\":\"white\",\"showbackground\":true,\"ticks\":\"\",\"zerolinecolor\":\"white\",\"gridwidth\":2}},\"shapedefaults\":{\"line\":{\"color\":\"#2a3f5f\"}},\"annotationdefaults\":{\"arrowcolor\":\"#2a3f5f\",\"arrowhead\":0,\"arrowwidth\":1},\"geo\":{\"bgcolor\":\"white\",\"landcolor\":\"#E5ECF6\",\"subunitcolor\":\"white\",\"showland\":true,\"showlakes\":true,\"lakecolor\":\"white\"},\"title\":{\"x\":0.05},\"mapbox\":{\"style\":\"light\"}}},\"xaxis\":{\"anchor\":\"y\",\"domain\":[0.0,1.0],\"title\":{\"text\":\"Campaign Type\"}},\"yaxis\":{\"anchor\":\"x\",\"domain\":[0.0,1.0],\"title\":{\"text\":\"Number of Coupons Redeemed\"}},\"legend\":{\"tracegroupgap\":0},\"title\":{\"text\":\"Campaign Type-wise Redemption of Coupons (Including Zeros)\"},\"barmode\":\"relative\"},                        {\"responsive\": true}                    ).then(function(){\n",
       "                            \n",
       "var gd = document.getElementById('31ab6719-ca6e-4a7c-ae77-d0a043175fce');\n",
       "var x = new MutationObserver(function (mutations, observer) {{\n",
       "        var display = window.getComputedStyle(gd).display;\n",
       "        if (!display || display === 'none') {{\n",
       "            console.log([gd, 'removed!']);\n",
       "            Plotly.purge(gd);\n",
       "            observer.disconnect();\n",
       "        }}\n",
       "}});\n",
       "\n",
       "// Listen for the removal of the full notebook cells\n",
       "var notebookContainer = gd.closest('#notebook-container');\n",
       "if (notebookContainer) {{\n",
       "    x.observe(notebookContainer, {childList: true});\n",
       "}}\n",
       "\n",
       "// Listen for the clearing of the current output cell\n",
       "var outputEl = gd.closest('.output');\n",
       "if (outputEl) {{\n",
       "    x.observe(outputEl, {childList: true});\n",
       "}}\n",
       "\n",
       "                        })                };                });            </script>        </div>"
      ]
     },
     "metadata": {},
     "output_type": "display_data"
    }
   ],
   "source": [
    "# Get all unique campaign descriptions\n",
    "all_descriptions = df['DESCRIPTION'].unique()\n",
    "\n",
    "# Filter the data for redeemed coupons only\n",
    "df_redeemed = df[df['discount_availed'] == 'redeemed']\n",
    "\n",
    "# Group by 'DESCRIPTION' and count the number of redeemed coupons\n",
    "campaign_redemption = df_redeemed.groupby('DESCRIPTION').size().reset_index(name='Redemption Count')\n",
    "\n",
    "# Create a DataFrame with all campaign descriptions\n",
    "all_campaigns = pd.DataFrame(all_descriptions, columns=['DESCRIPTION'])\n",
    "\n",
    "# Merge the actual redemption counts with all campaign descriptions\n",
    "campaign_redemption_complete = pd.merge(all_campaigns, campaign_redemption, on='DESCRIPTION', how='left')\n",
    "\n",
    "campaign_redemption_complete['Redemption Count'] = campaign_redemption_complete['Redemption Count'].fillna(0)\n",
    "\n",
    "fig = px.bar(\n",
    "    campaign_redemption_complete, \n",
    "    x='DESCRIPTION', \n",
    "    y='Redemption Count', \n",
    "    title='Campaign Type-wise Redemption of Coupons (Including Zeros)',\n",
    "    labels={'DESCRIPTION': 'Campaign Type', 'Redemption Count': 'Number of Coupons Redeemed'},\n",
    "    text_auto=True \n",
    ")\n",
    "\n",
    "\n",
    "fig.update_layout(xaxis_title='Campaign Type', yaxis_title='Number of Coupons Redeemed')\n",
    "\n",
    "test = plotly.offline.plot(fig, output_type='div', include_plotlyjs=False)\n",
    "example_plotly = f'{test}'\n",
    "restworkflowcontext.outPlotly(9, title=\"Campaign Type-wise Redemption of Coupons\", text=example_plotly)\n",
    "\n",
    "# Show the figure\n",
    "fig.show()\n"
   ]
  },
  {
   "cell_type": "code",
   "execution_count": 294,
   "id": "8ae760b2-efb1-494f-804f-360c164260a6",
   "metadata": {},
   "outputs": [
    {
     "name": "stdout",
     "output_type": "stream",
     "text": [
      "Check the Input type..\n",
      "There is a match\n",
      " And Input is string type.\n",
      "Sending Message: {'text': 'Plotly.newPlot(                        @@678c90c9-ed20-4379-83f6-fdb50095b649@@,                        [{@@alignmentgroup@@:@@True@@,@@hovertemplate@@:@@Coupon Type=campaign_coupons\\\\u003cbr\\\\u003eCampaign Description=%{x}\\\\u003cbr\\\\u003eNumber of Coupons Redeemed=%{y}\\\\u003cextra\\\\u003e\\\\u003c\\\\u002fextra\\\\u003e@@,@@legendgroup@@:@@campaign_coupons@@,@@marker@@:{@@color@@:@@#636efa@@,@@pattern@@:{@@shape@@:@@@@}},@@name@@:@@campaign_coupons@@,@@offsetgroup@@:@@campaign_coupons@@,@@orientation@@:@@v@@,@@showlegend@@:true,@@textposition@@:@@auto@@,@@texttemplate@@:@@%{y}@@,@@x@@:[@@TypeA@@,@@TypeB@@],@@xaxis@@:@@x@@,@@y@@:[2,1],@@yaxis@@:@@y@@,@@type@@:@@bar@@},{@@alignmentgroup@@:@@True@@,@@hovertemplate@@:@@Coupon Type=instore_discount\\\\u003cbr\\\\u003eCampaign Description=%{x}\\\\u003cbr\\\\u003eNumber of Coupons Redeemed=%{y}\\\\u003cextra\\\\u003e\\\\u003c\\\\u002fextra\\\\u003e@@,@@legendgroup@@:@@instore_discount@@,@@marker@@:{@@color@@:@@#EF553B@@,@@pattern@@:{@@shape@@:@@@@}},@@name@@:@@instore_discount@@,@@offsetgroup@@:@@instore_discount@@,@@orientation@@:@@v@@,@@showlegend@@:true,@@textposition@@:@@auto@@,@@texttemplate@@:@@%{y}@@,@@x@@:[@@TypeA@@],@@xaxis@@:@@x@@,@@y@@:[12],@@yaxis@@:@@y@@,@@type@@:@@bar@@}],                        {@@barmode@@:@@stack@@,@@legend@@:{@@title@@:{@@text@@:@@Coupon Type@@},@@tracegroupgap@@:0},@@template@@:{@@data@@:{@@barpolar@@:[{@@marker@@:{@@line@@:{@@color@@:@@#E5ECF6@@,@@width@@:0.5},@@pattern@@:{@@fillmode@@:@@overlay@@,@@size@@:10,@@solidity@@:0.2}},@@type@@:@@barpolar@@}],@@bar@@:[{@@error_x@@:{@@color@@:@@#2a3f5f@@},@@error_y@@:{@@color@@:@@#2a3f5f@@},@@marker@@:{@@line@@:{@@color@@:@@#E5ECF6@@,@@width@@:0.5},@@pattern@@:{@@fillmode@@:@@overlay@@,@@size@@:10,@@solidity@@:0.2}},@@type@@:@@bar@@}],@@carpet@@:[{@@aaxis@@:{@@endlinecolor@@:@@#2a3f5f@@,@@gridcolor@@:@@white@@,@@linecolor@@:@@white@@,@@minorgridcolor@@:@@white@@,@@startlinecolor@@:@@#2a3f5f@@},@@baxis@@:{@@endlinecolor@@:@@#2a3f5f@@,@@gridcolor@@:@@white@@,@@linecolor@@:@@white@@,@@minorgridcolor@@:@@white@@,@@startlinecolor@@:@@#2a3f5f@@},@@type@@:@@carpet@@}],@@choropleth@@:[{@@colorbar@@:{@@outlinewidth@@:0,@@ticks@@:@@@@},@@type@@:@@choropleth@@}],@@contourcarpet@@:[{@@colorbar@@:{@@outlinewidth@@:0,@@ticks@@:@@@@},@@type@@:@@contourcarpet@@}],@@contour@@:[{@@colorbar@@:{@@outlinewidth@@:0,@@ticks@@:@@@@},@@colorscale@@:[[0.0,@@#0d0887@@],[0.1111111111111111,@@#46039f@@],[0.2222222222222222,@@#7201a8@@],[0.3333333333333333,@@#9c179e@@],[0.4444444444444444,@@#bd3786@@],[0.5555555555555556,@@#d8576b@@],[0.6666666666666666,@@#ed7953@@],[0.7777777777777778,@@#fb9f3a@@],[0.8888888888888888,@@#fdca26@@],[1.0,@@#f0f921@@]],@@type@@:@@contour@@}],@@heatmapgl@@:[{@@colorbar@@:{@@outlinewidth@@:0,@@ticks@@:@@@@},@@colorscale@@:[[0.0,@@#0d0887@@],[0.1111111111111111,@@#46039f@@],[0.2222222222222222,@@#7201a8@@],[0.3333333333333333,@@#9c179e@@],[0.4444444444444444,@@#bd3786@@],[0.5555555555555556,@@#d8576b@@],[0.6666666666666666,@@#ed7953@@],[0.7777777777777778,@@#fb9f3a@@],[0.8888888888888888,@@#fdca26@@],[1.0,@@#f0f921@@]],@@type@@:@@heatmapgl@@}],@@heatmap@@:[{@@colorbar@@:{@@outlinewidth@@:0,@@ticks@@:@@@@},@@colorscale@@:[[0.0,@@#0d0887@@],[0.1111111111111111,@@#46039f@@],[0.2222222222222222,@@#7201a8@@],[0.3333333333333333,@@#9c179e@@],[0.4444444444444444,@@#bd3786@@],[0.5555555555555556,@@#d8576b@@],[0.6666666666666666,@@#ed7953@@],[0.7777777777777778,@@#fb9f3a@@],[0.8888888888888888,@@#fdca26@@],[1.0,@@#f0f921@@]],@@type@@:@@heatmap@@}],@@histogram2dcontour@@:[{@@colorbar@@:{@@outlinewidth@@:0,@@ticks@@:@@@@},@@colorscale@@:[[0.0,@@#0d0887@@],[0.1111111111111111,@@#46039f@@],[0.2222222222222222,@@#7201a8@@],[0.3333333333333333,@@#9c179e@@],[0.4444444444444444,@@#bd3786@@],[0.5555555555555556,@@#d8576b@@],[0.6666666666666666,@@#ed7953@@],[0.7777777777777778,@@#fb9f3a@@],[0.8888888888888888,@@#fdca26@@],[1.0,@@#f0f921@@]],@@type@@:@@histogram2dcontour@@}],@@histogram2d@@:[{@@colorbar@@:{@@outlinewidth@@:0,@@ticks@@:@@@@},@@colorscale@@:[[0.0,@@#0d0887@@],[0.1111111111111111,@@#46039f@@],[0.2222222222222222,@@#7201a8@@],[0.3333333333333333,@@#9c179e@@],[0.4444444444444444,@@#bd3786@@],[0.5555555555555556,@@#d8576b@@],[0.6666666666666666,@@#ed7953@@],[0.7777777777777778,@@#fb9f3a@@],[0.8888888888888888,@@#fdca26@@],[1.0,@@#f0f921@@]],@@type@@:@@histogram2d@@}],@@histogram@@:[{@@marker@@:{@@pattern@@:{@@fillmode@@:@@overlay@@,@@size@@:10,@@solidity@@:0.2}},@@type@@:@@histogram@@}],@@mesh3d@@:[{@@colorbar@@:{@@outlinewidth@@:0,@@ticks@@:@@@@},@@type@@:@@mesh3d@@}],@@parcoords@@:[{@@line@@:{@@colorbar@@:{@@outlinewidth@@:0,@@ticks@@:@@@@}},@@type@@:@@parcoords@@}],@@pie@@:[{@@automargin@@:true,@@type@@:@@pie@@}],@@scatter3d@@:[{@@line@@:{@@colorbar@@:{@@outlinewidth@@:0,@@ticks@@:@@@@}},@@marker@@:{@@colorbar@@:{@@outlinewidth@@:0,@@ticks@@:@@@@}},@@type@@:@@scatter3d@@}],@@scattercarpet@@:[{@@marker@@:{@@colorbar@@:{@@outlinewidth@@:0,@@ticks@@:@@@@}},@@type@@:@@scattercarpet@@}],@@scattergeo@@:[{@@marker@@:{@@colorbar@@:{@@outlinewidth@@:0,@@ticks@@:@@@@}},@@type@@:@@scattergeo@@}],@@scattergl@@:[{@@marker@@:{@@colorbar@@:{@@outlinewidth@@:0,@@ticks@@:@@@@}},@@type@@:@@scattergl@@}],@@scattermapbox@@:[{@@marker@@:{@@colorbar@@:{@@outlinewidth@@:0,@@ticks@@:@@@@}},@@type@@:@@scattermapbox@@}],@@scatterpolargl@@:[{@@marker@@:{@@colorbar@@:{@@outlinewidth@@:0,@@ticks@@:@@@@}},@@type@@:@@scatterpolargl@@}],@@scatterpolar@@:[{@@marker@@:{@@colorbar@@:{@@outlinewidth@@:0,@@ticks@@:@@@@}},@@type@@:@@scatterpolar@@}],@@scatter@@:[{@@fillpattern@@:{@@fillmode@@:@@overlay@@,@@size@@:10,@@solidity@@:0.2},@@type@@:@@scatter@@}],@@scatterternary@@:[{@@marker@@:{@@colorbar@@:{@@outlinewidth@@:0,@@ticks@@:@@@@}},@@type@@:@@scatterternary@@}],@@surface@@:[{@@colorbar@@:{@@outlinewidth@@:0,@@ticks@@:@@@@},@@colorscale@@:[[0.0,@@#0d0887@@],[0.1111111111111111,@@#46039f@@],[0.2222222222222222,@@#7201a8@@],[0.3333333333333333,@@#9c179e@@],[0.4444444444444444,@@#bd3786@@],[0.5555555555555556,@@#d8576b@@],[0.6666666666666666,@@#ed7953@@],[0.7777777777777778,@@#fb9f3a@@],[0.8888888888888888,@@#fdca26@@],[1.0,@@#f0f921@@]],@@type@@:@@surface@@}],@@table@@:[{@@cells@@:{@@fill@@:{@@color@@:@@#EBF0F8@@},@@line@@:{@@color@@:@@white@@}},@@header@@:{@@fill@@:{@@color@@:@@#C8D4E3@@},@@line@@:{@@color@@:@@white@@}},@@type@@:@@table@@}]},@@layout@@:{@@annotationdefaults@@:{@@arrowcolor@@:@@#2a3f5f@@,@@arrowhead@@:0,@@arrowwidth@@:1},@@autotypenumbers@@:@@strict@@,@@coloraxis@@:{@@colorbar@@:{@@outlinewidth@@:0,@@ticks@@:@@@@}},@@colorscale@@:{@@diverging@@:[[0,@@#8e0152@@],[0.1,@@#c51b7d@@],[0.2,@@#de77ae@@],[0.3,@@#f1b6da@@],[0.4,@@#fde0ef@@],[0.5,@@#f7f7f7@@],[0.6,@@#e6f5d0@@],[0.7,@@#b8e186@@],[0.8,@@#7fbc41@@],[0.9,@@#4d9221@@],[1,@@#276419@@]],@@sequential@@:[[0.0,@@#0d0887@@],[0.1111111111111111,@@#46039f@@],[0.2222222222222222,@@#7201a8@@],[0.3333333333333333,@@#9c179e@@],[0.4444444444444444,@@#bd3786@@],[0.5555555555555556,@@#d8576b@@],[0.6666666666666666,@@#ed7953@@],[0.7777777777777778,@@#fb9f3a@@],[0.8888888888888888,@@#fdca26@@],[1.0,@@#f0f921@@]],@@sequentialminus@@:[[0.0,@@#0d0887@@],[0.1111111111111111,@@#46039f@@],[0.2222222222222222,@@#7201a8@@],[0.3333333333333333,@@#9c179e@@],[0.4444444444444444,@@#bd3786@@],[0.5555555555555556,@@#d8576b@@],[0.6666666666666666,@@#ed7953@@],[0.7777777777777778,@@#fb9f3a@@],[0.8888888888888888,@@#fdca26@@],[1.0,@@#f0f921@@]]},@@colorway@@:[@@#636efa@@,@@#EF553B@@,@@#00cc96@@,@@#ab63fa@@,@@#FFA15A@@,@@#19d3f3@@,@@#FF6692@@,@@#B6E880@@,@@#FF97FF@@,@@#FECB52@@],@@font@@:{@@color@@:@@#2a3f5f@@},@@geo@@:{@@bgcolor@@:@@white@@,@@lakecolor@@:@@white@@,@@landcolor@@:@@#E5ECF6@@,@@showlakes@@:true,@@showland@@:true,@@subunitcolor@@:@@white@@},@@hoverlabel@@:{@@align@@:@@left@@},@@hovermode@@:@@closest@@,@@mapbox@@:{@@style@@:@@light@@},@@paper_bgcolor@@:@@white@@,@@plot_bgcolor@@:@@#E5ECF6@@,@@polar@@:{@@angularaxis@@:{@@gridcolor@@:@@white@@,@@linecolor@@:@@white@@,@@ticks@@:@@@@},@@bgcolor@@:@@#E5ECF6@@,@@radialaxis@@:{@@gridcolor@@:@@white@@,@@linecolor@@:@@white@@,@@ticks@@:@@@@}},@@scene@@:{@@xaxis@@:{@@backgroundcolor@@:@@#E5ECF6@@,@@gridcolor@@:@@white@@,@@gridwidth@@:2,@@linecolor@@:@@white@@,@@showbackground@@:true,@@ticks@@:@@@@,@@zerolinecolor@@:@@white@@},@@yaxis@@:{@@backgroundcolor@@:@@#E5ECF6@@,@@gridcolor@@:@@white@@,@@gridwidth@@:2,@@linecolor@@:@@white@@,@@showbackground@@:true,@@ticks@@:@@@@,@@zerolinecolor@@:@@white@@},@@zaxis@@:{@@backgroundcolor@@:@@#E5ECF6@@,@@gridcolor@@:@@white@@,@@gridwidth@@:2,@@linecolor@@:@@white@@,@@showbackground@@:true,@@ticks@@:@@@@,@@zerolinecolor@@:@@white@@}},@@shapedefaults@@:{@@line@@:{@@color@@:@@#2a3f5f@@}},@@ternary@@:{@@aaxis@@:{@@gridcolor@@:@@white@@,@@linecolor@@:@@white@@,@@ticks@@:@@@@},@@baxis@@:{@@gridcolor@@:@@white@@,@@linecolor@@:@@white@@,@@ticks@@:@@@@},@@bgcolor@@:@@#E5ECF6@@,@@caxis@@:{@@gridcolor@@:@@white@@,@@linecolor@@:@@white@@,@@ticks@@:@@@@}},@@title@@:{@@x@@:0.05},@@xaxis@@:{@@automargin@@:true,@@gridcolor@@:@@white@@,@@linecolor@@:@@white@@,@@ticks@@:@@@@,@@title@@:{@@standoff@@:15},@@zerolinecolor@@:@@white@@,@@zerolinewidth@@:2},@@yaxis@@:{@@automargin@@:true,@@gridcolor@@:@@white@@,@@linecolor@@:@@white@@,@@ticks@@:@@@@,@@title@@:{@@standoff@@:15},@@zerolinecolor@@:@@white@@,@@zerolinewidth@@:2}}},@@title@@:{@@text@@:@@Campaign Type-wise Redemption of Coupons@@},@@xaxis@@:{@@anchor@@:@@y@@,@@domain@@:[0.0,1.0],@@title@@:{@@text@@:@@Campaign Description@@}},@@yaxis@@:{@@anchor@@:@@x@@,@@domain@@:[0.0,1.0],@@title@@:{@@text@@:@@Number of Coupons Redeemed@@}}},                        {@@responsive@@: true}                    )', 'id': 9, 'name': 'Campaign Type-wise Redemption of Coupons', 'title': 'Campaign Type-wise Redemption of Coupons', 'type': 'plotly', 'resultType': 3, 'visibility': 'EXPANDED', 'time': 'Aug 05, 2025 07:52:09 PM'}\n",
      "Not sending message to fire_notebook server as the post back URL is not http\n"
     ]
    }
   ],
   "source": [
    "# Filter the data to include only redeemed coupons\n",
    "df_redeemed = df[df['discount_availed'] == 'redeemed']\n",
    "\n",
    "# Group data by Campaign Description (DESCRIPTION) and Coupon Type (redemption_type) \n",
    "coupon_redemption = df_redeemed.groupby(['DESCRIPTION', 'redemption_type']).size().reset_index(name='Redemption Count')\n",
    "\n",
    "fig = px.bar(\n",
    "    coupon_redemption, \n",
    "    x='DESCRIPTION', \n",
    "    y='Redemption Count', \n",
    "    color='redemption_type', \n",
    "    title='Campaign Type-wise Redemption of Coupons',\n",
    "    labels={'DESCRIPTION': 'Campaign Description', 'Redemption Count': 'Number of Coupons Redeemed', 'redemption_type': 'Coupon Type'},\n",
    "    text_auto=True \n",
    ")\n",
    "\n",
    "fig.update_layout(\n",
    "    barmode='stack',\n",
    "    xaxis_title='Campaign Description', \n",
    "    yaxis_title='Number of Coupons Redeemed'\n",
    ")\n",
    "\n",
    "test = plotly.offline.plot(fig, output_type='div', include_plotlyjs=False)\n",
    "example_plotly = f'{test}'\n",
    "restworkflowcontext.outPlotly(9, title=\"Campaign Type-wise Redemption of Coupons\", text=example_plotly)\n",
    "\n",
    "# Show the figure\n",
    "# fig.show()\n"
   ]
  },
  {
   "cell_type": "code",
   "execution_count": 295,
   "id": "9770a49d-ce83-4f04-bf04-5ae6987a9e97",
   "metadata": {},
   "outputs": [
    {
     "data": {
      "application/vnd.plotly.v1+json": {
       "config": {
        "plotlyServerURL": "https://plot.ly"
       },
       "data": [
        {
         "alignmentgroup": "True",
         "hovertemplate": "Coupon Type=no_discount<br>Campaign Description=%{x}<br>Number of Coupons Redeemed=%{y}<extra></extra>",
         "legendgroup": "no_discount",
         "marker": {
          "color": "#636efa",
          "pattern": {
           "shape": ""
          }
         },
         "name": "no_discount",
         "offsetgroup": "no_discount",
         "orientation": "v",
         "showlegend": true,
         "textposition": "auto",
         "texttemplate": "%{y}",
         "type": "bar",
         "x": [
          "TypeB",
          "TypeC",
          "TypeA"
         ],
         "xaxis": "x",
         "y": [
          0,
          0,
          0
         ],
         "yaxis": "y"
        },
        {
         "alignmentgroup": "True",
         "hovertemplate": "Coupon Type=private_label<br>Campaign Description=%{x}<br>Number of Coupons Redeemed=%{y}<extra></extra>",
         "legendgroup": "private_label",
         "marker": {
          "color": "#EF553B",
          "pattern": {
           "shape": ""
          }
         },
         "name": "private_label",
         "offsetgroup": "private_label",
         "orientation": "v",
         "showlegend": true,
         "textposition": "auto",
         "texttemplate": "%{y}",
         "type": "bar",
         "x": [
          "TypeB",
          "TypeC",
          "TypeA"
         ],
         "xaxis": "x",
         "y": [
          0,
          0,
          0
         ],
         "yaxis": "y"
        },
        {
         "alignmentgroup": "True",
         "hovertemplate": "Coupon Type=instore_discount<br>Campaign Description=%{x}<br>Number of Coupons Redeemed=%{y}<extra></extra>",
         "legendgroup": "instore_discount",
         "marker": {
          "color": "#00cc96",
          "pattern": {
           "shape": ""
          }
         },
         "name": "instore_discount",
         "offsetgroup": "instore_discount",
         "orientation": "v",
         "showlegend": true,
         "textposition": "auto",
         "texttemplate": "%{y}",
         "type": "bar",
         "x": [
          "TypeB",
          "TypeC",
          "TypeA"
         ],
         "xaxis": "x",
         "y": [
          0,
          0,
          12
         ],
         "yaxis": "y"
        },
        {
         "alignmentgroup": "True",
         "hovertemplate": "Coupon Type=campaign_coupons<br>Campaign Description=%{x}<br>Number of Coupons Redeemed=%{y}<extra></extra>",
         "legendgroup": "campaign_coupons",
         "marker": {
          "color": "#ab63fa",
          "pattern": {
           "shape": ""
          }
         },
         "name": "campaign_coupons",
         "offsetgroup": "campaign_coupons",
         "orientation": "v",
         "showlegend": true,
         "textposition": "auto",
         "texttemplate": "%{y}",
         "type": "bar",
         "x": [
          "TypeB",
          "TypeC",
          "TypeA"
         ],
         "xaxis": "x",
         "y": [
          1,
          0,
          2
         ],
         "yaxis": "y"
        }
       ],
       "layout": {
        "autosize": true,
        "barmode": "stack",
        "legend": {
         "title": {
          "text": "Coupon Type"
         },
         "tracegroupgap": 0
        },
        "template": {
         "data": {
          "bar": [
           {
            "error_x": {
             "color": "#2a3f5f"
            },
            "error_y": {
             "color": "#2a3f5f"
            },
            "marker": {
             "line": {
              "color": "#E5ECF6",
              "width": 0.5
             },
             "pattern": {
              "fillmode": "overlay",
              "size": 10,
              "solidity": 0.2
             }
            },
            "type": "bar"
           }
          ],
          "barpolar": [
           {
            "marker": {
             "line": {
              "color": "#E5ECF6",
              "width": 0.5
             },
             "pattern": {
              "fillmode": "overlay",
              "size": 10,
              "solidity": 0.2
             }
            },
            "type": "barpolar"
           }
          ],
          "carpet": [
           {
            "aaxis": {
             "endlinecolor": "#2a3f5f",
             "gridcolor": "white",
             "linecolor": "white",
             "minorgridcolor": "white",
             "startlinecolor": "#2a3f5f"
            },
            "baxis": {
             "endlinecolor": "#2a3f5f",
             "gridcolor": "white",
             "linecolor": "white",
             "minorgridcolor": "white",
             "startlinecolor": "#2a3f5f"
            },
            "type": "carpet"
           }
          ],
          "choropleth": [
           {
            "colorbar": {
             "outlinewidth": 0,
             "ticks": ""
            },
            "type": "choropleth"
           }
          ],
          "contour": [
           {
            "colorbar": {
             "outlinewidth": 0,
             "ticks": ""
            },
            "colorscale": [
             [
              0,
              "#0d0887"
             ],
             [
              0.1111111111111111,
              "#46039f"
             ],
             [
              0.2222222222222222,
              "#7201a8"
             ],
             [
              0.3333333333333333,
              "#9c179e"
             ],
             [
              0.4444444444444444,
              "#bd3786"
             ],
             [
              0.5555555555555556,
              "#d8576b"
             ],
             [
              0.6666666666666666,
              "#ed7953"
             ],
             [
              0.7777777777777778,
              "#fb9f3a"
             ],
             [
              0.8888888888888888,
              "#fdca26"
             ],
             [
              1,
              "#f0f921"
             ]
            ],
            "type": "contour"
           }
          ],
          "contourcarpet": [
           {
            "colorbar": {
             "outlinewidth": 0,
             "ticks": ""
            },
            "type": "contourcarpet"
           }
          ],
          "heatmap": [
           {
            "colorbar": {
             "outlinewidth": 0,
             "ticks": ""
            },
            "colorscale": [
             [
              0,
              "#0d0887"
             ],
             [
              0.1111111111111111,
              "#46039f"
             ],
             [
              0.2222222222222222,
              "#7201a8"
             ],
             [
              0.3333333333333333,
              "#9c179e"
             ],
             [
              0.4444444444444444,
              "#bd3786"
             ],
             [
              0.5555555555555556,
              "#d8576b"
             ],
             [
              0.6666666666666666,
              "#ed7953"
             ],
             [
              0.7777777777777778,
              "#fb9f3a"
             ],
             [
              0.8888888888888888,
              "#fdca26"
             ],
             [
              1,
              "#f0f921"
             ]
            ],
            "type": "heatmap"
           }
          ],
          "heatmapgl": [
           {
            "colorbar": {
             "outlinewidth": 0,
             "ticks": ""
            },
            "colorscale": [
             [
              0,
              "#0d0887"
             ],
             [
              0.1111111111111111,
              "#46039f"
             ],
             [
              0.2222222222222222,
              "#7201a8"
             ],
             [
              0.3333333333333333,
              "#9c179e"
             ],
             [
              0.4444444444444444,
              "#bd3786"
             ],
             [
              0.5555555555555556,
              "#d8576b"
             ],
             [
              0.6666666666666666,
              "#ed7953"
             ],
             [
              0.7777777777777778,
              "#fb9f3a"
             ],
             [
              0.8888888888888888,
              "#fdca26"
             ],
             [
              1,
              "#f0f921"
             ]
            ],
            "type": "heatmapgl"
           }
          ],
          "histogram": [
           {
            "marker": {
             "pattern": {
              "fillmode": "overlay",
              "size": 10,
              "solidity": 0.2
             }
            },
            "type": "histogram"
           }
          ],
          "histogram2d": [
           {
            "colorbar": {
             "outlinewidth": 0,
             "ticks": ""
            },
            "colorscale": [
             [
              0,
              "#0d0887"
             ],
             [
              0.1111111111111111,
              "#46039f"
             ],
             [
              0.2222222222222222,
              "#7201a8"
             ],
             [
              0.3333333333333333,
              "#9c179e"
             ],
             [
              0.4444444444444444,
              "#bd3786"
             ],
             [
              0.5555555555555556,
              "#d8576b"
             ],
             [
              0.6666666666666666,
              "#ed7953"
             ],
             [
              0.7777777777777778,
              "#fb9f3a"
             ],
             [
              0.8888888888888888,
              "#fdca26"
             ],
             [
              1,
              "#f0f921"
             ]
            ],
            "type": "histogram2d"
           }
          ],
          "histogram2dcontour": [
           {
            "colorbar": {
             "outlinewidth": 0,
             "ticks": ""
            },
            "colorscale": [
             [
              0,
              "#0d0887"
             ],
             [
              0.1111111111111111,
              "#46039f"
             ],
             [
              0.2222222222222222,
              "#7201a8"
             ],
             [
              0.3333333333333333,
              "#9c179e"
             ],
             [
              0.4444444444444444,
              "#bd3786"
             ],
             [
              0.5555555555555556,
              "#d8576b"
             ],
             [
              0.6666666666666666,
              "#ed7953"
             ],
             [
              0.7777777777777778,
              "#fb9f3a"
             ],
             [
              0.8888888888888888,
              "#fdca26"
             ],
             [
              1,
              "#f0f921"
             ]
            ],
            "type": "histogram2dcontour"
           }
          ],
          "mesh3d": [
           {
            "colorbar": {
             "outlinewidth": 0,
             "ticks": ""
            },
            "type": "mesh3d"
           }
          ],
          "parcoords": [
           {
            "line": {
             "colorbar": {
              "outlinewidth": 0,
              "ticks": ""
             }
            },
            "type": "parcoords"
           }
          ],
          "pie": [
           {
            "automargin": true,
            "type": "pie"
           }
          ],
          "scatter": [
           {
            "fillpattern": {
             "fillmode": "overlay",
             "size": 10,
             "solidity": 0.2
            },
            "type": "scatter"
           }
          ],
          "scatter3d": [
           {
            "line": {
             "colorbar": {
              "outlinewidth": 0,
              "ticks": ""
             }
            },
            "marker": {
             "colorbar": {
              "outlinewidth": 0,
              "ticks": ""
             }
            },
            "type": "scatter3d"
           }
          ],
          "scattercarpet": [
           {
            "marker": {
             "colorbar": {
              "outlinewidth": 0,
              "ticks": ""
             }
            },
            "type": "scattercarpet"
           }
          ],
          "scattergeo": [
           {
            "marker": {
             "colorbar": {
              "outlinewidth": 0,
              "ticks": ""
             }
            },
            "type": "scattergeo"
           }
          ],
          "scattergl": [
           {
            "marker": {
             "colorbar": {
              "outlinewidth": 0,
              "ticks": ""
             }
            },
            "type": "scattergl"
           }
          ],
          "scattermapbox": [
           {
            "marker": {
             "colorbar": {
              "outlinewidth": 0,
              "ticks": ""
             }
            },
            "type": "scattermapbox"
           }
          ],
          "scatterpolar": [
           {
            "marker": {
             "colorbar": {
              "outlinewidth": 0,
              "ticks": ""
             }
            },
            "type": "scatterpolar"
           }
          ],
          "scatterpolargl": [
           {
            "marker": {
             "colorbar": {
              "outlinewidth": 0,
              "ticks": ""
             }
            },
            "type": "scatterpolargl"
           }
          ],
          "scatterternary": [
           {
            "marker": {
             "colorbar": {
              "outlinewidth": 0,
              "ticks": ""
             }
            },
            "type": "scatterternary"
           }
          ],
          "surface": [
           {
            "colorbar": {
             "outlinewidth": 0,
             "ticks": ""
            },
            "colorscale": [
             [
              0,
              "#0d0887"
             ],
             [
              0.1111111111111111,
              "#46039f"
             ],
             [
              0.2222222222222222,
              "#7201a8"
             ],
             [
              0.3333333333333333,
              "#9c179e"
             ],
             [
              0.4444444444444444,
              "#bd3786"
             ],
             [
              0.5555555555555556,
              "#d8576b"
             ],
             [
              0.6666666666666666,
              "#ed7953"
             ],
             [
              0.7777777777777778,
              "#fb9f3a"
             ],
             [
              0.8888888888888888,
              "#fdca26"
             ],
             [
              1,
              "#f0f921"
             ]
            ],
            "type": "surface"
           }
          ],
          "table": [
           {
            "cells": {
             "fill": {
              "color": "#EBF0F8"
             },
             "line": {
              "color": "white"
             }
            },
            "header": {
             "fill": {
              "color": "#C8D4E3"
             },
             "line": {
              "color": "white"
             }
            },
            "type": "table"
           }
          ]
         },
         "layout": {
          "annotationdefaults": {
           "arrowcolor": "#2a3f5f",
           "arrowhead": 0,
           "arrowwidth": 1
          },
          "autotypenumbers": "strict",
          "coloraxis": {
           "colorbar": {
            "outlinewidth": 0,
            "ticks": ""
           }
          },
          "colorscale": {
           "diverging": [
            [
             0,
             "#8e0152"
            ],
            [
             0.1,
             "#c51b7d"
            ],
            [
             0.2,
             "#de77ae"
            ],
            [
             0.3,
             "#f1b6da"
            ],
            [
             0.4,
             "#fde0ef"
            ],
            [
             0.5,
             "#f7f7f7"
            ],
            [
             0.6,
             "#e6f5d0"
            ],
            [
             0.7,
             "#b8e186"
            ],
            [
             0.8,
             "#7fbc41"
            ],
            [
             0.9,
             "#4d9221"
            ],
            [
             1,
             "#276419"
            ]
           ],
           "sequential": [
            [
             0,
             "#0d0887"
            ],
            [
             0.1111111111111111,
             "#46039f"
            ],
            [
             0.2222222222222222,
             "#7201a8"
            ],
            [
             0.3333333333333333,
             "#9c179e"
            ],
            [
             0.4444444444444444,
             "#bd3786"
            ],
            [
             0.5555555555555556,
             "#d8576b"
            ],
            [
             0.6666666666666666,
             "#ed7953"
            ],
            [
             0.7777777777777778,
             "#fb9f3a"
            ],
            [
             0.8888888888888888,
             "#fdca26"
            ],
            [
             1,
             "#f0f921"
            ]
           ],
           "sequentialminus": [
            [
             0,
             "#0d0887"
            ],
            [
             0.1111111111111111,
             "#46039f"
            ],
            [
             0.2222222222222222,
             "#7201a8"
            ],
            [
             0.3333333333333333,
             "#9c179e"
            ],
            [
             0.4444444444444444,
             "#bd3786"
            ],
            [
             0.5555555555555556,
             "#d8576b"
            ],
            [
             0.6666666666666666,
             "#ed7953"
            ],
            [
             0.7777777777777778,
             "#fb9f3a"
            ],
            [
             0.8888888888888888,
             "#fdca26"
            ],
            [
             1,
             "#f0f921"
            ]
           ]
          },
          "colorway": [
           "#636efa",
           "#EF553B",
           "#00cc96",
           "#ab63fa",
           "#FFA15A",
           "#19d3f3",
           "#FF6692",
           "#B6E880",
           "#FF97FF",
           "#FECB52"
          ],
          "font": {
           "color": "#2a3f5f"
          },
          "geo": {
           "bgcolor": "white",
           "lakecolor": "white",
           "landcolor": "#E5ECF6",
           "showlakes": true,
           "showland": true,
           "subunitcolor": "white"
          },
          "hoverlabel": {
           "align": "left"
          },
          "hovermode": "closest",
          "mapbox": {
           "style": "light"
          },
          "paper_bgcolor": "white",
          "plot_bgcolor": "#E5ECF6",
          "polar": {
           "angularaxis": {
            "gridcolor": "white",
            "linecolor": "white",
            "ticks": ""
           },
           "bgcolor": "#E5ECF6",
           "radialaxis": {
            "gridcolor": "white",
            "linecolor": "white",
            "ticks": ""
           }
          },
          "scene": {
           "xaxis": {
            "backgroundcolor": "#E5ECF6",
            "gridcolor": "white",
            "gridwidth": 2,
            "linecolor": "white",
            "showbackground": true,
            "ticks": "",
            "zerolinecolor": "white"
           },
           "yaxis": {
            "backgroundcolor": "#E5ECF6",
            "gridcolor": "white",
            "gridwidth": 2,
            "linecolor": "white",
            "showbackground": true,
            "ticks": "",
            "zerolinecolor": "white"
           },
           "zaxis": {
            "backgroundcolor": "#E5ECF6",
            "gridcolor": "white",
            "gridwidth": 2,
            "linecolor": "white",
            "showbackground": true,
            "ticks": "",
            "zerolinecolor": "white"
           }
          },
          "shapedefaults": {
           "line": {
            "color": "#2a3f5f"
           }
          },
          "ternary": {
           "aaxis": {
            "gridcolor": "white",
            "linecolor": "white",
            "ticks": ""
           },
           "baxis": {
            "gridcolor": "white",
            "linecolor": "white",
            "ticks": ""
           },
           "bgcolor": "#E5ECF6",
           "caxis": {
            "gridcolor": "white",
            "linecolor": "white",
            "ticks": ""
           }
          },
          "title": {
           "x": 0.05
          },
          "xaxis": {
           "automargin": true,
           "gridcolor": "white",
           "linecolor": "white",
           "ticks": "",
           "title": {
            "standoff": 15
           },
           "zerolinecolor": "white",
           "zerolinewidth": 2
          },
          "yaxis": {
           "automargin": true,
           "gridcolor": "white",
           "linecolor": "white",
           "ticks": "",
           "title": {
            "standoff": 15
           },
           "zerolinecolor": "white",
           "zerolinewidth": 2
          }
         }
        },
        "title": {
         "text": "Campaign Type-wise Redemption of Coupons (Including Zeros)"
        },
        "xaxis": {
         "anchor": "y",
         "autorange": true,
         "domain": [
          0,
          1
         ],
         "range": [
          -0.5,
          2.5
         ],
         "title": {
          "text": "Campaign Description"
         },
         "type": "category"
        },
        "yaxis": {
         "anchor": "x",
         "autorange": true,
         "domain": [
          0,
          1
         ],
         "range": [
          0,
          14.736842105263158
         ],
         "title": {
          "text": "Number of Coupons Redeemed"
         },
         "type": "linear"
        }
       }
      },
      "image/png": "[encoded data removed]",
      "text/html": [
       "<div>                            <div id=\"8ad4e347-338a-4f0c-bb6e-d8fdb7b108ac\" class=\"plotly-graph-div\" style=\"height:525px; width:100%;\"></div>            <script type=\"text/javascript\">                require([\"plotly\"], function(Plotly) {                    window.PLOTLYENV=window.PLOTLYENV || {};                                    if (document.getElementById(\"8ad4e347-338a-4f0c-bb6e-d8fdb7b108ac\")) {                    Plotly.newPlot(                        \"8ad4e347-338a-4f0c-bb6e-d8fdb7b108ac\",                        [{\"alignmentgroup\":\"True\",\"hovertemplate\":\"Coupon Type=no_discount\\u003cbr\\u003eCampaign Description=%{x}\\u003cbr\\u003eNumber of Coupons Redeemed=%{y}\\u003cextra\\u003e\\u003c\\u002fextra\\u003e\",\"legendgroup\":\"no_discount\",\"marker\":{\"color\":\"#636efa\",\"pattern\":{\"shape\":\"\"}},\"name\":\"no_discount\",\"offsetgroup\":\"no_discount\",\"orientation\":\"v\",\"showlegend\":true,\"textposition\":\"auto\",\"texttemplate\":\"%{y}\",\"x\":[\"TypeB\",\"TypeC\",\"TypeA\"],\"xaxis\":\"x\",\"y\":[0.0,0.0,0.0],\"yaxis\":\"y\",\"type\":\"bar\"},{\"alignmentgroup\":\"True\",\"hovertemplate\":\"Coupon Type=private_label\\u003cbr\\u003eCampaign Description=%{x}\\u003cbr\\u003eNumber of Coupons Redeemed=%{y}\\u003cextra\\u003e\\u003c\\u002fextra\\u003e\",\"legendgroup\":\"private_label\",\"marker\":{\"color\":\"#EF553B\",\"pattern\":{\"shape\":\"\"}},\"name\":\"private_label\",\"offsetgroup\":\"private_label\",\"orientation\":\"v\",\"showlegend\":true,\"textposition\":\"auto\",\"texttemplate\":\"%{y}\",\"x\":[\"TypeB\",\"TypeC\",\"TypeA\"],\"xaxis\":\"x\",\"y\":[0.0,0.0,0.0],\"yaxis\":\"y\",\"type\":\"bar\"},{\"alignmentgroup\":\"True\",\"hovertemplate\":\"Coupon Type=instore_discount\\u003cbr\\u003eCampaign Description=%{x}\\u003cbr\\u003eNumber of Coupons Redeemed=%{y}\\u003cextra\\u003e\\u003c\\u002fextra\\u003e\",\"legendgroup\":\"instore_discount\",\"marker\":{\"color\":\"#00cc96\",\"pattern\":{\"shape\":\"\"}},\"name\":\"instore_discount\",\"offsetgroup\":\"instore_discount\",\"orientation\":\"v\",\"showlegend\":true,\"textposition\":\"auto\",\"texttemplate\":\"%{y}\",\"x\":[\"TypeB\",\"TypeC\",\"TypeA\"],\"xaxis\":\"x\",\"y\":[0.0,0.0,12.0],\"yaxis\":\"y\",\"type\":\"bar\"},{\"alignmentgroup\":\"True\",\"hovertemplate\":\"Coupon Type=campaign_coupons\\u003cbr\\u003eCampaign Description=%{x}\\u003cbr\\u003eNumber of Coupons Redeemed=%{y}\\u003cextra\\u003e\\u003c\\u002fextra\\u003e\",\"legendgroup\":\"campaign_coupons\",\"marker\":{\"color\":\"#ab63fa\",\"pattern\":{\"shape\":\"\"}},\"name\":\"campaign_coupons\",\"offsetgroup\":\"campaign_coupons\",\"orientation\":\"v\",\"showlegend\":true,\"textposition\":\"auto\",\"texttemplate\":\"%{y}\",\"x\":[\"TypeB\",\"TypeC\",\"TypeA\"],\"xaxis\":\"x\",\"y\":[1.0,0.0,2.0],\"yaxis\":\"y\",\"type\":\"bar\"}],                        {\"template\":{\"data\":{\"histogram2dcontour\":[{\"type\":\"histogram2dcontour\",\"colorbar\":{\"outlinewidth\":0,\"ticks\":\"\"},\"colorscale\":[[0.0,\"#0d0887\"],[0.1111111111111111,\"#46039f\"],[0.2222222222222222,\"#7201a8\"],[0.3333333333333333,\"#9c179e\"],[0.4444444444444444,\"#bd3786\"],[0.5555555555555556,\"#d8576b\"],[0.6666666666666666,\"#ed7953\"],[0.7777777777777778,\"#fb9f3a\"],[0.8888888888888888,\"#fdca26\"],[1.0,\"#f0f921\"]]}],\"choropleth\":[{\"type\":\"choropleth\",\"colorbar\":{\"outlinewidth\":0,\"ticks\":\"\"}}],\"histogram2d\":[{\"type\":\"histogram2d\",\"colorbar\":{\"outlinewidth\":0,\"ticks\":\"\"},\"colorscale\":[[0.0,\"#0d0887\"],[0.1111111111111111,\"#46039f\"],[0.2222222222222222,\"#7201a8\"],[0.3333333333333333,\"#9c179e\"],[0.4444444444444444,\"#bd3786\"],[0.5555555555555556,\"#d8576b\"],[0.6666666666666666,\"#ed7953\"],[0.7777777777777778,\"#fb9f3a\"],[0.8888888888888888,\"#fdca26\"],[1.0,\"#f0f921\"]]}],\"heatmap\":[{\"type\":\"heatmap\",\"colorbar\":{\"outlinewidth\":0,\"ticks\":\"\"},\"colorscale\":[[0.0,\"#0d0887\"],[0.1111111111111111,\"#46039f\"],[0.2222222222222222,\"#7201a8\"],[0.3333333333333333,\"#9c179e\"],[0.4444444444444444,\"#bd3786\"],[0.5555555555555556,\"#d8576b\"],[0.6666666666666666,\"#ed7953\"],[0.7777777777777778,\"#fb9f3a\"],[0.8888888888888888,\"#fdca26\"],[1.0,\"#f0f921\"]]}],\"heatmapgl\":[{\"type\":\"heatmapgl\",\"colorbar\":{\"outlinewidth\":0,\"ticks\":\"\"},\"colorscale\":[[0.0,\"#0d0887\"],[0.1111111111111111,\"#46039f\"],[0.2222222222222222,\"#7201a8\"],[0.3333333333333333,\"#9c179e\"],[0.4444444444444444,\"#bd3786\"],[0.5555555555555556,\"#d8576b\"],[0.6666666666666666,\"#ed7953\"],[0.7777777777777778,\"#fb9f3a\"],[0.8888888888888888,\"#fdca26\"],[1.0,\"#f0f921\"]]}],\"contourcarpet\":[{\"type\":\"contourcarpet\",\"colorbar\":{\"outlinewidth\":0,\"ticks\":\"\"}}],\"contour\":[{\"type\":\"contour\",\"colorbar\":{\"outlinewidth\":0,\"ticks\":\"\"},\"colorscale\":[[0.0,\"#0d0887\"],[0.1111111111111111,\"#46039f\"],[0.2222222222222222,\"#7201a8\"],[0.3333333333333333,\"#9c179e\"],[0.4444444444444444,\"#bd3786\"],[0.5555555555555556,\"#d8576b\"],[0.6666666666666666,\"#ed7953\"],[0.7777777777777778,\"#fb9f3a\"],[0.8888888888888888,\"#fdca26\"],[1.0,\"#f0f921\"]]}],\"surface\":[{\"type\":\"surface\",\"colorbar\":{\"outlinewidth\":0,\"ticks\":\"\"},\"colorscale\":[[0.0,\"#0d0887\"],[0.1111111111111111,\"#46039f\"],[0.2222222222222222,\"#7201a8\"],[0.3333333333333333,\"#9c179e\"],[0.4444444444444444,\"#bd3786\"],[0.5555555555555556,\"#d8576b\"],[0.6666666666666666,\"#ed7953\"],[0.7777777777777778,\"#fb9f3a\"],[0.8888888888888888,\"#fdca26\"],[1.0,\"#f0f921\"]]}],\"mesh3d\":[{\"type\":\"mesh3d\",\"colorbar\":{\"outlinewidth\":0,\"ticks\":\"\"}}],\"scatter\":[{\"fillpattern\":{\"fillmode\":\"overlay\",\"size\":10,\"solidity\":0.2},\"type\":\"scatter\"}],\"parcoords\":[{\"type\":\"parcoords\",\"line\":{\"colorbar\":{\"outlinewidth\":0,\"ticks\":\"\"}}}],\"scatterpolargl\":[{\"type\":\"scatterpolargl\",\"marker\":{\"colorbar\":{\"outlinewidth\":0,\"ticks\":\"\"}}}],\"bar\":[{\"error_x\":{\"color\":\"#2a3f5f\"},\"error_y\":{\"color\":\"#2a3f5f\"},\"marker\":{\"line\":{\"color\":\"#E5ECF6\",\"width\":0.5},\"pattern\":{\"fillmode\":\"overlay\",\"size\":10,\"solidity\":0.2}},\"type\":\"bar\"}],\"scattergeo\":[{\"type\":\"scattergeo\",\"marker\":{\"colorbar\":{\"outlinewidth\":0,\"ticks\":\"\"}}}],\"scatterpolar\":[{\"type\":\"scatterpolar\",\"marker\":{\"colorbar\":{\"outlinewidth\":0,\"ticks\":\"\"}}}],\"histogram\":[{\"marker\":{\"pattern\":{\"fillmode\":\"overlay\",\"size\":10,\"solidity\":0.2}},\"type\":\"histogram\"}],\"scattergl\":[{\"type\":\"scattergl\",\"marker\":{\"colorbar\":{\"outlinewidth\":0,\"ticks\":\"\"}}}],\"scatter3d\":[{\"type\":\"scatter3d\",\"line\":{\"colorbar\":{\"outlinewidth\":0,\"ticks\":\"\"}},\"marker\":{\"colorbar\":{\"outlinewidth\":0,\"ticks\":\"\"}}}],\"scattermapbox\":[{\"type\":\"scattermapbox\",\"marker\":{\"colorbar\":{\"outlinewidth\":0,\"ticks\":\"\"}}}],\"scatterternary\":[{\"type\":\"scatterternary\",\"marker\":{\"colorbar\":{\"outlinewidth\":0,\"ticks\":\"\"}}}],\"scattercarpet\":[{\"type\":\"scattercarpet\",\"marker\":{\"colorbar\":{\"outlinewidth\":0,\"ticks\":\"\"}}}],\"carpet\":[{\"aaxis\":{\"endlinecolor\":\"#2a3f5f\",\"gridcolor\":\"white\",\"linecolor\":\"white\",\"minorgridcolor\":\"white\",\"startlinecolor\":\"#2a3f5f\"},\"baxis\":{\"endlinecolor\":\"#2a3f5f\",\"gridcolor\":\"white\",\"linecolor\":\"white\",\"minorgridcolor\":\"white\",\"startlinecolor\":\"#2a3f5f\"},\"type\":\"carpet\"}],\"table\":[{\"cells\":{\"fill\":{\"color\":\"#EBF0F8\"},\"line\":{\"color\":\"white\"}},\"header\":{\"fill\":{\"color\":\"#C8D4E3\"},\"line\":{\"color\":\"white\"}},\"type\":\"table\"}],\"barpolar\":[{\"marker\":{\"line\":{\"color\":\"#E5ECF6\",\"width\":0.5},\"pattern\":{\"fillmode\":\"overlay\",\"size\":10,\"solidity\":0.2}},\"type\":\"barpolar\"}],\"pie\":[{\"automargin\":true,\"type\":\"pie\"}]},\"layout\":{\"autotypenumbers\":\"strict\",\"colorway\":[\"#636efa\",\"#EF553B\",\"#00cc96\",\"#ab63fa\",\"#FFA15A\",\"#19d3f3\",\"#FF6692\",\"#B6E880\",\"#FF97FF\",\"#FECB52\"],\"font\":{\"color\":\"#2a3f5f\"},\"hovermode\":\"closest\",\"hoverlabel\":{\"align\":\"left\"},\"paper_bgcolor\":\"white\",\"plot_bgcolor\":\"#E5ECF6\",\"polar\":{\"bgcolor\":\"#E5ECF6\",\"angularaxis\":{\"gridcolor\":\"white\",\"linecolor\":\"white\",\"ticks\":\"\"},\"radialaxis\":{\"gridcolor\":\"white\",\"linecolor\":\"white\",\"ticks\":\"\"}},\"ternary\":{\"bgcolor\":\"#E5ECF6\",\"aaxis\":{\"gridcolor\":\"white\",\"linecolor\":\"white\",\"ticks\":\"\"},\"baxis\":{\"gridcolor\":\"white\",\"linecolor\":\"white\",\"ticks\":\"\"},\"caxis\":{\"gridcolor\":\"white\",\"linecolor\":\"white\",\"ticks\":\"\"}},\"coloraxis\":{\"colorbar\":{\"outlinewidth\":0,\"ticks\":\"\"}},\"colorscale\":{\"sequential\":[[0.0,\"#0d0887\"],[0.1111111111111111,\"#46039f\"],[0.2222222222222222,\"#7201a8\"],[0.3333333333333333,\"#9c179e\"],[0.4444444444444444,\"#bd3786\"],[0.5555555555555556,\"#d8576b\"],[0.6666666666666666,\"#ed7953\"],[0.7777777777777778,\"#fb9f3a\"],[0.8888888888888888,\"#fdca26\"],[1.0,\"#f0f921\"]],\"sequentialminus\":[[0.0,\"#0d0887\"],[0.1111111111111111,\"#46039f\"],[0.2222222222222222,\"#7201a8\"],[0.3333333333333333,\"#9c179e\"],[0.4444444444444444,\"#bd3786\"],[0.5555555555555556,\"#d8576b\"],[0.6666666666666666,\"#ed7953\"],[0.7777777777777778,\"#fb9f3a\"],[0.8888888888888888,\"#fdca26\"],[1.0,\"#f0f921\"]],\"diverging\":[[0,\"#8e0152\"],[0.1,\"#c51b7d\"],[0.2,\"#de77ae\"],[0.3,\"#f1b6da\"],[0.4,\"#fde0ef\"],[0.5,\"#f7f7f7\"],[0.6,\"#e6f5d0\"],[0.7,\"#b8e186\"],[0.8,\"#7fbc41\"],[0.9,\"#4d9221\"],[1,\"#276419\"]]},\"xaxis\":{\"gridcolor\":\"white\",\"linecolor\":\"white\",\"ticks\":\"\",\"title\":{\"standoff\":15},\"zerolinecolor\":\"white\",\"automargin\":true,\"zerolinewidth\":2},\"yaxis\":{\"gridcolor\":\"white\",\"linecolor\":\"white\",\"ticks\":\"\",\"title\":{\"standoff\":15},\"zerolinecolor\":\"white\",\"automargin\":true,\"zerolinewidth\":2},\"scene\":{\"xaxis\":{\"backgroundcolor\":\"#E5ECF6\",\"gridcolor\":\"white\",\"linecolor\":\"white\",\"showbackground\":true,\"ticks\":\"\",\"zerolinecolor\":\"white\",\"gridwidth\":2},\"yaxis\":{\"backgroundcolor\":\"#E5ECF6\",\"gridcolor\":\"white\",\"linecolor\":\"white\",\"showbackground\":true,\"ticks\":\"\",\"zerolinecolor\":\"white\",\"gridwidth\":2},\"zaxis\":{\"backgroundcolor\":\"#E5ECF6\",\"gridcolor\":\"white\",\"linecolor\":\"white\",\"showbackground\":true,\"ticks\":\"\",\"zerolinecolor\":\"white\",\"gridwidth\":2}},\"shapedefaults\":{\"line\":{\"color\":\"#2a3f5f\"}},\"annotationdefaults\":{\"arrowcolor\":\"#2a3f5f\",\"arrowhead\":0,\"arrowwidth\":1},\"geo\":{\"bgcolor\":\"white\",\"landcolor\":\"#E5ECF6\",\"subunitcolor\":\"white\",\"showland\":true,\"showlakes\":true,\"lakecolor\":\"white\"},\"title\":{\"x\":0.05},\"mapbox\":{\"style\":\"light\"}}},\"xaxis\":{\"anchor\":\"y\",\"domain\":[0.0,1.0],\"title\":{\"text\":\"Campaign Description\"}},\"yaxis\":{\"anchor\":\"x\",\"domain\":[0.0,1.0],\"title\":{\"text\":\"Number of Coupons Redeemed\"}},\"legend\":{\"title\":{\"text\":\"Coupon Type\"},\"tracegroupgap\":0},\"title\":{\"text\":\"Campaign Type-wise Redemption of Coupons (Including Zeros)\"},\"barmode\":\"stack\"},                        {\"responsive\": true}                    ).then(function(){\n",
       "                            \n",
       "var gd = document.getElementById('8ad4e347-338a-4f0c-bb6e-d8fdb7b108ac');\n",
       "var x = new MutationObserver(function (mutations, observer) {{\n",
       "        var display = window.getComputedStyle(gd).display;\n",
       "        if (!display || display === 'none') {{\n",
       "            console.log([gd, 'removed!']);\n",
       "            Plotly.purge(gd);\n",
       "            observer.disconnect();\n",
       "        }}\n",
       "}});\n",
       "\n",
       "// Listen for the removal of the full notebook cells\n",
       "var notebookContainer = gd.closest('#notebook-container');\n",
       "if (notebookContainer) {{\n",
       "    x.observe(notebookContainer, {childList: true});\n",
       "}}\n",
       "\n",
       "// Listen for the clearing of the current output cell\n",
       "var outputEl = gd.closest('.output');\n",
       "if (outputEl) {{\n",
       "    x.observe(outputEl, {childList: true});\n",
       "}}\n",
       "\n",
       "                        })                };                });            </script>        </div>"
      ]
     },
     "metadata": {},
     "output_type": "display_data"
    }
   ],
   "source": [
    "# Filter the data to include only redeemed coupons\n",
    "df_redeemed = df[df['discount_availed'] == 'redeemed']\n",
    "\n",
    "# Group data by Campaign Description (DESCRIPTION) and Coupon Type (redemption_type) \n",
    "# to count the number of coupons redeemed per campaign\n",
    "coupon_redemption = df_redeemed.groupby(['DESCRIPTION', 'redemption_type']).size().reset_index(name='Redemption Count')\n",
    "\n",
    "# Get all unique values of 'DESCRIPTION' and 'redemption_type'\n",
    "all_descriptions = df['DESCRIPTION'].unique()\n",
    "all_coupon_types = df['redemption_type'].unique()\n",
    "\n",
    "# Create a DataFrame with all combinations of DESCRIPTION and redemption_type\n",
    "all_combinations = pd.MultiIndex.from_product([all_descriptions, all_coupon_types], names=['DESCRIPTION', 'redemption_type']).to_frame(index=False)\n",
    "\n",
    "# Merge the actual data with the all_combinations DataFrame\n",
    "coupon_redemption_complete = pd.merge(all_combinations, coupon_redemption, on=['DESCRIPTION', 'redemption_type'], how='left')\n",
    "\n",
    "# Fill NaN values with 0 where there was no data (missing combinations will now have a count of 0)\n",
    "coupon_redemption_complete['Redemption Count'] = coupon_redemption_complete['Redemption Count'].fillna(0)\n",
    "\n",
    "# Create a stacked bar chart\n",
    "fig = px.bar(\n",
    "    coupon_redemption_complete, \n",
    "    x='DESCRIPTION', \n",
    "    y='Redemption Count', \n",
    "    color='redemption_type', \n",
    "    title='Campaign Type-wise Redemption of Coupons (Including Zeros)',\n",
    "    labels={'DESCRIPTION': 'Campaign Description', 'Redemption Count': 'Number of Coupons Redeemed', 'redemption_type': 'Coupon Type'},\n",
    "    text_auto=True  # Optional: Display values on the bars\n",
    ")\n",
    "\n",
    "# Customize the layout\n",
    "fig.update_layout(\n",
    "    barmode='stack',  # Stacked bars\n",
    "    xaxis_title='Campaign Description', \n",
    "    yaxis_title='Number of Coupons Redeemed'\n",
    ")\n",
    "\n",
    "# Show the figure\n",
    "fig.show()\n"
   ]
  },
  {
   "cell_type": "markdown",
   "id": "553dc43d-e8c9-4e7a-93c4-3ee66947eeaf",
   "metadata": {},
   "source": [
    "## Top 10 Product Categories Bought on Offer by Coupon Type"
   ]
  },
  {
   "cell_type": "markdown",
   "id": "f16ce4c5-0380-473d-a0be-f1bbda6d0502",
   "metadata": {},
   "source": [
    "### No PRIVATE LABEL"
   ]
  },
  {
   "cell_type": "code",
   "execution_count": 298,
   "id": "40ba65fa-7916-414b-ace0-d3a7e2f38922",
   "metadata": {},
   "outputs": [
    {
     "name": "stdout",
     "output_type": "stream",
     "text": [
      "Check the Input type..\n",
      "There is a match\n",
      " And Input is string type.\n",
      "Sending Message: {'text': 'Plotly.newPlot(                        @@b983d708-6a30-4a83-bf85-9da455f0f3fd@@,                        [{@@alignmentgroup@@:@@True@@,@@hovertemplate@@:@@Product Category=FRZN NOVELTIES\\\\u002fWTR ICE\\\\u003cbr\\\\u003eCoupon Type=%{x}\\\\u003cbr\\\\u003eHousehold Count=%{y}\\\\u003cextra\\\\u003e\\\\u003c\\\\u002fextra\\\\u003e@@,@@legendgroup@@:@@FRZN NOVELTIES\\\\u002fWTR ICE@@,@@marker@@:{@@color@@:@@#636efa@@,@@pattern@@:{@@shape@@:@@@@}},@@name@@:@@FRZN NOVELTIES\\\\u002fWTR ICE@@,@@offsetgroup@@:@@FRZN NOVELTIES\\\\u002fWTR ICE@@,@@orientation@@:@@v@@,@@showlegend@@:true,@@textposition@@:@@auto@@,@@texttemplate@@:@@%{y}@@,@@x@@:[@@campaign_coupons@@],@@xaxis@@:@@x@@,@@y@@:[2],@@yaxis@@:@@y@@,@@type@@:@@bar@@},{@@alignmentgroup@@:@@True@@,@@hovertemplate@@:@@Product Category=SOFT DRINKS\\\\u003cbr\\\\u003eCoupon Type=%{x}\\\\u003cbr\\\\u003eHousehold Count=%{y}\\\\u003cextra\\\\u003e\\\\u003c\\\\u002fextra\\\\u003e@@,@@legendgroup@@:@@SOFT DRINKS@@,@@marker@@:{@@color@@:@@#EF553B@@,@@pattern@@:{@@shape@@:@@@@}},@@name@@:@@SOFT DRINKS@@,@@offsetgroup@@:@@SOFT DRINKS@@,@@orientation@@:@@v@@,@@showlegend@@:true,@@textposition@@:@@auto@@,@@texttemplate@@:@@%{y}@@,@@x@@:[@@campaign_coupons@@],@@xaxis@@:@@x@@,@@y@@:[1],@@yaxis@@:@@y@@,@@type@@:@@bar@@},{@@alignmentgroup@@:@@True@@,@@hovertemplate@@:@@Product Category=BACON\\\\u003cbr\\\\u003eCoupon Type=%{x}\\\\u003cbr\\\\u003eHousehold Count=%{y}\\\\u003cextra\\\\u003e\\\\u003c\\\\u002fextra\\\\u003e@@,@@legendgroup@@:@@BACON@@,@@marker@@:{@@color@@:@@#00cc96@@,@@pattern@@:{@@shape@@:@@@@}},@@name@@:@@BACON@@,@@offsetgroup@@:@@BACON@@,@@orientation@@:@@v@@,@@showlegend@@:true,@@textposition@@:@@auto@@,@@texttemplate@@:@@%{y}@@,@@x@@:[@@instore_discount@@],@@xaxis@@:@@x@@,@@y@@:[3],@@yaxis@@:@@y@@,@@type@@:@@bar@@},{@@alignmentgroup@@:@@True@@,@@hovertemplate@@:@@Product Category=HEAT\\\\u002fSERVE\\\\u003cbr\\\\u003eCoupon Type=%{x}\\\\u003cbr\\\\u003eHousehold Count=%{y}\\\\u003cextra\\\\u003e\\\\u003c\\\\u002fextra\\\\u003e@@,@@legendgroup@@:@@HEAT\\\\u002fSERVE@@,@@marker@@:{@@color@@:@@#ab63fa@@,@@pattern@@:{@@shape@@:@@@@}},@@name@@:@@HEAT\\\\u002fSERVE@@,@@offsetgroup@@:@@HEAT\\\\u002fSERVE@@,@@orientation@@:@@v@@,@@showlegend@@:true,@@textposition@@:@@auto@@,@@texttemplate@@:@@%{y}@@,@@x@@:[@@instore_discount@@],@@xaxis@@:@@x@@,@@y@@:[3],@@yaxis@@:@@y@@,@@type@@:@@bar@@},{@@alignmentgroup@@:@@True@@,@@hovertemplate@@:@@Product Category=YOGURT\\\\u003cbr\\\\u003eCoupon Type=%{x}\\\\u003cbr\\\\u003eHousehold Count=%{y}\\\\u003cextra\\\\u003e\\\\u003c\\\\u002fextra\\\\u003e@@,@@legendgroup@@:@@YOGURT@@,@@marker@@:{@@color@@:@@#FFA15A@@,@@pattern@@:{@@shape@@:@@@@}},@@name@@:@@YOGURT@@,@@offsetgroup@@:@@YOGURT@@,@@orientation@@:@@v@@,@@showlegend@@:true,@@textposition@@:@@auto@@,@@texttemplate@@:@@%{y}@@,@@x@@:[@@instore_discount@@],@@xaxis@@:@@x@@,@@y@@:[3],@@yaxis@@:@@y@@,@@type@@:@@bar@@},{@@alignmentgroup@@:@@True@@,@@hovertemplate@@:@@Product Category=REFRGRATD DOUGH PRODUCTS\\\\u003cbr\\\\u003eCoupon Type=%{x}\\\\u003cbr\\\\u003eHousehold Count=%{y}\\\\u003cextra\\\\u003e\\\\u003c\\\\u002fextra\\\\u003e@@,@@legendgroup@@:@@REFRGRATD DOUGH PRODUCTS@@,@@marker@@:{@@color@@:@@#19d3f3@@,@@pattern@@:{@@shape@@:@@@@}},@@name@@:@@REFRGRATD DOUGH PRODUCTS@@,@@offsetgroup@@:@@REFRGRATD DOUGH PRODUCTS@@,@@orientation@@:@@v@@,@@showlegend@@:true,@@textposition@@:@@auto@@,@@texttemplate@@:@@%{y}@@,@@x@@:[@@instore_discount@@],@@xaxis@@:@@x@@,@@y@@:[2],@@yaxis@@:@@y@@,@@type@@:@@bar@@},{@@alignmentgroup@@:@@True@@,@@hovertemplate@@:@@Product Category=SALD DRSNG\\\\u002fSNDWCH SPRD\\\\u003cbr\\\\u003eCoupon Type=%{x}\\\\u003cbr\\\\u003eHousehold Count=%{y}\\\\u003cextra\\\\u003e\\\\u003c\\\\u002fextra\\\\u003e@@,@@legendgroup@@:@@SALD DRSNG\\\\u002fSNDWCH SPRD@@,@@marker@@:{@@color@@:@@#FF6692@@,@@pattern@@:{@@shape@@:@@@@}},@@name@@:@@SALD DRSNG\\\\u002fSNDWCH SPRD@@,@@offsetgroup@@:@@SALD DRSNG\\\\u002fSNDWCH SPRD@@,@@orientation@@:@@v@@,@@showlegend@@:true,@@textposition@@:@@auto@@,@@texttemplate@@:@@%{y}@@,@@x@@:[@@instore_discount@@],@@xaxis@@:@@x@@,@@y@@:[1],@@yaxis@@:@@y@@,@@type@@:@@bar@@}],                        {@@barmode@@:@@stack@@,@@legend@@:{@@title@@:{@@text@@:@@Product Category@@},@@tracegroupgap@@:0},@@template@@:{@@data@@:{@@barpolar@@:[{@@marker@@:{@@line@@:{@@color@@:@@#E5ECF6@@,@@width@@:0.5},@@pattern@@:{@@fillmode@@:@@overlay@@,@@size@@:10,@@solidity@@:0.2}},@@type@@:@@barpolar@@}],@@bar@@:[{@@error_x@@:{@@color@@:@@#2a3f5f@@},@@error_y@@:{@@color@@:@@#2a3f5f@@},@@marker@@:{@@line@@:{@@color@@:@@#E5ECF6@@,@@width@@:0.5},@@pattern@@:{@@fillmode@@:@@overlay@@,@@size@@:10,@@solidity@@:0.2}},@@type@@:@@bar@@}],@@carpet@@:[{@@aaxis@@:{@@endlinecolor@@:@@#2a3f5f@@,@@gridcolor@@:@@white@@,@@linecolor@@:@@white@@,@@minorgridcolor@@:@@white@@,@@startlinecolor@@:@@#2a3f5f@@},@@baxis@@:{@@endlinecolor@@:@@#2a3f5f@@,@@gridcolor@@:@@white@@,@@linecolor@@:@@white@@,@@minorgridcolor@@:@@white@@,@@startlinecolor@@:@@#2a3f5f@@},@@type@@:@@carpet@@}],@@choropleth@@:[{@@colorbar@@:{@@outlinewidth@@:0,@@ticks@@:@@@@},@@type@@:@@choropleth@@}],@@contourcarpet@@:[{@@colorbar@@:{@@outlinewidth@@:0,@@ticks@@:@@@@},@@type@@:@@contourcarpet@@}],@@contour@@:[{@@colorbar@@:{@@outlinewidth@@:0,@@ticks@@:@@@@},@@colorscale@@:[[0.0,@@#0d0887@@],[0.1111111111111111,@@#46039f@@],[0.2222222222222222,@@#7201a8@@],[0.3333333333333333,@@#9c179e@@],[0.4444444444444444,@@#bd3786@@],[0.5555555555555556,@@#d8576b@@],[0.6666666666666666,@@#ed7953@@],[0.7777777777777778,@@#fb9f3a@@],[0.8888888888888888,@@#fdca26@@],[1.0,@@#f0f921@@]],@@type@@:@@contour@@}],@@heatmapgl@@:[{@@colorbar@@:{@@outlinewidth@@:0,@@ticks@@:@@@@},@@colorscale@@:[[0.0,@@#0d0887@@],[0.1111111111111111,@@#46039f@@],[0.2222222222222222,@@#7201a8@@],[0.3333333333333333,@@#9c179e@@],[0.4444444444444444,@@#bd3786@@],[0.5555555555555556,@@#d8576b@@],[0.6666666666666666,@@#ed7953@@],[0.7777777777777778,@@#fb9f3a@@],[0.8888888888888888,@@#fdca26@@],[1.0,@@#f0f921@@]],@@type@@:@@heatmapgl@@}],@@heatmap@@:[{@@colorbar@@:{@@outlinewidth@@:0,@@ticks@@:@@@@},@@colorscale@@:[[0.0,@@#0d0887@@],[0.1111111111111111,@@#46039f@@],[0.2222222222222222,@@#7201a8@@],[0.3333333333333333,@@#9c179e@@],[0.4444444444444444,@@#bd3786@@],[0.5555555555555556,@@#d8576b@@],[0.6666666666666666,@@#ed7953@@],[0.7777777777777778,@@#fb9f3a@@],[0.8888888888888888,@@#fdca26@@],[1.0,@@#f0f921@@]],@@type@@:@@heatmap@@}],@@histogram2dcontour@@:[{@@colorbar@@:{@@outlinewidth@@:0,@@ticks@@:@@@@},@@colorscale@@:[[0.0,@@#0d0887@@],[0.1111111111111111,@@#46039f@@],[0.2222222222222222,@@#7201a8@@],[0.3333333333333333,@@#9c179e@@],[0.4444444444444444,@@#bd3786@@],[0.5555555555555556,@@#d8576b@@],[0.6666666666666666,@@#ed7953@@],[0.7777777777777778,@@#fb9f3a@@],[0.8888888888888888,@@#fdca26@@],[1.0,@@#f0f921@@]],@@type@@:@@histogram2dcontour@@}],@@histogram2d@@:[{@@colorbar@@:{@@outlinewidth@@:0,@@ticks@@:@@@@},@@colorscale@@:[[0.0,@@#0d0887@@],[0.1111111111111111,@@#46039f@@],[0.2222222222222222,@@#7201a8@@],[0.3333333333333333,@@#9c179e@@],[0.4444444444444444,@@#bd3786@@],[0.5555555555555556,@@#d8576b@@],[0.6666666666666666,@@#ed7953@@],[0.7777777777777778,@@#fb9f3a@@],[0.8888888888888888,@@#fdca26@@],[1.0,@@#f0f921@@]],@@type@@:@@histogram2d@@}],@@histogram@@:[{@@marker@@:{@@pattern@@:{@@fillmode@@:@@overlay@@,@@size@@:10,@@solidity@@:0.2}},@@type@@:@@histogram@@}],@@mesh3d@@:[{@@colorbar@@:{@@outlinewidth@@:0,@@ticks@@:@@@@},@@type@@:@@mesh3d@@}],@@parcoords@@:[{@@line@@:{@@colorbar@@:{@@outlinewidth@@:0,@@ticks@@:@@@@}},@@type@@:@@parcoords@@}],@@pie@@:[{@@automargin@@:true,@@type@@:@@pie@@}],@@scatter3d@@:[{@@line@@:{@@colorbar@@:{@@outlinewidth@@:0,@@ticks@@:@@@@}},@@marker@@:{@@colorbar@@:{@@outlinewidth@@:0,@@ticks@@:@@@@}},@@type@@:@@scatter3d@@}],@@scattercarpet@@:[{@@marker@@:{@@colorbar@@:{@@outlinewidth@@:0,@@ticks@@:@@@@}},@@type@@:@@scattercarpet@@}],@@scattergeo@@:[{@@marker@@:{@@colorbar@@:{@@outlinewidth@@:0,@@ticks@@:@@@@}},@@type@@:@@scattergeo@@}],@@scattergl@@:[{@@marker@@:{@@colorbar@@:{@@outlinewidth@@:0,@@ticks@@:@@@@}},@@type@@:@@scattergl@@}],@@scattermapbox@@:[{@@marker@@:{@@colorbar@@:{@@outlinewidth@@:0,@@ticks@@:@@@@}},@@type@@:@@scattermapbox@@}],@@scatterpolargl@@:[{@@marker@@:{@@colorbar@@:{@@outlinewidth@@:0,@@ticks@@:@@@@}},@@type@@:@@scatterpolargl@@}],@@scatterpolar@@:[{@@marker@@:{@@colorbar@@:{@@outlinewidth@@:0,@@ticks@@:@@@@}},@@type@@:@@scatterpolar@@}],@@scatter@@:[{@@fillpattern@@:{@@fillmode@@:@@overlay@@,@@size@@:10,@@solidity@@:0.2},@@type@@:@@scatter@@}],@@scatterternary@@:[{@@marker@@:{@@colorbar@@:{@@outlinewidth@@:0,@@ticks@@:@@@@}},@@type@@:@@scatterternary@@}],@@surface@@:[{@@colorbar@@:{@@outlinewidth@@:0,@@ticks@@:@@@@},@@colorscale@@:[[0.0,@@#0d0887@@],[0.1111111111111111,@@#46039f@@],[0.2222222222222222,@@#7201a8@@],[0.3333333333333333,@@#9c179e@@],[0.4444444444444444,@@#bd3786@@],[0.5555555555555556,@@#d8576b@@],[0.6666666666666666,@@#ed7953@@],[0.7777777777777778,@@#fb9f3a@@],[0.8888888888888888,@@#fdca26@@],[1.0,@@#f0f921@@]],@@type@@:@@surface@@}],@@table@@:[{@@cells@@:{@@fill@@:{@@color@@:@@#EBF0F8@@},@@line@@:{@@color@@:@@white@@}},@@header@@:{@@fill@@:{@@color@@:@@#C8D4E3@@},@@line@@:{@@color@@:@@white@@}},@@type@@:@@table@@}]},@@layout@@:{@@annotationdefaults@@:{@@arrowcolor@@:@@#2a3f5f@@,@@arrowhead@@:0,@@arrowwidth@@:1},@@autotypenumbers@@:@@strict@@,@@coloraxis@@:{@@colorbar@@:{@@outlinewidth@@:0,@@ticks@@:@@@@}},@@colorscale@@:{@@diverging@@:[[0,@@#8e0152@@],[0.1,@@#c51b7d@@],[0.2,@@#de77ae@@],[0.3,@@#f1b6da@@],[0.4,@@#fde0ef@@],[0.5,@@#f7f7f7@@],[0.6,@@#e6f5d0@@],[0.7,@@#b8e186@@],[0.8,@@#7fbc41@@],[0.9,@@#4d9221@@],[1,@@#276419@@]],@@sequential@@:[[0.0,@@#0d0887@@],[0.1111111111111111,@@#46039f@@],[0.2222222222222222,@@#7201a8@@],[0.3333333333333333,@@#9c179e@@],[0.4444444444444444,@@#bd3786@@],[0.5555555555555556,@@#d8576b@@],[0.6666666666666666,@@#ed7953@@],[0.7777777777777778,@@#fb9f3a@@],[0.8888888888888888,@@#fdca26@@],[1.0,@@#f0f921@@]],@@sequentialminus@@:[[0.0,@@#0d0887@@],[0.1111111111111111,@@#46039f@@],[0.2222222222222222,@@#7201a8@@],[0.3333333333333333,@@#9c179e@@],[0.4444444444444444,@@#bd3786@@],[0.5555555555555556,@@#d8576b@@],[0.6666666666666666,@@#ed7953@@],[0.7777777777777778,@@#fb9f3a@@],[0.8888888888888888,@@#fdca26@@],[1.0,@@#f0f921@@]]},@@colorway@@:[@@#636efa@@,@@#EF553B@@,@@#00cc96@@,@@#ab63fa@@,@@#FFA15A@@,@@#19d3f3@@,@@#FF6692@@,@@#B6E880@@,@@#FF97FF@@,@@#FECB52@@],@@font@@:{@@color@@:@@#2a3f5f@@},@@geo@@:{@@bgcolor@@:@@white@@,@@lakecolor@@:@@white@@,@@landcolor@@:@@#E5ECF6@@,@@showlakes@@:true,@@showland@@:true,@@subunitcolor@@:@@white@@},@@hoverlabel@@:{@@align@@:@@left@@},@@hovermode@@:@@closest@@,@@mapbox@@:{@@style@@:@@light@@},@@paper_bgcolor@@:@@white@@,@@plot_bgcolor@@:@@#E5ECF6@@,@@polar@@:{@@angularaxis@@:{@@gridcolor@@:@@white@@,@@linecolor@@:@@white@@,@@ticks@@:@@@@},@@bgcolor@@:@@#E5ECF6@@,@@radialaxis@@:{@@gridcolor@@:@@white@@,@@linecolor@@:@@white@@,@@ticks@@:@@@@}},@@scene@@:{@@xaxis@@:{@@backgroundcolor@@:@@#E5ECF6@@,@@gridcolor@@:@@white@@,@@gridwidth@@:2,@@linecolor@@:@@white@@,@@showbackground@@:true,@@ticks@@:@@@@,@@zerolinecolor@@:@@white@@},@@yaxis@@:{@@backgroundcolor@@:@@#E5ECF6@@,@@gridcolor@@:@@white@@,@@gridwidth@@:2,@@linecolor@@:@@white@@,@@showbackground@@:true,@@ticks@@:@@@@,@@zerolinecolor@@:@@white@@},@@zaxis@@:{@@backgroundcolor@@:@@#E5ECF6@@,@@gridcolor@@:@@white@@,@@gridwidth@@:2,@@linecolor@@:@@white@@,@@showbackground@@:true,@@ticks@@:@@@@,@@zerolinecolor@@:@@white@@}},@@shapedefaults@@:{@@line@@:{@@color@@:@@#2a3f5f@@}},@@ternary@@:{@@aaxis@@:{@@gridcolor@@:@@white@@,@@linecolor@@:@@white@@,@@ticks@@:@@@@},@@baxis@@:{@@gridcolor@@:@@white@@,@@linecolor@@:@@white@@,@@ticks@@:@@@@},@@bgcolor@@:@@#E5ECF6@@,@@caxis@@:{@@gridcolor@@:@@white@@,@@linecolor@@:@@white@@,@@ticks@@:@@@@}},@@title@@:{@@x@@:0.05},@@xaxis@@:{@@automargin@@:true,@@gridcolor@@:@@white@@,@@linecolor@@:@@white@@,@@ticks@@:@@@@,@@title@@:{@@standoff@@:15},@@zerolinecolor@@:@@white@@,@@zerolinewidth@@:2},@@yaxis@@:{@@automargin@@:true,@@gridcolor@@:@@white@@,@@linecolor@@:@@white@@,@@ticks@@:@@@@,@@title@@:{@@standoff@@:15},@@zerolinecolor@@:@@white@@,@@zerolinewidth@@:2}}},@@title@@:{@@text@@:@@Top 10 Product Categories Bought on Offer by Coupon Type@@},@@xaxis@@:{@@anchor@@:@@y@@,@@domain@@:[0.0,1.0],@@title@@:{@@text@@:@@Coupon Type@@}},@@yaxis@@:{@@anchor@@:@@x@@,@@domain@@:[0.0,1.0],@@title@@:{@@text@@:@@Household Count@@}}},                        {@@responsive@@: true}                    )', 'id': 9, 'name': 'Top 10 Product Categories Bought on Offer by Coupon Type', 'title': 'Top 10 Product Categories Bought on Offer by Coupon Type', 'type': 'plotly', 'resultType': 3, 'visibility': 'EXPANDED', 'time': 'Aug 05, 2025 07:52:10 PM'}\n",
      "Not sending message to fire_notebook server as the post back URL is not http\n"
     ]
    },
    {
     "name": "stderr",
     "output_type": "stream",
     "text": [
      "C:\\Users\\NMBR-1XNW4N3\\AppData\\Local\\Temp\\ipykernel_17596\\1769611429.py:8: DeprecationWarning:\n",
      "\n",
      "DataFrameGroupBy.apply operated on the grouping columns. This behavior is deprecated, and in a future version of pandas the grouping columns will be excluded from the operation. Either pass `include_groups=False` to exclude the groupings or explicitly select the grouping columns after groupby to silence this warning.\n",
      "\n"
     ]
    }
   ],
   "source": [
    "# Filter the data to include only redeemed coupons\n",
    "df_redeemed = df[df['discount_availed'] == 'redeemed']\n",
    "\n",
    "# Group by coupon type (redemption_type) and product category (COMMODITY_DESC)\n",
    "category_counts = df_redeemed.groupby(['redemption_type', 'COMMODITY_DESC']).size().reset_index(name='Household Count')\n",
    "\n",
    "# Sort by the count of purchases and get the top 10 product categories per coupon type\n",
    "top_10_categories = category_counts.groupby('redemption_type').apply(lambda x: x.nlargest(10, 'Household Count')).reset_index(drop=True)\n",
    "\n",
    "# Create a stacked bar chart similar to the one in your image\n",
    "fig = px.bar(\n",
    "    top_10_categories, \n",
    "    x='redemption_type', \n",
    "    y='Household Count', \n",
    "    color='COMMODITY_DESC', \n",
    "    title='Top 10 Product Categories Bought on Offer by Coupon Type',\n",
    "    labels={'redemption_type': 'Coupon Type', 'Household Count': 'Household Count', 'COMMODITY_DESC': 'Product Category'},\n",
    "    text_auto=True\n",
    ")\n",
    "\n",
    "fig.update_layout(\n",
    "    barmode='stack',\n",
    "    xaxis_title='Coupon Type', \n",
    "    yaxis_title='Household Count',\n",
    "    legend_title_text='Product Category'\n",
    ")\n",
    "\n",
    "test = plotly.offline.plot(fig, output_type='div', include_plotlyjs=False)\n",
    "example_plotly = f'{test}'\n",
    "restworkflowcontext.outPlotly(9, title=\"Top 10 Product Categories Bought on Offer by Coupon Type\", text=example_plotly)\n",
    "\n",
    "# Show the figure\n",
    "# fig.show()\n"
   ]
  },
  {
   "cell_type": "code",
   "execution_count": 299,
   "id": "065af8b7-d3c0-4027-a5a3-31c4217e8b17",
   "metadata": {
    "scrolled": true
   },
   "outputs": [
    {
     "name": "stdout",
     "output_type": "stream",
     "text": [
      "Check the Input type..\n",
      "There is a match\n",
      " And Input is string type.\n",
      "Sending Message: {'text': 'Plotly.newPlot(                        @@50b07fd8-a32f-4e9f-8fa3-9f8d386c88c1@@,                        [{@@alignmentgroup@@:@@True@@,@@hovertemplate@@:@@Product Category=BACON\\\\u003cbr\\\\u003eCampaign Type=%{x}\\\\u003cbr\\\\u003eNumber of Households=%{y}\\\\u003cextra\\\\u003e\\\\u003c\\\\u002fextra\\\\u003e@@,@@legendgroup@@:@@BACON@@,@@marker@@:{@@color@@:@@#636efa@@,@@pattern@@:{@@shape@@:@@@@}},@@name@@:@@BACON@@,@@offsetgroup@@:@@BACON@@,@@orientation@@:@@v@@,@@showlegend@@:true,@@textposition@@:@@auto@@,@@texttemplate@@:@@%{y}@@,@@x@@:[@@TypeB@@,@@TypeB@@,@@TypeB@@,@@TypeB@@,@@TypeC@@,@@TypeC@@,@@TypeC@@,@@TypeC@@,@@TypeA@@,@@TypeA@@,@@TypeA@@,@@TypeA@@],@@xaxis@@:@@x@@,@@y@@:[0.0,0.0,0.0,0.0,0.0,0.0,0.0,0.0,0.0,0.0,3.0,0.0],@@yaxis@@:@@y@@,@@type@@:@@bar@@},{@@alignmentgroup@@:@@True@@,@@hovertemplate@@:@@Product Category=HEAT\\\\u002fSERVE\\\\u003cbr\\\\u003eCampaign Type=%{x}\\\\u003cbr\\\\u003eNumber of Households=%{y}\\\\u003cextra\\\\u003e\\\\u003c\\\\u002fextra\\\\u003e@@,@@legendgroup@@:@@HEAT\\\\u002fSERVE@@,@@marker@@:{@@color@@:@@#EF553B@@,@@pattern@@:{@@shape@@:@@@@}},@@name@@:@@HEAT\\\\u002fSERVE@@,@@offsetgroup@@:@@HEAT\\\\u002fSERVE@@,@@orientation@@:@@v@@,@@showlegend@@:true,@@textposition@@:@@auto@@,@@texttemplate@@:@@%{y}@@,@@x@@:[@@TypeB@@,@@TypeB@@,@@TypeB@@,@@TypeB@@,@@TypeC@@,@@TypeC@@,@@TypeC@@,@@TypeC@@,@@TypeA@@,@@TypeA@@,@@TypeA@@,@@TypeA@@],@@xaxis@@:@@x@@,@@y@@:[0.0,0.0,0.0,0.0,0.0,0.0,0.0,0.0,0.0,0.0,3.0,0.0],@@yaxis@@:@@y@@,@@type@@:@@bar@@},{@@alignmentgroup@@:@@True@@,@@hovertemplate@@:@@Product Category=YOGURT\\\\u003cbr\\\\u003eCampaign Type=%{x}\\\\u003cbr\\\\u003eNumber of Households=%{y}\\\\u003cextra\\\\u003e\\\\u003c\\\\u002fextra\\\\u003e@@,@@legendgroup@@:@@YOGURT@@,@@marker@@:{@@color@@:@@#00cc96@@,@@pattern@@:{@@shape@@:@@@@}},@@name@@:@@YOGURT@@,@@offsetgroup@@:@@YOGURT@@,@@orientation@@:@@v@@,@@showlegend@@:true,@@textposition@@:@@auto@@,@@texttemplate@@:@@%{y}@@,@@x@@:[@@TypeB@@,@@TypeB@@,@@TypeB@@,@@TypeB@@,@@TypeC@@,@@TypeC@@,@@TypeC@@,@@TypeC@@,@@TypeA@@,@@TypeA@@,@@TypeA@@,@@TypeA@@],@@xaxis@@:@@x@@,@@y@@:[0.0,0.0,0.0,0.0,0.0,0.0,0.0,0.0,0.0,0.0,3.0,0.0],@@yaxis@@:@@y@@,@@type@@:@@bar@@},{@@alignmentgroup@@:@@True@@,@@hovertemplate@@:@@Product Category=FRZN NOVELTIES\\\\u002fWTR ICE\\\\u003cbr\\\\u003eCampaign Type=%{x}\\\\u003cbr\\\\u003eNumber of Households=%{y}\\\\u003cextra\\\\u003e\\\\u003c\\\\u002fextra\\\\u003e@@,@@legendgroup@@:@@FRZN NOVELTIES\\\\u002fWTR ICE@@,@@marker@@:{@@color@@:@@#ab63fa@@,@@pattern@@:{@@shape@@:@@@@}},@@name@@:@@FRZN NOVELTIES\\\\u002fWTR ICE@@,@@offsetgroup@@:@@FRZN NOVELTIES\\\\u002fWTR ICE@@,@@orientation@@:@@v@@,@@showlegend@@:true,@@textposition@@:@@auto@@,@@texttemplate@@:@@%{y}@@,@@x@@:[@@TypeB@@,@@TypeB@@,@@TypeB@@,@@TypeB@@,@@TypeC@@,@@TypeC@@,@@TypeC@@,@@TypeC@@,@@TypeA@@,@@TypeA@@,@@TypeA@@,@@TypeA@@],@@xaxis@@:@@x@@,@@y@@:[0.0,0.0,0.0,0.0,0.0,0.0,0.0,0.0,0.0,0.0,0.0,2.0],@@yaxis@@:@@y@@,@@type@@:@@bar@@},{@@alignmentgroup@@:@@True@@,@@hovertemplate@@:@@Product Category=REFRGRATD DOUGH PRODUCTS\\\\u003cbr\\\\u003eCampaign Type=%{x}\\\\u003cbr\\\\u003eNumber of Households=%{y}\\\\u003cextra\\\\u003e\\\\u003c\\\\u002fextra\\\\u003e@@,@@legendgroup@@:@@REFRGRATD DOUGH PRODUCTS@@,@@marker@@:{@@color@@:@@#FFA15A@@,@@pattern@@:{@@shape@@:@@@@}},@@name@@:@@REFRGRATD DOUGH PRODUCTS@@,@@offsetgroup@@:@@REFRGRATD DOUGH PRODUCTS@@,@@orientation@@:@@v@@,@@showlegend@@:true,@@textposition@@:@@auto@@,@@texttemplate@@:@@%{y}@@,@@x@@:[@@TypeB@@,@@TypeB@@,@@TypeB@@,@@TypeB@@,@@TypeC@@,@@TypeC@@,@@TypeC@@,@@TypeC@@,@@TypeA@@,@@TypeA@@,@@TypeA@@,@@TypeA@@],@@xaxis@@:@@x@@,@@y@@:[0.0,0.0,0.0,0.0,0.0,0.0,0.0,0.0,0.0,0.0,2.0,0.0],@@yaxis@@:@@y@@,@@type@@:@@bar@@},{@@alignmentgroup@@:@@True@@,@@hovertemplate@@:@@Product Category=SALD DRSNG\\\\u002fSNDWCH SPRD\\\\u003cbr\\\\u003eCampaign Type=%{x}\\\\u003cbr\\\\u003eNumber of Households=%{y}\\\\u003cextra\\\\u003e\\\\u003c\\\\u002fextra\\\\u003e@@,@@legendgroup@@:@@SALD DRSNG\\\\u002fSNDWCH SPRD@@,@@marker@@:{@@color@@:@@#19d3f3@@,@@pattern@@:{@@shape@@:@@@@}},@@name@@:@@SALD DRSNG\\\\u002fSNDWCH SPRD@@,@@offsetgroup@@:@@SALD DRSNG\\\\u002fSNDWCH SPRD@@,@@orientation@@:@@v@@,@@showlegend@@:true,@@textposition@@:@@auto@@,@@texttemplate@@:@@%{y}@@,@@x@@:[@@TypeB@@,@@TypeB@@,@@TypeB@@,@@TypeB@@,@@TypeC@@,@@TypeC@@,@@TypeC@@,@@TypeC@@,@@TypeA@@,@@TypeA@@,@@TypeA@@,@@TypeA@@],@@xaxis@@:@@x@@,@@y@@:[0.0,0.0,0.0,0.0,0.0,0.0,0.0,0.0,0.0,0.0,1.0,0.0],@@yaxis@@:@@y@@,@@type@@:@@bar@@},{@@alignmentgroup@@:@@True@@,@@hovertemplate@@:@@Product Category=SOFT DRINKS\\\\u003cbr\\\\u003eCampaign Type=%{x}\\\\u003cbr\\\\u003eNumber of Households=%{y}\\\\u003cextra\\\\u003e\\\\u003c\\\\u002fextra\\\\u003e@@,@@legendgroup@@:@@SOFT DRINKS@@,@@marker@@:{@@color@@:@@#FF6692@@,@@pattern@@:{@@shape@@:@@@@}},@@name@@:@@SOFT DRINKS@@,@@offsetgroup@@:@@SOFT DRINKS@@,@@orientation@@:@@v@@,@@showlegend@@:true,@@textposition@@:@@auto@@,@@texttemplate@@:@@%{y}@@,@@x@@:[@@TypeB@@,@@TypeB@@,@@TypeB@@,@@TypeB@@,@@TypeC@@,@@TypeC@@,@@TypeC@@,@@TypeC@@,@@TypeA@@,@@TypeA@@,@@TypeA@@,@@TypeA@@],@@xaxis@@:@@x@@,@@y@@:[0.0,0.0,0.0,1.0,0.0,0.0,0.0,0.0,0.0,0.0,0.0,0.0],@@yaxis@@:@@y@@,@@type@@:@@bar@@}],                        {@@barmode@@:@@stack@@,@@legend@@:{@@title@@:{@@text@@:@@Product Category@@},@@tracegroupgap@@:0},@@template@@:{@@data@@:{@@barpolar@@:[{@@marker@@:{@@line@@:{@@color@@:@@#E5ECF6@@,@@width@@:0.5},@@pattern@@:{@@fillmode@@:@@overlay@@,@@size@@:10,@@solidity@@:0.2}},@@type@@:@@barpolar@@}],@@bar@@:[{@@error_x@@:{@@color@@:@@#2a3f5f@@},@@error_y@@:{@@color@@:@@#2a3f5f@@},@@marker@@:{@@line@@:{@@color@@:@@#E5ECF6@@,@@width@@:0.5},@@pattern@@:{@@fillmode@@:@@overlay@@,@@size@@:10,@@solidity@@:0.2}},@@type@@:@@bar@@}],@@carpet@@:[{@@aaxis@@:{@@endlinecolor@@:@@#2a3f5f@@,@@gridcolor@@:@@white@@,@@linecolor@@:@@white@@,@@minorgridcolor@@:@@white@@,@@startlinecolor@@:@@#2a3f5f@@},@@baxis@@:{@@endlinecolor@@:@@#2a3f5f@@,@@gridcolor@@:@@white@@,@@linecolor@@:@@white@@,@@minorgridcolor@@:@@white@@,@@startlinecolor@@:@@#2a3f5f@@},@@type@@:@@carpet@@}],@@choropleth@@:[{@@colorbar@@:{@@outlinewidth@@:0,@@ticks@@:@@@@},@@type@@:@@choropleth@@}],@@contourcarpet@@:[{@@colorbar@@:{@@outlinewidth@@:0,@@ticks@@:@@@@},@@type@@:@@contourcarpet@@}],@@contour@@:[{@@colorbar@@:{@@outlinewidth@@:0,@@ticks@@:@@@@},@@colorscale@@:[[0.0,@@#0d0887@@],[0.1111111111111111,@@#46039f@@],[0.2222222222222222,@@#7201a8@@],[0.3333333333333333,@@#9c179e@@],[0.4444444444444444,@@#bd3786@@],[0.5555555555555556,@@#d8576b@@],[0.6666666666666666,@@#ed7953@@],[0.7777777777777778,@@#fb9f3a@@],[0.8888888888888888,@@#fdca26@@],[1.0,@@#f0f921@@]],@@type@@:@@contour@@}],@@heatmapgl@@:[{@@colorbar@@:{@@outlinewidth@@:0,@@ticks@@:@@@@},@@colorscale@@:[[0.0,@@#0d0887@@],[0.1111111111111111,@@#46039f@@],[0.2222222222222222,@@#7201a8@@],[0.3333333333333333,@@#9c179e@@],[0.4444444444444444,@@#bd3786@@],[0.5555555555555556,@@#d8576b@@],[0.6666666666666666,@@#ed7953@@],[0.7777777777777778,@@#fb9f3a@@],[0.8888888888888888,@@#fdca26@@],[1.0,@@#f0f921@@]],@@type@@:@@heatmapgl@@}],@@heatmap@@:[{@@colorbar@@:{@@outlinewidth@@:0,@@ticks@@:@@@@},@@colorscale@@:[[0.0,@@#0d0887@@],[0.1111111111111111,@@#46039f@@],[0.2222222222222222,@@#7201a8@@],[0.3333333333333333,@@#9c179e@@],[0.4444444444444444,@@#bd3786@@],[0.5555555555555556,@@#d8576b@@],[0.6666666666666666,@@#ed7953@@],[0.7777777777777778,@@#fb9f3a@@],[0.8888888888888888,@@#fdca26@@],[1.0,@@#f0f921@@]],@@type@@:@@heatmap@@}],@@histogram2dcontour@@:[{@@colorbar@@:{@@outlinewidth@@:0,@@ticks@@:@@@@},@@colorscale@@:[[0.0,@@#0d0887@@],[0.1111111111111111,@@#46039f@@],[0.2222222222222222,@@#7201a8@@],[0.3333333333333333,@@#9c179e@@],[0.4444444444444444,@@#bd3786@@],[0.5555555555555556,@@#d8576b@@],[0.6666666666666666,@@#ed7953@@],[0.7777777777777778,@@#fb9f3a@@],[0.8888888888888888,@@#fdca26@@],[1.0,@@#f0f921@@]],@@type@@:@@histogram2dcontour@@}],@@histogram2d@@:[{@@colorbar@@:{@@outlinewidth@@:0,@@ticks@@:@@@@},@@colorscale@@:[[0.0,@@#0d0887@@],[0.1111111111111111,@@#46039f@@],[0.2222222222222222,@@#7201a8@@],[0.3333333333333333,@@#9c179e@@],[0.4444444444444444,@@#bd3786@@],[0.5555555555555556,@@#d8576b@@],[0.6666666666666666,@@#ed7953@@],[0.7777777777777778,@@#fb9f3a@@],[0.8888888888888888,@@#fdca26@@],[1.0,@@#f0f921@@]],@@type@@:@@histogram2d@@}],@@histogram@@:[{@@marker@@:{@@pattern@@:{@@fillmode@@:@@overlay@@,@@size@@:10,@@solidity@@:0.2}},@@type@@:@@histogram@@}],@@mesh3d@@:[{@@colorbar@@:{@@outlinewidth@@:0,@@ticks@@:@@@@},@@type@@:@@mesh3d@@}],@@parcoords@@:[{@@line@@:{@@colorbar@@:{@@outlinewidth@@:0,@@ticks@@:@@@@}},@@type@@:@@parcoords@@}],@@pie@@:[{@@automargin@@:true,@@type@@:@@pie@@}],@@scatter3d@@:[{@@line@@:{@@colorbar@@:{@@outlinewidth@@:0,@@ticks@@:@@@@}},@@marker@@:{@@colorbar@@:{@@outlinewidth@@:0,@@ticks@@:@@@@}},@@type@@:@@scatter3d@@}],@@scattercarpet@@:[{@@marker@@:{@@colorbar@@:{@@outlinewidth@@:0,@@ticks@@:@@@@}},@@type@@:@@scattercarpet@@}],@@scattergeo@@:[{@@marker@@:{@@colorbar@@:{@@outlinewidth@@:0,@@ticks@@:@@@@}},@@type@@:@@scattergeo@@}],@@scattergl@@:[{@@marker@@:{@@colorbar@@:{@@outlinewidth@@:0,@@ticks@@:@@@@}},@@type@@:@@scattergl@@}],@@scattermapbox@@:[{@@marker@@:{@@colorbar@@:{@@outlinewidth@@:0,@@ticks@@:@@@@}},@@type@@:@@scattermapbox@@}],@@scatterpolargl@@:[{@@marker@@:{@@colorbar@@:{@@outlinewidth@@:0,@@ticks@@:@@@@}},@@type@@:@@scatterpolargl@@}],@@scatterpolar@@:[{@@marker@@:{@@colorbar@@:{@@outlinewidth@@:0,@@ticks@@:@@@@}},@@type@@:@@scatterpolar@@}],@@scatter@@:[{@@fillpattern@@:{@@fillmode@@:@@overlay@@,@@size@@:10,@@solidity@@:0.2},@@type@@:@@scatter@@}],@@scatterternary@@:[{@@marker@@:{@@colorbar@@:{@@outlinewidth@@:0,@@ticks@@:@@@@}},@@type@@:@@scatterternary@@}],@@surface@@:[{@@colorbar@@:{@@outlinewidth@@:0,@@ticks@@:@@@@},@@colorscale@@:[[0.0,@@#0d0887@@],[0.1111111111111111,@@#46039f@@],[0.2222222222222222,@@#7201a8@@],[0.3333333333333333,@@#9c179e@@],[0.4444444444444444,@@#bd3786@@],[0.5555555555555556,@@#d8576b@@],[0.6666666666666666,@@#ed7953@@],[0.7777777777777778,@@#fb9f3a@@],[0.8888888888888888,@@#fdca26@@],[1.0,@@#f0f921@@]],@@type@@:@@surface@@}],@@table@@:[{@@cells@@:{@@fill@@:{@@color@@:@@#EBF0F8@@},@@line@@:{@@color@@:@@white@@}},@@header@@:{@@fill@@:{@@color@@:@@#C8D4E3@@},@@line@@:{@@color@@:@@white@@}},@@type@@:@@table@@}]},@@layout@@:{@@annotationdefaults@@:{@@arrowcolor@@:@@#2a3f5f@@,@@arrowhead@@:0,@@arrowwidth@@:1},@@autotypenumbers@@:@@strict@@,@@coloraxis@@:{@@colorbar@@:{@@outlinewidth@@:0,@@ticks@@:@@@@}},@@colorscale@@:{@@diverging@@:[[0,@@#8e0152@@],[0.1,@@#c51b7d@@],[0.2,@@#de77ae@@],[0.3,@@#f1b6da@@],[0.4,@@#fde0ef@@],[0.5,@@#f7f7f7@@],[0.6,@@#e6f5d0@@],[0.7,@@#b8e186@@],[0.8,@@#7fbc41@@],[0.9,@@#4d9221@@],[1,@@#276419@@]],@@sequential@@:[[0.0,@@#0d0887@@],[0.1111111111111111,@@#46039f@@],[0.2222222222222222,@@#7201a8@@],[0.3333333333333333,@@#9c179e@@],[0.4444444444444444,@@#bd3786@@],[0.5555555555555556,@@#d8576b@@],[0.6666666666666666,@@#ed7953@@],[0.7777777777777778,@@#fb9f3a@@],[0.8888888888888888,@@#fdca26@@],[1.0,@@#f0f921@@]],@@sequentialminus@@:[[0.0,@@#0d0887@@],[0.1111111111111111,@@#46039f@@],[0.2222222222222222,@@#7201a8@@],[0.3333333333333333,@@#9c179e@@],[0.4444444444444444,@@#bd3786@@],[0.5555555555555556,@@#d8576b@@],[0.6666666666666666,@@#ed7953@@],[0.7777777777777778,@@#fb9f3a@@],[0.8888888888888888,@@#fdca26@@],[1.0,@@#f0f921@@]]},@@colorway@@:[@@#636efa@@,@@#EF553B@@,@@#00cc96@@,@@#ab63fa@@,@@#FFA15A@@,@@#19d3f3@@,@@#FF6692@@,@@#B6E880@@,@@#FF97FF@@,@@#FECB52@@],@@font@@:{@@color@@:@@#2a3f5f@@},@@geo@@:{@@bgcolor@@:@@white@@,@@lakecolor@@:@@white@@,@@landcolor@@:@@#E5ECF6@@,@@showlakes@@:true,@@showland@@:true,@@subunitcolor@@:@@white@@},@@hoverlabel@@:{@@align@@:@@left@@},@@hovermode@@:@@closest@@,@@mapbox@@:{@@style@@:@@light@@},@@paper_bgcolor@@:@@white@@,@@plot_bgcolor@@:@@#E5ECF6@@,@@polar@@:{@@angularaxis@@:{@@gridcolor@@:@@white@@,@@linecolor@@:@@white@@,@@ticks@@:@@@@},@@bgcolor@@:@@#E5ECF6@@,@@radialaxis@@:{@@gridcolor@@:@@white@@,@@linecolor@@:@@white@@,@@ticks@@:@@@@}},@@scene@@:{@@xaxis@@:{@@backgroundcolor@@:@@#E5ECF6@@,@@gridcolor@@:@@white@@,@@gridwidth@@:2,@@linecolor@@:@@white@@,@@showbackground@@:true,@@ticks@@:@@@@,@@zerolinecolor@@:@@white@@},@@yaxis@@:{@@backgroundcolor@@:@@#E5ECF6@@,@@gridcolor@@:@@white@@,@@gridwidth@@:2,@@linecolor@@:@@white@@,@@showbackground@@:true,@@ticks@@:@@@@,@@zerolinecolor@@:@@white@@},@@zaxis@@:{@@backgroundcolor@@:@@#E5ECF6@@,@@gridcolor@@:@@white@@,@@gridwidth@@:2,@@linecolor@@:@@white@@,@@showbackground@@:true,@@ticks@@:@@@@,@@zerolinecolor@@:@@white@@}},@@shapedefaults@@:{@@line@@:{@@color@@:@@#2a3f5f@@}},@@ternary@@:{@@aaxis@@:{@@gridcolor@@:@@white@@,@@linecolor@@:@@white@@,@@ticks@@:@@@@},@@baxis@@:{@@gridcolor@@:@@white@@,@@linecolor@@:@@white@@,@@ticks@@:@@@@},@@bgcolor@@:@@#E5ECF6@@,@@caxis@@:{@@gridcolor@@:@@white@@,@@linecolor@@:@@white@@,@@ticks@@:@@@@}},@@title@@:{@@x@@:0.05},@@xaxis@@:{@@automargin@@:true,@@gridcolor@@:@@white@@,@@linecolor@@:@@white@@,@@ticks@@:@@@@,@@title@@:{@@standoff@@:15},@@zerolinecolor@@:@@white@@,@@zerolinewidth@@:2},@@yaxis@@:{@@automargin@@:true,@@gridcolor@@:@@white@@,@@linecolor@@:@@white@@,@@ticks@@:@@@@,@@title@@:{@@standoff@@:15},@@zerolinecolor@@:@@white@@,@@zerolinewidth@@:2}}},@@title@@:{@@text@@:@@Top 10 Product Categories Bought on Offer by Campaign Type@@},@@xaxis@@:{@@anchor@@:@@y@@,@@domain@@:[0.0,1.0],@@title@@:{@@text@@:@@Campaign Type@@}},@@yaxis@@:{@@anchor@@:@@x@@,@@domain@@:[0.0,1.0],@@title@@:{@@text@@:@@Number of Households@@}}},                        {@@responsive@@: true}                    )', 'id': 9, 'name': 'Top 10 Product Categories Bought on Offer by Campaign Type', 'title': 'Top 10 Product Categories Bought on Offer by Campaign Type', 'type': 'plotly', 'resultType': 3, 'visibility': 'EXPANDED', 'time': 'Aug 05, 2025 07:52:10 PM'}\n",
      "Not sending message to fire_notebook server as the post back URL is not http\n",
      "Sending Message: {\"progress\": \"100\", \"id\": 9, \"name\": \"Progress\", \"title\": \"Progress\", \"type\": \"progress\", \"resultType\": 3, \"visibility\": \"EXPANDED\", \"time\": \"Aug 05, 2025 07:52:10 PM\"}\n",
      "Not sending message to fire_notebook server as the post back URL is not http\n",
      "Sending Message: {\"text\": \"Job Execution Completed.\", \"id\": 9, \"name\": \"Success\", \"title\": \"Success\", \"type\": \"success\", \"resultType\": 3, \"visibility\": \"EXPANDED\", \"time\": \"Aug 05, 2025 07:52:10 PM\"}\n",
      "Not sending message to fire_notebook server as the post back URL is not http\n"
     ]
    }
   ],
   "source": [
    "# Filter the data to include only redeemed coupons\n",
    "\n",
    "df_redeemed = df[df['discount_availed'] == 'redeemed']\n",
    "\n",
    "# Group by product category (COMMODITY_DESC) and sum up the total household counts across all campaigns and coupon types\n",
    "top_10_categories_total = df_redeemed.groupby('COMMODITY_DESC').size().nlargest(10).index\n",
    "\n",
    "df_filtered = df_redeemed[df_redeemed['COMMODITY_DESC'].isin(top_10_categories_total)]\n",
    "\n",
    "# Group by campaign description (DESCRIPTION), coupon type (redemption_type), and product category (COMMODITY_DESC)\n",
    "category_counts = df_filtered.groupby(['DESCRIPTION', 'redemption_type', 'COMMODITY_DESC']).size().reset_index(name='Household Count')\n",
    "\n",
    "# Get all unique combinations of DESCRIPTION and redemption_type\n",
    "all_descriptions = df['DESCRIPTION'].unique()\n",
    "all_coupon_types = df['redemption_type'].unique()\n",
    "\n",
    "# Create a DataFrame with all possible combinations of DESCRIPTION, redemption_type, and the top 10 COMMODITY_DESC\n",
    "all_combinations = pd.MultiIndex.from_product([all_descriptions, all_coupon_types, top_10_categories_total], names=['DESCRIPTION', 'redemption_type', 'COMMODITY_DESC']).to_frame(index=False)\n",
    "\n",
    "# Merge the actual data with all_combinations to ensure all combinations are represented\n",
    "complete_data = pd.merge(all_combinations, category_counts, on=['DESCRIPTION', 'redemption_type', 'COMMODITY_DESC'], how='left')\n",
    "\n",
    "complete_data['Household Count'] = complete_data['Household Count'].fillna(0)\n",
    "\n",
    "# Create a stacked bar chart\n",
    "fig = px.bar(\n",
    "    complete_data, \n",
    "    x='DESCRIPTION', \n",
    "    y='Household Count', \n",
    "    color='COMMODITY_DESC', \n",
    "    title='Top 10 Product Categories Bought on Offer by Campaign Type',\n",
    "    labels={'DESCRIPTION': 'Campaign Type', 'Household Count': 'Number of Households', 'COMMODITY_DESC': 'Product Category'},\n",
    "    text_auto=True\n",
    ")\n",
    "\n",
    "fig.update_layout(\n",
    "    barmode='stack',\n",
    "    xaxis_title='Campaign Type', \n",
    "    yaxis_title='Number of Households',\n",
    "    legend_title_text='Product Category'\n",
    ")\n",
    "\n",
    "test = plotly.offline.plot(fig, output_type='div', include_plotlyjs=False)\n",
    "example_plotly = f'{test}'\n",
    "restworkflowcontext.outPlotly(9, title=\"Top 10 Product Categories Bought on Offer by Campaign Type\", text=example_plotly)\n",
    "\n",
    "# Show the figure\n",
    "#fig.show()\n",
    "\n",
    "message=\"100\"\n",
    "restworkflowcontext.outputProgress(9, title=\"Progress\", progress=message)\n",
    "\n",
    "message = \"Job Execution Completed.\"\n",
    "restworkflowcontext.outSuccess(9, title=\"Success\", text=message)"
   ]
  }
 ],
 "metadata": {
  "kernelspec": {
   "display_name": "Python 3 (ipykernel)",
   "language": "python",
   "name": "python3"
  },
  "language_info": {
   "codemirror_mode": {
    "name": "ipython",
    "version": 3
   },
   "file_extension": ".py",
   "mimetype": "text/x-python",
   "name": "python",
   "nbconvert_exporter": "python",
   "pygments_lexer": "ipython3",
   "version": "3.12.3"
  }
 },
 "nbformat": 4,
 "nbformat_minor": 5
}
