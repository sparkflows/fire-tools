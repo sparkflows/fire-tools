{
 "cells": [
  {
   "cell_type": "markdown",
   "id": "248720b0",
   "metadata": {},
   "source": [
    "# IOT Project EDA Rest Workflow Context Porting Example"
   ]
  },
  {
   "cell_type": "code",
   "execution_count": null,
   "id": "6671d9df",
   "metadata": {},
   "outputs": [
    {
     "ename": "",
     "evalue": "",
     "output_type": "error",
     "traceback": [
      "\u001b[1;31mRunning cells with 'Python 3.11.9' requires the ipykernel package.\n",
      "\u001b[1;31m<a href='command:jupyter.createPythonEnvAndSelectController'>Create a Python Environment</a> with the required packages.\n",
      "\u001b[1;31mOr install 'ipykernel' using the command: 'c:/Users/NMBR-4M7QD93/AppData/Local/Microsoft/WindowsApps/python3.11.exe -m pip install ipykernel -U --user --force-reinstall'"
     ]
    }
   ],
   "source": [
    "import pandas as pd\n",
    "import numpy as np\n",
    "import matplotlib.pyplot as plt\n",
    "import seaborn as sns"
   ]
  },
  {
   "cell_type": "code",
   "execution_count": null,
   "id": "70759142",
   "metadata": {},
   "outputs": [],
   "source": [
    "#Initialize and Start Execution\n",
    "from fire_notebook.output.workflowcontext import RestWorkflowContext\n",
    "import sys"
   ]
  },
  {
   "cell_type": "code",
   "execution_count": null,
   "id": "6aaa3345",
   "metadata": {},
   "outputs": [],
   "source": [
    "# Read CSV using pandas\n",
    "df = pd.read_csv(\"IoTEnergySolutionsEDA.csv\")\n",
    "development = 'local1'"
   ]
  },
  {
   "cell_type": "code",
   "execution_count": null,
   "id": "cff7e947",
   "metadata": {},
   "outputs": [],
   "source": [
    "# Cast 'timestamp' to pandas datetime\n",
    "df['timestamp'] = pd.to_datetime(df['timestamp'])\n",
    "\n",
    "# Extract time fields (hour, minute, second)\n",
    "df['timestamp_hour'] = df['timestamp'].dt.hour\n",
    "df['timestamp_minute'] = df['timestamp'].dt.minute\n",
    "df['timestamp_second'] = df['timestamp'].dt.second\n",
    "# Extract year and month\n",
    "df['year'] = df['timestamp'].dt.year\n",
    "df['month'] = df['timestamp'].dt.month\n",
    "\n",
    "# Create concatenated 'Time' column\n",
    "df['Time'] = df['timestamp_hour'].astype(str) + ':' + df['timestamp_minute'].astype(str) + ':' + df['timestamp_second'].astype(str)"
   ]
  },
  {
   "cell_type": "code",
   "execution_count": null,
   "id": "f6791745",
   "metadata": {
    "scrolled": true
   },
   "outputs": [],
   "source": [
    "print(df.info())"
   ]
  },
  {
   "cell_type": "code",
   "execution_count": null,
   "id": "376b9e97",
   "metadata": {},
   "outputs": [],
   "source": [
    "#IOT had only one parameter passed from App to workflow/Notebook for filetering devices\n",
    "#Additional parameter to be added to the App ---> selectParameter\n",
    "#If development environment is local, initializing custom parameter to 'selectDevices'\n",
    "#selectParameter_values = ['energy_generation', 'energy_consumption', 'voltage', 'current', 'power', 'frequency']\n",
    "parameter_from_App = ['selectDevice', 'selectParameter']\n",
    "if development == 'local':\n",
    "    parameters_custom = parameter_from_App[0]+'='+'meter_2'+parameter_from_App[1]+'='+'energy_generation'\n",
    "    parameters_list = [\"placeholder\", \"http://localhost\", \"default_job_id\", parameters_custom]\n",
    "else:\n",
    "    parameters_list = sys.argv"
   ]
  },
  {
   "cell_type": "code",
   "execution_count": null,
   "id": "3f9bcd82",
   "metadata": {},
   "outputs": [],
   "source": [
    "#Creating an instance of the RestWorkflowContext class\n",
    "restworkflowcontext = RestWorkflowContext(parameters=parameters_list)"
   ]
  },
  {
   "cell_type": "code",
   "execution_count": null,
   "id": "aa78d353",
   "metadata": {},
   "outputs": [],
   "source": [
    "#Initializing the value of the parameter from the App using getParameters API\n",
    "#custom_parameters = \"param1=value1,param2=value2,param3=value3\n",
    "device_id = restworkflowcontext.getParmeters(parameter_name=parameter_from_App[0], default=\"meter_2\")\n",
    "graph_param = restworkflowcontext.getParmeters(parameter_name=parameter_from_App[1], default=\"energy_generation\")\n",
    "print('parameter[0] = ',device_id, ',','parameter[1] = ',graph_param)"
   ]
  },
  {
   "cell_type": "code",
   "execution_count": null,
   "id": "eb680dfa",
   "metadata": {},
   "outputs": [],
   "source": [
    "# Print the first few rows to ensure data was read correctly\n",
    "restworkflowcontext.outPandasDataframe(9,\"IoT Energy DF\", df, 10)"
   ]
  },
  {
   "cell_type": "markdown",
   "id": "0e442c84",
   "metadata": {},
   "source": [
    "# ---- Data Visualizations ----"
   ]
  },
  {
   "cell_type": "code",
   "execution_count": null,
   "id": "49cb8bc7",
   "metadata": {},
   "outputs": [],
   "source": [
    "\n",
    "import plotly.graph_objs as go\n",
    "import plotly.io as pio\n",
    "import plotly\n",
    "import plotly.offline as py"
   ]
  },
  {
   "cell_type": "markdown",
   "id": "110b4c8b",
   "metadata": {},
   "source": [
    "# Histogram for all feature columns"
   ]
  },
  {
   "cell_type": "code",
   "execution_count": null,
   "id": "2f5b14a3",
   "metadata": {},
   "outputs": [],
   "source": [
    "#Get input from user for the selectParameter from list of options\n",
    "#selectParameter_values = ['energy_generation', 'energy_consumption', 'voltage', 'current', 'power', 'frequency']\n",
    "graph_param = restworkflowcontext.getParmeters(parameter_name=parameter_from_App[1], default=\"energy_generation\")\n",
    "graph_param"
   ]
  },
  {
   "cell_type": "code",
   "execution_count": null,
   "id": "4122ae27",
   "metadata": {},
   "outputs": [],
   "source": [
    "fig = plotly.offline.plot([go.Histogram(x=df[graph_param], nbinsx=30)], \n",
    "              output_type='div', include_plotlyjs=False)\n",
    "\n",
    "histogram_to_plot = f'{fig}'\n",
    "restworkflowcontext.outPlotly(id=9,title=\"Histogram of energy_generation\", text = histogram_to_plot)\n"
   ]
  },
  {
   "cell_type": "markdown",
   "id": "d4ab4891",
   "metadata": {},
   "source": [
    "# Boxplot to anlayze outliers"
   ]
  },
  {
   "cell_type": "code",
   "execution_count": null,
   "id": "e0d6d947",
   "metadata": {},
   "outputs": [],
   "source": [
    "import plotly.graph_objs as go\n",
    "import plotly.io as pio\n",
    "import plotly.offline as py"
   ]
  },
  {
   "cell_type": "code",
   "execution_count": null,
   "id": "20cd10a3",
   "metadata": {},
   "outputs": [],
   "source": [
    "#Get input from user for the selectParameter from list of options\n",
    "#selectParameter_values = ['energy_generation', 'energy_consumption', 'voltage', 'current', 'power', 'frequency']\n",
    "graph_param = restworkflowcontext.getParmeters(parameter_name=parameter_from_App[1], default=\"voltage\")\n",
    "graph_param"
   ]
  },
  {
   "cell_type": "code",
   "execution_count": null,
   "id": "ea752d57",
   "metadata": {},
   "outputs": [],
   "source": [
    "fig = plotly.offline.plot([go.Box(y=df[graph_param], boxpoints='all', jitter=0.3, pointpos=-1.8)],\n",
    "                 output_type='div',\n",
    "                include_plotlyjs=False)"
   ]
  },
  {
   "cell_type": "code",
   "execution_count": null,
   "id": "c721aaa5",
   "metadata": {
    "scrolled": true
   },
   "outputs": [],
   "source": [
    "boxplot_to_plot = f'{fig}'\n",
    "restworkflowcontext.outPlotly(id=9,title=\"Boxplot of {graph_param}\", text = boxplot_to_plot)"
   ]
  },
  {
   "cell_type": "markdown",
   "id": "0428a1f2",
   "metadata": {},
   "source": [
    "# Correlation Matrix"
   ]
  },
  {
   "cell_type": "code",
   "execution_count": null,
   "id": "2c681cf1",
   "metadata": {},
   "outputs": [],
   "source": [
    "# Plot correlation matrix\n",
    "numeric_cols = ['energy_generation', 'energy_consumption', 'voltage', 'current', 'power', 'frequency']\n",
    "correlation_matrix = df[numeric_cols].corr()\n",
    "custom_colorscale = [[0.0, \"grey\"],[0.5, \"orange\"],[1.0, \"red\"]]\n",
    "fig = plotly.offline.plot([go.Heatmap(z=correlation_matrix.values,\n",
    "                     x=correlation_matrix.columns,\n",
    "                     y=correlation_matrix.columns,\n",
    "                     colorscale=custom_colorscale)],\n",
    "                 output_type='div',\n",
    "                include_plotlyjs=False)"
   ]
  },
  {
   "cell_type": "code",
   "execution_count": null,
   "id": "a5116926",
   "metadata": {},
   "outputs": [],
   "source": [
    "correlation_matrix = f'{fig}'\n",
    "restworkflowcontext.outPlotly(id=9,title=\"Correlation matrix of energy_generation\", text = correlation_matrix)"
   ]
  },
  {
   "cell_type": "markdown",
   "id": "f076030c",
   "metadata": {},
   "source": [
    "# Line plot for energy consumption for selected device"
   ]
  },
  {
   "cell_type": "code",
   "execution_count": null,
   "id": "1c4a1303",
   "metadata": {
    "scrolled": true
   },
   "outputs": [],
   "source": [
    "# 4. Filtering based on device IDs\n",
    "df_filtered = df[df['device_id']==device_id]\n",
    "device_id\n",
    "print(df_filtered.head(100))"
   ]
  },
  {
   "cell_type": "code",
   "execution_count": null,
   "id": "5cb792b7",
   "metadata": {},
   "outputs": [],
   "source": [
    "# Print filtered device IDs\n",
    "print('Devices:')\n",
    "print(df_filtered['device_id'].unique())\n",
    "print(df['month'].unique())"
   ]
  },
  {
   "cell_type": "code",
   "execution_count": null,
   "id": "b019b7e8",
   "metadata": {},
   "outputs": [],
   "source": [
    "#Get input from user for the selectParameter from list of options\n",
    "#selectParameter_values = ['energy_generation', 'energy_consumption', 'voltage', 'current', 'power', 'frequency']\n",
    "selectParameter_values = ['energy_generation', 'energy_consumption', 'voltage', 'current', 'power']\n",
    "graph_param = restworkflowcontext.getParmeters(parameter_name=parameter_from_App[1], default=selectParameter_values)\n",
    "graph_param\n"
   ]
  },
  {
   "cell_type": "code",
   "execution_count": null,
   "id": "d5f0ead5",
   "metadata": {},
   "outputs": [],
   "source": [
    "energy = plotly.offline.plot([go.Scatter(x=df_filtered['timestamp'], y=df_filtered[graph_param])],\n",
    "                 output_type='div',\n",
    "                include_plotlyjs=False)"
   ]
  },
  {
   "cell_type": "code",
   "execution_count": null,
   "id": "d8a62f27",
   "metadata": {},
   "outputs": [],
   "source": [
    "energy_plotly = f'{energy}'\n",
    "restworkflowcontext.outPlotly(id=9,title=\"Line plot of {graph_param}\", text = energy_plotly)"
   ]
  },
  {
   "cell_type": "code",
   "execution_count": null,
   "id": "e85cdf34",
   "metadata": {},
   "outputs": [],
   "source": [
    "from IPython.display import HTML\n",
    "import plotly.graph_objs as go\n",
    "import plotly\n",
    "\n",
    "energy = plotly.offline.plot(\n",
    "    [go.Scatter(x=df_filtered['timestamp'], y=df_filtered[graph_param])],\n",
    "    output_type='div',\n",
    "    include_plotlyjs=True  # Needed for Jupyter\n",
    ")\n",
    "\n",
    "HTML(energy)"
   ]
  },
  {
   "cell_type": "code",
   "execution_count": null,
   "id": "80c3153b-d44f-463f-8b82-a2cdc15cc830",
   "metadata": {},
   "outputs": [],
   "source": []
  }
 ],
 "metadata": {
  "kernelspec": {
   "display_name": "Python 3",
   "language": "python",
   "name": "python3"
  },
  "language_info": {
   "codemirror_mode": {
    "name": "ipython",
    "version": 3
   },
   "file_extension": ".py",
   "mimetype": "text/x-python",
   "name": "python",
   "nbconvert_exporter": "python",
   "pygments_lexer": "ipython3",
   "version": "3.11.9"
  }
 },
 "nbformat": 4,
 "nbformat_minor": 5
}
